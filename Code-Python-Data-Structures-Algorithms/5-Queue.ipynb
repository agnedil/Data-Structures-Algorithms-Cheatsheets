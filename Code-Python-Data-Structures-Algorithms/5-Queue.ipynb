{
 "cells": [
  {
   "cell_type": "markdown",
   "metadata": {},
   "source": [
    "Queue is another linear data structure that follows a fisrt in, first out (FIFO) fashion. It supports functionalities such as __enqueue, dequeue, size, peek__."
   ]
  },
  {
   "cell_type": "code",
   "execution_count": 1,
   "metadata": {},
   "outputs": [],
   "source": [
    "from collections import deque\n",
    "\n",
    "# Queue implementation using deque (Double ended queue)\n",
    "class Queue:\n",
    "    def __init__(self):\n",
    "        self.data = deque()\n",
    "        \n",
    "    def size(self):\n",
    "        return len(self.data)\n",
    "        \n",
    "    def enqueue(self, data):\n",
    "        self.data.append(data)\n",
    "        \n",
    "    def dequeue(self):\n",
    "        return None if self.size() == 0 else self.data.popleft()\n",
    "    \n",
    "    def peek(self):\n",
    "        return None if self.size() == 0 else self.data[0]"
   ]
  },
  {
   "cell_type": "code",
   "execution_count": 4,
   "metadata": {},
   "outputs": [
    {
     "name": "stdout",
     "output_type": "stream",
     "text": [
      "6\n",
      "python\n",
      "python\n",
      "5\n",
      "java\n"
     ]
    }
   ],
   "source": [
    "q = Queue()\n",
    "for language in (\"python\", \"java\", \"c++\", \"kotlin\", \"go\", \"javascript\"):\n",
    "    q.enqueue(language)\n",
    "print(q.size())\n",
    "print(q.peek())\n",
    "print(q.dequeue())\n",
    "print(q.size())\n",
    "print(q.peek())\n",
    "del q"
   ]
  },
  {
   "cell_type": "markdown",
   "metadata": {},
   "source": [
    "This implementation uses a deque data structure from the module collections. We could have used a built in list just like our stack implementation. But while pop and append at the end of the list have O(1) time complexity, they have O(n) time complexity when done at the beginning of the list. Therefore, we use a deque, which stands for double ended queue. It support O(1) pop and append operations at both end, thus making our enqueue and dequeue operations __O(1)__."
   ]
  },
  {
   "cell_type": "markdown",
   "metadata": {},
   "source": [
    "Queue can be implemented using a Linked List as well, just like the stack implementation. We can add node to the end of the list to achieve enqueue, and delete node from the beginning to achieve dequeue. Both operations should have __O(1)__ time complexity.\n",
    "\n",
    "__Time Complexities__<br>\n",
    "<ul>\n",
    "    <li><b>enqueue</b>: O(1)</li>\n",
    "    <li><b>dequeue</b>: O(1)</li>\n",
    "    <li><b>size</b>: O(1)</li>\n",
    "    <li><b>peek</b>: O(1)</li>\n",
    "</ul>"
   ]
  }
 ],
 "metadata": {
  "kernelspec": {
   "display_name": "Python 3",
   "language": "python",
   "name": "python3"
  },
  "language_info": {
   "codemirror_mode": {
    "name": "ipython",
    "version": 3
   },
   "file_extension": ".py",
   "mimetype": "text/x-python",
   "name": "python",
   "nbconvert_exporter": "python",
   "pygments_lexer": "ipython3",
   "version": "3.6.3"
  }
 },
 "nbformat": 4,
 "nbformat_minor": 2
}
