{
 "cells": [
  {
   "cell_type": "markdown",
   "metadata": {},
   "source": [
    "Use a simple queue to simulate a media player."
   ]
  },
  {
   "cell_type": "code",
   "execution_count": 1,
   "metadata": {},
   "outputs": [],
   "source": [
    "from collections import deque\n",
    "\n",
    "class Queue:\n",
    "    def __init__(self):\n",
    "        self.data = deque()\n",
    "        \n",
    "    def size(self):\n",
    "        return len(self.data)\n",
    "        \n",
    "    def enqueue(self, data):\n",
    "        self.data.append(data)\n",
    "        \n",
    "    def dequeue(self):\n",
    "        return None if self.size() == 0 else self.data.popleft()\n",
    "    \n",
    "    def peek(self):\n",
    "        return None if self.size() == 0 else self.data[0]"
   ]
  },
  {
   "cell_type": "markdown",
   "metadata": {},
   "source": [
    "Simple Queue implementation using a deque taken straigt from previous work."
   ]
  },
  {
   "cell_type": "code",
   "execution_count": 4,
   "metadata": {},
   "outputs": [],
   "source": [
    "from random import randint\n",
    "\n",
    "class Track:\n",
    "    minLength = 5\n",
    "    maxLength = 10\n",
    "    \n",
    "    def __init__(self, title=None):\n",
    "        self.title = title\n",
    "        self.length = randint(Track.minLength, Track.maxLength)"
   ]
  },
  {
   "cell_type": "markdown",
   "metadata": {},
   "source": [
    "A simple music track class which keeps track of title and length, where the length is picked randomly from 5 to 10 (inclusive). "
   ]
  },
  {
   "cell_type": "code",
   "execution_count": 8,
   "metadata": {},
   "outputs": [
    {
     "name": "stdout",
     "output_type": "stream",
     "text": [
      "Title: Lemon Tree Length: 6\n",
      "Title: Happy Length: 10\n"
     ]
    }
   ],
   "source": [
    "t1 = Track(\"Lemon Tree\")\n",
    "t2 = Track(\"Happy\")\n",
    "print(\"Title: {} Length: {}\".format(t1.title, t1.length))\n",
    "print(\"Title: {} Length: {}\".format(t2.title, t2.length))"
   ]
  },
  {
   "cell_type": "code",
   "execution_count": 14,
   "metadata": {},
   "outputs": [],
   "source": [
    "import time\n",
    "\n",
    "class MediaPlayerQueue(Queue):\n",
    "    def __init__(self):\n",
    "        Queue.__init__(self)\n",
    "        \n",
    "    def add_track(self, track):\n",
    "        self.enqueue(track)\n",
    "        \n",
    "    def play(self):\n",
    "        currentTrack = self.dequeue()\n",
    "        while currentTrack is not None:\n",
    "            print(\"Playing {}...\".format(currentTrack.title))\n",
    "            time.sleep(currentTrack.length)\n",
    "            currentTrack = self.dequeue()\n",
    "        print(\"All tracks finished.\")"
   ]
  },
  {
   "cell_type": "code",
   "execution_count": 15,
   "metadata": {},
   "outputs": [
    {
     "name": "stdout",
     "output_type": "stream",
     "text": [
      "Playing Lemon Tree...\n",
      "Playing Happy...\n",
      "Playing Numb...\n",
      "Playing Legends Never Die...\n",
      "Playing Halo...\n",
      "All tracks finished.\n"
     ]
    }
   ],
   "source": [
    "mpq = MediaPlayerQueue()\n",
    "for track in (Track(\"Lemon Tree\"),\n",
    "              Track(\"Happy\"),\n",
    "              Track(\"Numb\"),\n",
    "              Track(\"Legends Never Die\"),\n",
    "              Track(\"Halo\")):\n",
    "    mpq.add_track(track)\n",
    "mpq.play()"
   ]
  },
  {
   "cell_type": "markdown",
   "metadata": {},
   "source": [
    "We pretty much just utilized the enqueue to mimic adding a track, and dequeu until empty to mimic playing through the whole list. One thing to note that MediaPlayerQueue inherites Queue, and build upon it. <br><br>\n",
    "__Time Complexities__<br>\n",
    "<ul>\n",
    "    <li><b>add track</b>: O(1)</li>\n",
    "    <li><b>play</b>: O(n)</li>\n",
    "</ul>"
   ]
  }
 ],
 "metadata": {
  "kernelspec": {
   "display_name": "Python 3",
   "language": "python",
   "name": "python3"
  },
  "language_info": {
   "codemirror_mode": {
    "name": "ipython",
    "version": 3
   },
   "file_extension": ".py",
   "mimetype": "text/x-python",
   "name": "python",
   "nbconvert_exporter": "python",
   "pygments_lexer": "ipython3",
   "version": "3.6.3"
  }
 },
 "nbformat": 4,
 "nbformat_minor": 2
}
