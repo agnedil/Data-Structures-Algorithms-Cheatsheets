{
 "cells": [
  {
   "cell_type": "markdown",
   "metadata": {},
   "source": [
    "Traversal of linear data structures are usually trivial, as we just go throught elements one by one. But we have more choices when it comes to trees. There are mainly two ways to visit all nodes in a tree, depth-first and breadth-first."
   ]
  },
  {
   "cell_type": "code",
   "execution_count": 1,
   "metadata": {},
   "outputs": [],
   "source": [
    "class TreeNode():\n",
    "    def __init__(self, data):\n",
    "        self.data = data\n",
    "        self.left = None\n",
    "        self.right = None\n",
    "        \n",
    "class Tree():\n",
    "    def __init__(self, root=None):\n",
    "        self.root = root"
   ]
  },
  {
   "cell_type": "markdown",
   "metadata": {},
   "source": [
    "We define a simple tree class. It's actually a binary tree class, just for the sake of simplexity, but the same concept can be applied to any general tree class."
   ]
  },
  {
   "cell_type": "code",
   "execution_count": 10,
   "metadata": {},
   "outputs": [],
   "source": [
    "# Three forms of DFT\n",
    "def preorder_traversal(root):\n",
    "    if root is None:\n",
    "        return\n",
    "    print(root.data, end=\" \")\n",
    "    preorder_traversal(root.left)\n",
    "    preorder_traversal(root.right)\n",
    "    \n",
    "def inorder_traversal(root):\n",
    "    if root is None:\n",
    "        return\n",
    "    inorder_traversal(root.left)\n",
    "    print(root.data, end=\" \")\n",
    "    inorder_traversal(root.right)\n",
    "    \n",
    "def postorder_traversal(root):\n",
    "    if root is None:\n",
    "        return \n",
    "    postorder_traversal(root.left)\n",
    "    postorder_traversal(root.right)\n",
    "    print(root.data, end=\" \")"
   ]
  },
  {
   "cell_type": "markdown",
   "metadata": {},
   "source": [
    "There are three forms of depth-first traversal, namely __preorder__, __inorder__, and __postorder__. Preorder means visit the current node first before proceeding to its children, inorder means vist left descendants first followed by current and right branch, and finally postorder means visit both branches first before visiting current. <br>\n",
    "The implemantions are fairly straight forward when we use recursions. And they only differ by the order of a few lines. Note recursion uses a stack internally, so we can actually use a __stack__ to implement all three without any recursion."
   ]
  },
  {
   "cell_type": "code",
   "execution_count": 13,
   "metadata": {},
   "outputs": [],
   "source": [
    "from collections import deque\n",
    "# BFT\n",
    "def breadth_first_traversal(root):\n",
    "    if root is None:\n",
    "        return \n",
    "    q = deque()\n",
    "    q.append(root)\n",
    "    while len(q) != 0:\n",
    "        current = q.popleft()\n",
    "        print(current.data, end=\" \")\n",
    "        if current.left is not None:\n",
    "            q.append(current.left)\n",
    "        if current.right is not None:\n",
    "            q.append(current.right)"
   ]
  },
  {
   "cell_type": "markdown",
   "metadata": {},
   "source": [
    "On the other hand, breadth first traversal visit all nodes level by level. It utilizes a __queue__ to achieve the functionality. "
   ]
  },
  {
   "cell_type": "code",
   "execution_count": 15,
   "metadata": {},
   "outputs": [
    {
     "name": "stdout",
     "output_type": "stream",
     "text": [
      "4 9 5 10 8 4 \n",
      "5 10 9 4 4 8 \n",
      "10 5 9 4 8 4 \n",
      "4 9 8 5 4 10 "
     ]
    }
   ],
   "source": [
    "#      4\n",
    "#     / \\\n",
    "#    9   8\n",
    "#   /   /\n",
    "#  5   4\n",
    "#   \\\n",
    "#   10\n",
    "n1 = TreeNode(4)\n",
    "n2 = TreeNode(9)\n",
    "n3 = TreeNode(8)\n",
    "n4 = TreeNode(5)\n",
    "n5 = TreeNode(10)\n",
    "n6 = TreeNode(4)\n",
    "tree = Tree(n1)\n",
    "n1.left = n2\n",
    "n1.right = n3\n",
    "n2.left = n4\n",
    "n4.right = n5\n",
    "n3.left = n6\n",
    "\n",
    "preorder_traversal(tree.root)\n",
    "print()\n",
    "inorder_traversal(tree.root)\n",
    "print()\n",
    "postorder_traversal(tree.root)\n",
    "print()\n",
    "breadth_first_traversal(tree.root)"
   ]
  },
  {
   "cell_type": "markdown",
   "metadata": {},
   "source": [
    "Some test code to test all four functions."
   ]
  },
  {
   "cell_type": "markdown",
   "metadata": {},
   "source": [
    "In summary, even though a __general tree__ is not a linear data structure, Both __traversal__ and __search__ still requires __O(n)__ time complexity, for all possible forms. "
   ]
  }
 ],
 "metadata": {
  "kernelspec": {
   "display_name": "Python 3",
   "language": "python",
   "name": "python3"
  },
  "language_info": {
   "codemirror_mode": {
    "name": "ipython",
    "version": 3
   },
   "file_extension": ".py",
   "mimetype": "text/x-python",
   "name": "python",
   "nbconvert_exporter": "python",
   "pygments_lexer": "ipython3",
   "version": "3.6.3"
  }
 },
 "nbformat": 4,
 "nbformat_minor": 2
}
