{
 "cells": [
  {
   "cell_type": "code",
   "execution_count": 1,
   "metadata": {},
   "outputs": [],
   "source": [
    "class ListNode:\n",
    "    def __init__(self, data):\n",
    "        self.data = data\n",
    "        self.next = None"
   ]
  },
  {
   "cell_type": "markdown",
   "metadata": {},
   "source": [
    "Circular list can be either singly linked or doubly linked. In our case, we decide to create a singly linked circular list. So the original ListNode class is taken as is. "
   ]
  },
  {
   "cell_type": "code",
   "execution_count": 2,
   "metadata": {},
   "outputs": [],
   "source": [
    "class CircularList:\n",
    "    def __init__(self):\n",
    "        self.head = None\n",
    "        self.tail = None\n",
    "        self.size = 0\n",
    "    \n",
    "    # Append data to the end of the least.\n",
    "    def append(self, data):\n",
    "        node = ListNode(data)\n",
    "        if self.head is None:\n",
    "            self.head = node\n",
    "            self.tail = node\n",
    "        else:\n",
    "            self.tail.next = node\n",
    "            self.tail = node\n",
    "        self.tail.next = self.head\n",
    "        self.size += 1\n",
    "        \n",
    "    def __iter__(self):\n",
    "        current = self.head\n",
    "        while current != self.tail:\n",
    "            data = current.data \n",
    "            current = current.next\n",
    "            yield data\n",
    "        if self.tail is not None:\n",
    "            yield self.tail.data"
   ]
  },
  {
   "cell_type": "markdown",
   "metadata": {},
   "source": [
    "Append for the list remains pretty much the same, except one extra line to link tail and head."
   ]
  },
  {
   "cell_type": "code",
   "execution_count": 3,
   "metadata": {},
   "outputs": [
    {
     "name": "stdout",
     "output_type": "stream",
     "text": [
      "China USA Canada Brazil France \n"
     ]
    }
   ],
   "source": [
    "cl = CircularList()\n",
    "for country in (\"China\", \"USA\", \"Canada\", \"Brazil\", \"France\"):\n",
    "    cl.append(country)\n",
    "for value in iter(cl):\n",
    "    print(value, end=\" \")\n",
    "print()\n",
    "del cl"
   ]
  },
  {
   "cell_type": "code",
   "execution_count": 13,
   "metadata": {},
   "outputs": [],
   "source": [
    "class CircularList:\n",
    "    def __init__(self):\n",
    "        self.head = None\n",
    "        self.tail = None\n",
    "        self.size = 0\n",
    "    \n",
    "    def append(self, data):\n",
    "        node = ListNode(data)\n",
    "        if self.head is None:\n",
    "            self.head = node\n",
    "            self.tail = node\n",
    "        else:\n",
    "            self.tail.next = node\n",
    "            self.tail = node\n",
    "        self.tail.next = self.head\n",
    "        self.size += 1\n",
    "    \n",
    "    # Delete a node from list with given data\n",
    "    def delete(self, data):\n",
    "        current = self.head\n",
    "        prev = None\n",
    "        while current != self.tail:\n",
    "            if current.data == data:\n",
    "                if prev is None:\n",
    "                    self.head = current.next\n",
    "                    self.tail.next = self.head\n",
    "                else:\n",
    "                    prev.next = current.next\n",
    "                self.size -= 1\n",
    "                return\n",
    "            prev = current\n",
    "            current = current.next\n",
    "        if current is not None and current.data == data:\n",
    "            if self.head == self.tail:\n",
    "                self.head = None\n",
    "                self.tail = None\n",
    "            else:\n",
    "                prev.next = self.head\n",
    "                self.tail = prev\n",
    "            self.size -= 1   \n",
    "        \n",
    "    def __iter__(self):\n",
    "        current = self.head\n",
    "        while current != self.tail:\n",
    "            data = current.data \n",
    "            current = current.next\n",
    "            yield data\n",
    "        if self.tail is not None:\n",
    "            yield self.tail.data"
   ]
  },
  {
   "cell_type": "code",
   "execution_count": 14,
   "metadata": {},
   "outputs": [
    {
     "name": "stdout",
     "output_type": "stream",
     "text": [
      "USA France \n",
      "Size: 2 Head: USA Tail: France\n",
      "\n",
      "Size: 1 Head: USA Tail: USA\n",
      "\n",
      "Size: 0 Head: None Tail: None\n"
     ]
    }
   ],
   "source": [
    "cl = CircularList()\n",
    "for country in (\"China\", \"USA\", \"Brazil\", \"France\"):\n",
    "    cl.append(country)\n",
    "cl.delete(\"China\")\n",
    "cl.delete(\"Brazil\")\n",
    "for value in iter(cl):\n",
    "    print(value, end=\" \")\n",
    "print(\"\\nSize: {} Head: {} Tail: {}\".format(cl.size, cl.head.data, cl.tail.data))\n",
    "cl.delete(\"France\")\n",
    "print(\"\\nSize: {} Head: {} Tail: {}\".format(cl.size, cl.head.data, cl.tail.data))\n",
    "cl.delete(\"USA\")\n",
    "print(\"\\nSize: {} Head: {} Tail: {}\".format(cl.size, cl.head, cl.tail))"
   ]
  },
  {
   "cell_type": "markdown",
   "metadata": {},
   "source": [
    "Test code for delete. Delete is kind of tedious for circular list, with quite a number of edge cases to cover. But the time complexity still remains O(n) since the concept is still the same."
   ]
  },
  {
   "cell_type": "markdown",
   "metadata": {},
   "source": [
    "Search and clear are idential to their siblings in SinlyLinkedList, so they are not included here."
   ]
  },
  {
   "cell_type": "markdown",
   "metadata": {},
   "source": [
    "In Summary, circular list only differs from the originals by adding a link between head and tail. All the extra works to maintain the relationship between head and tail can be done in constant time, thus all time complexities remain the same.<br><br>\n",
    "__Time Complexities__<br>\n",
    "<ul>\n",
    "    <li><b>append</b>: O(1)</li>\n",
    "    <li><b>delete (given value)</b>: O(n)</li>\n",
    "    <li><b>size</b>: O(1)</li>\n",
    "    <li><b>search</b>: O(n)</li>\n",
    "    <li><b>clear</b>: O(1)</li>\n",
    "</ul>"
   ]
  }
 ],
 "metadata": {
  "kernelspec": {
   "display_name": "Python 3",
   "language": "python",
   "name": "python3"
  },
  "language_info": {
   "codemirror_mode": {
    "name": "ipython",
    "version": 3
   },
   "file_extension": ".py",
   "mimetype": "text/x-python",
   "name": "python",
   "nbconvert_exporter": "python",
   "pygments_lexer": "ipython3",
   "version": "3.6.3"
  }
 },
 "nbformat": 4,
 "nbformat_minor": 2
}
