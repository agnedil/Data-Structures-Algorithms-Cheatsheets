{
 "cells": [
  {
   "cell_type": "markdown",
   "metadata": {},
   "source": [
    "A **graph** is a data structure that is made up of a set of vertices(nodes) and edges.<br><br>\n",
    "\n",
    "A **vertex** or a node usually denotes a single object, and is visually represented by a dot in a mathematical graph; an **edge** is a connection between vertices that denotes the existence of some relationship between two vertices, and is visually reprensented by a line in a mathematical graph.<br><br>\n",
    "\n",
    "There are two kinds of graphs, **directed** and **undirected** graphs. In a directed graph, all edges have an arrow that shows the direction of the relationship; when doing tree traversal, one may follow the direction, but not backwards. In an undirected graph, there is no arrow, and an edge always indicates the mutual relationship.<br>\n",
    "For a real life example, facebook friends are an undirected graph, while twitter followers are a directed graph.<br><br>\n",
    "\n",
    "As far as I know, there is no built-in graph data structure in most of the major programming languages, so we will build one from scratch here.<br><br>\n",
    "\n",
    "There are two majors ways to represent a graph.<br>\n",
    "The first one is to use an **adjacency list**. In an adajacency list, for every node in our system, we simply use a list to keep track of its adjacent nodes. (**Note**: In all of the following implementations, we only consider directed graphs for the sake of simplicity)<br>"
   ]
  },
  {
   "cell_type": "code",
   "execution_count": 1,
   "metadata": {},
   "outputs": [],
   "source": [
    "twitter_graph = dict()\n",
    "twitter_graph['Bob'] = ['Jack', 'Nox', 'Willy']\n",
    "twitter_graph['Jack'] = ['Amy', 'Nox']\n",
    "twitter_graph['Amy'] = ['Willy', 'Bob']\n",
    "twitter_graph['Willy'] = ['Bob']\n",
    "twitter_graph['Nox'] = []"
   ]
  },
  {
   "cell_type": "markdown",
   "metadata": {},
   "source": [
    "In the above code, we used a dictionary to create a twitter followers graph. There are five users listed, and for each one of them, we create a list to keep track who they follow. For example, Jack follows Amy and Nox, while Nox does not follow anybody.<br>"
   ]
  },
  {
   "cell_type": "markdown",
   "metadata": {},
   "source": [
    "The second way to represent a graph is to use an **adjacency matrix**. In essense, an adjacency matrix is a matrix whose number of rows and number of columns both equal to the number of nodes we have. And for each of its cells, a **true** is used to indicate the existence of the relationship, while a **false** is used otherwise. In Python, we can easily use a 2d-list to mimic such a matrix.<br>"
   ]
  },
  {
   "cell_type": "code",
   "execution_count": 10,
   "metadata": {},
   "outputs": [
    {
     "data": {
      "text/plain": [
       "[[False, True, False, False, True],\n",
       " [False, False, True, True, True],\n",
       " [True, False, False, True, False],\n",
       " [False, False, False, False, False],\n",
       " [False, True, False, False, False]]"
      ]
     },
     "execution_count": 10,
     "metadata": {},
     "output_type": "execute_result"
    }
   ],
   "source": [
    "num_nodes = len(twitter_graph.keys())\n",
    "# Initialize all edges to False\n",
    "twitter_graph_matrix = [[False for _ in range(num_nodes)] for _ in range(num_nodes)]\n",
    "ids = dict()\n",
    "# Assign each node a unique id\n",
    "for i, node in enumerate(sorted(twitter_graph.keys())):\n",
    "    ids[node] = i\n",
    "# Fill in edges based on the adjancency list\n",
    "for node in twitter_graph.keys():\n",
    "    for target in twitter_graph[node]:\n",
    "        twitter_graph_matrix[ids[node]][ids[target]] = True\n",
    "twitter_graph_matrix"
   ]
  },
  {
   "cell_type": "code",
   "execution_count": null,
   "metadata": {},
   "outputs": [],
   "source": []
  }
 ],
 "metadata": {
  "kernelspec": {
   "display_name": "Python 3",
   "language": "python",
   "name": "python3"
  },
  "language_info": {
   "codemirror_mode": {
    "name": "ipython",
    "version": 3
   },
   "file_extension": ".py",
   "mimetype": "text/x-python",
   "name": "python",
   "nbconvert_exporter": "python",
   "pygments_lexer": "ipython3",
   "version": "3.6.3"
  }
 },
 "nbformat": 4,
 "nbformat_minor": 2
}
