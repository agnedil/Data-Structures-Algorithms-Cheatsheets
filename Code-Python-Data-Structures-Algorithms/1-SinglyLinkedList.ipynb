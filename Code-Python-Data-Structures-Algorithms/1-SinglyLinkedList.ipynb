{
 "cells": [
  {
   "cell_type": "code",
   "execution_count": 9,
   "metadata": {},
   "outputs": [],
   "source": [
    "class ListNode:\n",
    "    def __init__(self, data):\n",
    "        self.data = data\n",
    "        self.next = None"
   ]
  },
  {
   "cell_type": "markdown",
   "metadata": {},
   "source": [
    "A simple singly linked list node class, which contains only data and pointer to the next node."
   ]
  },
  {
   "cell_type": "code",
   "execution_count": 10,
   "metadata": {},
   "outputs": [],
   "source": [
    "class SinglyLinkedList:\n",
    "    def __init__(self):\n",
    "        self.head = None\n",
    "    \n",
    "    # Append data to the end of the linked list; naive approach\n",
    "    def append(self, data):\n",
    "        node = ListNode(data)\n",
    "        if self.head is None:\n",
    "            self.head = node\n",
    "        else:\n",
    "            current = self.head\n",
    "            while current.next is not None:\n",
    "                current = current.next\n",
    "            current.next = node"
   ]
  },
  {
   "cell_type": "markdown",
   "metadata": {},
   "source": [
    "A singly linked list class with only a head pointer and an append function."
   ]
  },
  {
   "cell_type": "code",
   "execution_count": 11,
   "metadata": {},
   "outputs": [
    {
     "name": "stdout",
     "output_type": "stream",
     "text": [
      "egg\n",
      "ham\n",
      "spam\n"
     ]
    }
   ],
   "source": [
    "linked_list = SinglyLinkedList()\n",
    "linked_list.append(\"egg\")\n",
    "linked_list.append(\"ham\")\n",
    "linked_list.append(\"spam\")\n",
    "current = linked_list.head\n",
    "while current:\n",
    "    print(current.data) \n",
    "    current = current.next\n",
    "del linked_list"
   ]
  },
  {
   "cell_type": "markdown",
   "metadata": {},
   "source": [
    "This code tests the append function of linked list.<br>\n",
    "It works, but every append operation traverses through the whole list, thus having O(n) time complexity. We can do better than this."
   ]
  },
  {
   "cell_type": "code",
   "execution_count": 12,
   "metadata": {},
   "outputs": [],
   "source": [
    "class SinglyLinkedList:\n",
    "    def __init__(self):\n",
    "        self.head = None\n",
    "        self.tail = None\n",
    "    \n",
    "    def append(self, data):\n",
    "        node = ListNode(data)\n",
    "        if self.head is None:\n",
    "            self.head = node\n",
    "            self.tail = node\n",
    "        else:\n",
    "            self.tail.next = node\n",
    "            self.tail = node"
   ]
  },
  {
   "cell_type": "markdown",
   "metadata": {},
   "source": [
    "With a single extra pointer that points to the last node, we manage to achieve O(1) time complexity for append, as no traversal is required anymore. "
   ]
  },
  {
   "cell_type": "code",
   "execution_count": 13,
   "metadata": {},
   "outputs": [],
   "source": [
    "class SinglyLinkedList:\n",
    "    def __init__(self):\n",
    "        self.head = None\n",
    "        self.tail = None\n",
    "        self.size = 0  # Add a size variable\n",
    "        \n",
    "    def append(self, data):\n",
    "        node = ListNode(data)\n",
    "        if self.head is None:\n",
    "            self.head = node\n",
    "            self.tail = node\n",
    "        else:\n",
    "            self.tail.next = node\n",
    "            self.tail = node\n",
    "        self.size += 1  # Add one whenever an element is inserted"
   ]
  },
  {
   "cell_type": "markdown",
   "metadata": {},
   "source": [
    "Same concept applies here when we want to add the functionality to check the size of the linked list. <br>We could create a function to traverse the whole list to count the number of elements, but it will have O(n) time complexity. <br>Instead, we create another variable to count the size and update it when necessary."
   ]
  },
  {
   "cell_type": "code",
   "execution_count": 27,
   "metadata": {},
   "outputs": [],
   "source": [
    "class SinglyLinkedList:\n",
    "    def __init__(self):\n",
    "        self.head = None\n",
    "        self.tail = None\n",
    "        self.size = 0  \n",
    "        \n",
    "    def append(self, data):\n",
    "        node = ListNode(data)\n",
    "        if self.head is None:\n",
    "            self.head = node\n",
    "            self.tail = node\n",
    "        else:\n",
    "            self.tail.next = node\n",
    "            self.tail = node\n",
    "        self.size += 1\n",
    "    \n",
    "    # Delete the first appearance of data from the list \n",
    "    def delete(self, data):\n",
    "        current = self.head\n",
    "        prev = None\n",
    "        while current is not None:\n",
    "            if current.data == data:\n",
    "                if current == self.head:\n",
    "                    self.head = self.head.next\n",
    "                    if current == self.tail:\n",
    "                        self.tail = tail.next\n",
    "                else:\n",
    "                    prev.next = current.next\n",
    "                    if current == self.tail:\n",
    "                        self.tail = prev\n",
    "                self.size -= 1\n",
    "                return \n",
    "            prev = current\n",
    "            current = current.next\n",
    "    \n",
    "    # Get the iterator for the list\n",
    "    def __iter__(self):\n",
    "        current = self.head\n",
    "        while current is not None:\n",
    "            data = current.data\n",
    "            current = current.next\n",
    "            yield data"
   ]
  },
  {
   "cell_type": "code",
   "execution_count": 30,
   "metadata": {},
   "outputs": [
    {
     "name": "stdout",
     "output_type": "stream",
     "text": [
      "egg\n",
      "ham\n",
      "spam\n"
     ]
    }
   ],
   "source": [
    "linked_list = SinglyLinkedList()\n",
    "linked_list.append(\"egg\")\n",
    "linked_list.append(\"ham\")\n",
    "linked_list.append(\"spam\")\n",
    "for item in iter(linked_list):\n",
    "    print(item)"
   ]
  },
  {
   "cell_type": "markdown",
   "metadata": {},
   "source": [
    "Added two more functions. <br>One for getting the iterator of the list, and another for deleting a node from the list given a value. <br>The introduction of tail and size makes this method a bit more complicated. Time complexity is O(n)."
   ]
  },
  {
   "cell_type": "code",
   "execution_count": 29,
   "metadata": {
    "scrolled": true
   },
   "outputs": [
    {
     "name": "stdout",
     "output_type": "stream",
     "text": [
      "ham\n",
      "egg\n",
      "2\n"
     ]
    }
   ],
   "source": [
    "linked_list.delete(\"egg\")\n",
    "linked_list.append(\"egg\")\n",
    "linked_list.append(\"bacon\")\n",
    "linked_list.delete(\"spam\")\n",
    "linked_list.delete(\"bacon\")\n",
    "for item in iter(linked_list):\n",
    "    print(item)\n",
    "print(linked_list.size)"
   ]
  },
  {
   "cell_type": "markdown",
   "metadata": {},
   "source": [
    "More test code to test all the functionalities we have so far (Deleting from beginning, middle, and end)."
   ]
  },
  {
   "cell_type": "code",
   "execution_count": 31,
   "metadata": {},
   "outputs": [],
   "source": [
    "# Final version\n",
    "class SinglyLinkedList:\n",
    "    def __init__(self):\n",
    "        self.head = None\n",
    "        self.tail = None\n",
    "        self.size = 0  \n",
    "        \n",
    "    def append(self, data):\n",
    "        node = ListNode(data)\n",
    "        if self.head is None:\n",
    "            self.head = node\n",
    "            self.tail = node\n",
    "        else:\n",
    "            self.tail.next = node\n",
    "            self.tail = node\n",
    "        self.size += 1\n",
    "        \n",
    "    def delete(self, data):\n",
    "        current = self.head\n",
    "        prev = None\n",
    "        while current is not None:\n",
    "            if current.data == data:\n",
    "                if current == self.head:\n",
    "                    self.head = self.head.next\n",
    "                    if current == self.tail:\n",
    "                        self.tail = tail.next\n",
    "                else:\n",
    "                    prev.next = current.next\n",
    "                    if current == self.tail:\n",
    "                        self.tail = prev\n",
    "                self.size -= 1\n",
    "                return \n",
    "            prev = current\n",
    "            current = current.next\n",
    "    \n",
    "    # Search through the linked list to see if there exists a node with the given data \n",
    "    def search(self, data):\n",
    "        current = self.head\n",
    "        while current is not None:\n",
    "            if current.data == data:\n",
    "                return True\n",
    "            current = current.next\n",
    "        return False\n",
    "    \n",
    "    # Clear all nodes\n",
    "    def clear(self):\n",
    "        self.head = None\n",
    "        self.tail = None\n",
    "        \n",
    "    def __iter__(self):\n",
    "        current = self.head\n",
    "        while current is not None:\n",
    "            data = current.data\n",
    "            current = current.next\n",
    "            yield data"
   ]
  },
  {
   "cell_type": "markdown",
   "metadata": {},
   "source": [
    "Two more functions to complete the singly linked list. <br>One for searching, which has O(n) time complexity similar to delete. <br> The clear function clear all nodes by setting head and tail to None, leaving all other nodes to be garbage collected. The time complexity is O(1)."
   ]
  },
  {
   "cell_type": "markdown",
   "metadata": {},
   "source": [
    "In summary, the introduction of additional pointers/variables make certain operations (append, size) for singly linked list O(1) instead of O(n), but also makes code a bit longer, as we need to maintain those variables. <br>\n",
    "Search and delete both have O(n) time complexity due to list traversal, and clear has O(1).<br><br>\n",
    "__Time Complexities__<br>\n",
    "<ul>\n",
    "    <li><b>append</b>: O(1)</li>\n",
    "    <li><b>delete (given value)</b>: O(n)</li>\n",
    "    <li><b>size</b>: O(1)</li>\n",
    "    <li><b>search</b>: O(n)</li>\n",
    "    <li><b>clear</b>: O(1)</li>\n",
    "</ul>"
   ]
  }
 ],
 "metadata": {
  "kernelspec": {
   "display_name": "Python 3",
   "language": "python",
   "name": "python3"
  },
  "language_info": {
   "codemirror_mode": {
    "name": "ipython",
    "version": 3
   },
   "file_extension": ".py",
   "mimetype": "text/x-python",
   "name": "python",
   "nbconvert_exporter": "python",
   "pygments_lexer": "ipython3",
   "version": "3.6.3"
  }
 },
 "nbformat": 4,
 "nbformat_minor": 2
}
