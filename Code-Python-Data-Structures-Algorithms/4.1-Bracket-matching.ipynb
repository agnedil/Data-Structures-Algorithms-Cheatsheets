{
 "cells": [
  {
   "cell_type": "markdown",
   "metadata": {},
   "source": [
    "Now let us look at an example of how we can use our stack implementation. We are going to write a little function that will verify whether a statement containing brackets is balanced, that is, whether the number of closing brackets matches the number of opening brackets. It will also ensure that one pair of brackets really is contained in another."
   ]
  },
  {
   "cell_type": "code",
   "execution_count": 1,
   "metadata": {},
   "outputs": [],
   "source": [
    "# Stack implementation using python built in list\n",
    "class Stack:\n",
    "    def __init__(self):\n",
    "        self.data = []\n",
    "        \n",
    "    def size(self):\n",
    "        return len(self.data)\n",
    "    \n",
    "    def push(self, data):\n",
    "        self.data.append(data)\n",
    "           \n",
    "    def pop(self):\n",
    "        return None if self.size() == 0 else self.data.pop()\n",
    "    \n",
    "    def peek(self):\n",
    "        return None if self.size() == 0 else self.data[-1]\n",
    "    \n",
    "    def isEmpty(self):\n",
    "        return (len(self.data) == 0)"
   ]
  },
  {
   "cell_type": "markdown",
   "metadata": {},
   "source": [
    "We'll use the stack implementation using python built in list taken straight from the last notebook. Added a one liner to check whether the stack is empty."
   ]
  },
  {
   "cell_type": "code",
   "execution_count": 2,
   "metadata": {},
   "outputs": [],
   "source": [
    "def has_matching_brackets(statement, brackets=((\"[\", \"]\"), (\"{\", \"}\"), (\"(\", \")\"))):\n",
    "    bStack = Stack()\n",
    "    for char in statement:\n",
    "        for startBracket, endBracket in brackets:\n",
    "            if char == startBracket:\n",
    "                bStack.push(startBracket)\n",
    "            elif char == endBracket:\n",
    "                topChar = bStack.pop()\n",
    "                if topChar is None or topChar != startBracket:\n",
    "                    return False\n",
    "    return bStack.isEmpty()"
   ]
  },
  {
   "cell_type": "markdown",
   "metadata": {},
   "source": [
    "The idea is to iterate through the given string character by character. For each character, check against the brackets. If a opening bracket is encountered, push it to the stack; if a closing bracket is encountered, pop the top one from the stack and compare it with the expected opening bracket, and return false if the comparison fails. At the end of the iteration, check to see if the whole stack is empty. if so, return true. <br>\n",
    "Note that the types of brackets default to three kinds, and can be supply as a optional parameter."
   ]
  },
  {
   "cell_type": "code",
   "execution_count": 4,
   "metadata": {},
   "outputs": [
    {
     "name": "stdout",
     "output_type": "stream",
     "text": [
      "{(foo)(bar)}[hello](((this)is)a)test: True\n",
      "{(foo)(bar)}[hello](((this)is)atest: False\n",
      "{(foo)(bar)}[hello](((this)is)a)test)): False\n"
     ]
    }
   ],
   "source": [
    "sl = ( \n",
    "   \"{(foo)(bar)}[hello](((this)is)a)test\", \n",
    "   \"{(foo)(bar)}[hello](((this)is)atest\", \n",
    "   \"{(foo)(bar)}[hello](((this)is)a)test))\" \n",
    ") \n",
    "for s in sl: \n",
    "   m = has_matching_brackets(s) \n",
    "   print(\"{}: {}\".format(s, m)) "
   ]
  },
  {
   "cell_type": "markdown",
   "metadata": {},
   "source": [
    "Some test code taken directly from the textbook. "
   ]
  },
  {
   "cell_type": "markdown",
   "metadata": {},
   "source": [
    "In summary, this algorithm for solving the bracket matching problem ultilizes stack. Since all of __push, pop, isEmpty__ functions have __O(1)__ time complexity, and we iterate through the whole string only once, the __total time complexity__ is __O(n)__ at the end."
   ]
  }
 ],
 "metadata": {
  "kernelspec": {
   "display_name": "Python 3",
   "language": "python",
   "name": "python3"
  },
  "language_info": {
   "codemirror_mode": {
    "name": "ipython",
    "version": 3
   },
   "file_extension": ".py",
   "mimetype": "text/x-python",
   "name": "python",
   "nbconvert_exporter": "python",
   "pygments_lexer": "ipython3",
   "version": "3.6.3"
  }
 },
 "nbformat": 4,
 "nbformat_minor": 2
}
