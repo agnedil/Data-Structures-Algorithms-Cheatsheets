{
 "cells": [
  {
   "cell_type": "code",
   "execution_count": 6,
   "metadata": {},
   "outputs": [],
   "source": [
    "# Stack implementation using python built in list\n",
    "class Stack:\n",
    "    def __init__(self):\n",
    "        self.data = []\n",
    "        \n",
    "    def size(self):\n",
    "        return len(self.data)\n",
    "    \n",
    "    # Push data to the top of the stack\n",
    "    def push(self, data):\n",
    "        self.data.append(data)\n",
    "        \n",
    "    # Pop the top element of the stack   \n",
    "    def pop(self):\n",
    "        return None if self.size() == 0 else self.data.pop()\n",
    "    \n",
    "    # Get the value of the top element without popping it\n",
    "    def peek(self):\n",
    "        return None if self.size() == 0 else self.data[-1]"
   ]
  },
  {
   "cell_type": "code",
   "execution_count": 12,
   "metadata": {},
   "outputs": [
    {
     "name": "stdout",
     "output_type": "stream",
     "text": [
      "None\n",
      "g\n",
      "f\n",
      "e\n",
      "d\n",
      "c\n",
      "b\n",
      "a\n",
      "Size: 7\n",
      "Top element: g\n"
     ]
    }
   ],
   "source": [
    "s = Stack()\n",
    "print(s.pop())\n",
    "for char in tuple(\"abcdefg\"):\n",
    "    s.push(char)\n",
    "for c in s.data[::-1]:\n",
    "    print(c)\n",
    "print(\"Size: {}\\nTop element: {}\".format(s.size(), s.peek()))\n",
    "del s"
   ]
  },
  {
   "cell_type": "markdown",
   "metadata": {},
   "source": [
    "Stack is simple linear data stucture that follows a last in, first out (LIFO) fashion. <br>Generally, it supports four main functionalities, which are size, push, pop, and peek. <br>The above code shows a stack implementation using python built in list. "
   ]
  },
  {
   "cell_type": "markdown",
   "metadata": {},
   "source": [
    "Another possible approach to implement a stack is to use a linked list. There will be performance differences between two approaches."
   ]
  },
  {
   "cell_type": "code",
   "execution_count": 17,
   "metadata": {},
   "outputs": [],
   "source": [
    "class Node:\n",
    "    def __init__(self, data):\n",
    "        self.data = data\n",
    "        self.next = None"
   ]
  },
  {
   "cell_type": "markdown",
   "metadata": {},
   "source": [
    "As usual, we use a simple vinilla node class, with data and a pointer to the next node."
   ]
  },
  {
   "cell_type": "code",
   "execution_count": 28,
   "metadata": {},
   "outputs": [],
   "source": [
    "class Stack:\n",
    "    def __init__(self):\n",
    "        self.top = None\n",
    "        self.size = 0\n",
    "        \n",
    "    def push(self, data):\n",
    "        node = Node(data)\n",
    "        if self.top is None:\n",
    "            self.top = node\n",
    "        else:\n",
    "            node.next = self.top\n",
    "            self.top = node\n",
    "            \n",
    "    def pop(self):\n",
    "        if self.top is None:\n",
    "            return None\n",
    "        node = self.top\n",
    "        self.top = self.top.next\n",
    "        return node.data\n",
    "    \n",
    "    def peek(self):\n",
    "        return self.top.data if self.top is not None else None\n",
    "            \n",
    "    def __iter__(self):\n",
    "        current = self.top\n",
    "        while current is not None:\n",
    "            yield current.data\n",
    "            current = current.next"
   ]
  },
  {
   "cell_type": "markdown",
   "metadata": {},
   "source": [
    "As you can see, the implementation is very similar to the original singly linked list, except we only allow insertion and deletion at the beginning of the list to accomplish push and pop. Every function should have O(1) time complexity as no traversal is required at all."
   ]
  },
  {
   "cell_type": "code",
   "execution_count": 30,
   "metadata": {},
   "outputs": [
    {
     "name": "stdout",
     "output_type": "stream",
     "text": [
      "None\n",
      "None\n",
      "Popped: g\n",
      "f\n",
      "e\n",
      "d\n",
      "c\n",
      "b\n",
      "a\n"
     ]
    }
   ],
   "source": [
    "s = Stack()\n",
    "print(s.peek())\n",
    "print(s.pop())\n",
    "for char in tuple(\"abcdefg\"):\n",
    "    s.push(char)\n",
    "print(\"Popped: {}\".format(s.pop()))\n",
    "for value in iter(s):\n",
    "    print(value)\n",
    "del s"
   ]
  },
  {
   "cell_type": "markdown",
   "metadata": {},
   "source": [
    "Some test code for the implementation using a list."
   ]
  },
  {
   "cell_type": "markdown",
   "metadata": {},
   "source": [
    "In summary, both approaches achieve __O(1)__ time complexities for __push, pop, peek, and size__. The implementation using a linked list introduces more pointers(links) thus taking more space, while the push function for the implementation using python built in list may not always be excuted in constant time. It still remains O(1) on average nevertheless. \n",
    "\n",
    "__Time Complexities__<br>\n",
    "<ul>\n",
    "    <li><b>push</b>: O(1)</li>\n",
    "    <li><b>pop</b>: O(1)</li>\n",
    "    <li><b>size</b>: O(1)</li>\n",
    "    <li><b>peek</b>: O(1)</li>\n",
    "</ul>"
   ]
  }
 ],
 "metadata": {
  "kernelspec": {
   "display_name": "Python 3",
   "language": "python",
   "name": "python3"
  },
  "language_info": {
   "codemirror_mode": {
    "name": "ipython",
    "version": 3
   },
   "file_extension": ".py",
   "mimetype": "text/x-python",
   "name": "python",
   "nbconvert_exporter": "python",
   "pygments_lexer": "ipython3",
   "version": "3.6.3"
  }
 },
 "nbformat": 4,
 "nbformat_minor": 2
}
