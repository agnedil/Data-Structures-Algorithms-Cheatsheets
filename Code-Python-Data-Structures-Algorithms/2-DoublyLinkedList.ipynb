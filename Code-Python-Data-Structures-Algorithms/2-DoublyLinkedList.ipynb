{
 "cells": [
  {
   "cell_type": "code",
   "execution_count": 1,
   "metadata": {},
   "outputs": [],
   "source": [
    "class ListNode:\n",
    "    def __init__(self, data):\n",
    "        self.data = data\n",
    "        self.prev = None\n",
    "        self.next = None"
   ]
  },
  {
   "cell_type": "markdown",
   "metadata": {},
   "source": [
    "A list node class for doubly linked list. In addition to data and the next pointer, we add a prev pointer that points to the previous node in the list."
   ]
  },
  {
   "cell_type": "code",
   "execution_count": 3,
   "metadata": {},
   "outputs": [],
   "source": [
    "class DoublyLinkedList:\n",
    "    def __init__(self):\n",
    "        self.head = None\n",
    "        self.tail = None\n",
    "        self.size = 0\n",
    "    \n",
    "    # Add data to the end of the list; update head, tail, and size\n",
    "    def append(self, data):\n",
    "        node = ListNode(data)\n",
    "        if self.head is None:\n",
    "            self.head = node\n",
    "            self.tail = node\n",
    "        else:\n",
    "            self.tail.next = node\n",
    "            node.prev = self.tail\n",
    "            self.tail = node\n",
    "        self.size += 1\n",
    "        \n",
    "    def __iter__(self):\n",
    "        current = self.head\n",
    "        while current is not None:\n",
    "            data = current.data\n",
    "            current = current.next\n",
    "            yield data"
   ]
  },
  {
   "cell_type": "markdown",
   "metadata": {},
   "source": [
    "A doubly linked list class with append function. Time Complexity for append is O(1)."
   ]
  },
  {
   "cell_type": "code",
   "execution_count": 4,
   "metadata": {},
   "outputs": [
    {
     "name": "stdout",
     "output_type": "stream",
     "text": [
      "yellow\n",
      "blue\n",
      "purple\n",
      "green\n"
     ]
    }
   ],
   "source": [
    "dll = DoublyLinkedList()\n",
    "for color in (\"yellow\", \"blue\", \"purple\", \"green\"):\n",
    "    dll.append(color)\n",
    "for data in dll:\n",
    "    print(data)\n",
    "del dll"
   ]
  },
  {
   "cell_type": "markdown",
   "metadata": {},
   "source": [
    "Some simple code to test the append and iter functions."
   ]
  },
  {
   "cell_type": "code",
   "execution_count": 9,
   "metadata": {},
   "outputs": [],
   "source": [
    "class DoublyLinkedList:\n",
    "    def __init__(self):\n",
    "        self.head = None\n",
    "        self.tail = None\n",
    "        self.size = 0\n",
    "    \n",
    "    def append(self, data):\n",
    "        node = ListNode(data)\n",
    "        if self.head is None:\n",
    "            self.head = node\n",
    "            self.tail = node\n",
    "        else:\n",
    "            self.tail.next = node\n",
    "            node.prev = self.tail\n",
    "            self.tail = node\n",
    "        self.size += 1\n",
    "    \n",
    "    # Delete the first occurrance of data in the list \n",
    "    def delete(self, data):\n",
    "        current = self.head\n",
    "        while current is not None:\n",
    "            if current.data == data:\n",
    "                if current == self.head:  # Deletion at the beginning of the list\n",
    "                    self.head = current.next  # Update head\n",
    "                    if current == self.tail:  # Only a single element\n",
    "                        self.tail = None\n",
    "                    else:\n",
    "                        self.head.prev = None\n",
    "                elif current == self.tail:  # Deletion at the end of the list\n",
    "                    current.prev.next = None\n",
    "                    self.tail = current.prev  # Update tail\n",
    "                else:  # Delection in the middle of the list\n",
    "                    current.prev.next = current.next\n",
    "                    current.next.prev = current.prev\n",
    "                self.size -= 1\n",
    "                return\n",
    "            current = current.next\n",
    "        \n",
    "    def __iter__(self):\n",
    "        current = self.head\n",
    "        while current is not None:\n",
    "            data = current.data\n",
    "            current = current.next\n",
    "            yield data"
   ]
  },
  {
   "cell_type": "markdown",
   "metadata": {},
   "source": [
    "Added a function to delete node. Need special care when deleting from the beginning or end, and when the list only contains 0 or 1 (same head and tail) element. <br>\n",
    "Only a current pointer is needed, prev is no longer needed because every node has a prev attribute already. <br>\n",
    "Time complexity is still O(n) as only a single list traversal is needed."
   ]
  },
  {
   "cell_type": "code",
   "execution_count": 12,
   "metadata": {},
   "outputs": [
    {
     "name": "stdout",
     "output_type": "stream",
     "text": [
      "blue purple black \n",
      "Head: blue\n",
      "Tail: black\n"
     ]
    }
   ],
   "source": [
    "dll = DoublyLinkedList()\n",
    "for color in (\"yellow\", \"blue\", \"purple\", \"green\", \"black\", \"orange\"):\n",
    "    dll.append(color)\n",
    "dll.delete(\"yellow\")\n",
    "dll.delete(\"green\")\n",
    "dll.delete(\"orange\")\n",
    "for data in dll:\n",
    "    print(data, end=\" \")\n",
    "print(\"\\nHead: {}\".format(dll.head.data))\n",
    "print(\"Tail: {}\".format(dll.tail.data))\n",
    "del dll"
   ]
  },
  {
   "cell_type": "markdown",
   "metadata": {},
   "source": [
    "Some test code to test the delete function, covering special senarios as well."
   ]
  },
  {
   "cell_type": "code",
   "execution_count": 15,
   "metadata": {},
   "outputs": [],
   "source": [
    "class DoublyLinkedList:\n",
    "    def __init__(self):\n",
    "        self.head = None\n",
    "        self.tail = None\n",
    "        self.size = 0\n",
    "    \n",
    "    def append(self, data):\n",
    "        node = ListNode(data)\n",
    "        if self.head is None:\n",
    "            self.head = node\n",
    "            self.tail = node\n",
    "        else:\n",
    "            self.tail.next = node\n",
    "            node.prev = self.tail\n",
    "            self.tail = node\n",
    "        self.size += 1\n",
    "    \n",
    "    def delete(self, data):\n",
    "        current = self.head\n",
    "        while current is not None:\n",
    "            if current.data == data:\n",
    "                if current == self.head:  # Deletion at the beginning of the list\n",
    "                    self.head = current.next  # Update head\n",
    "                    if current == self.tail:  # Only a single element\n",
    "                        self.tail = None\n",
    "                    else:\n",
    "                        self.head.prev = None\n",
    "                elif current == self.tail:  # Deletion at the end of the list\n",
    "                    current.prev.next = None\n",
    "                    self.tail = current.prev  # Update tail\n",
    "                else:  # Delection in the middle of the list\n",
    "                    current.prev.next = current.next\n",
    "                    current.next.prev = current.prev\n",
    "                self.size -= 1\n",
    "                return\n",
    "            current = current.next\n",
    "    \n",
    "    # Search to see if the list contains data\n",
    "    def search(self, data):\n",
    "        for value in iter(self):\n",
    "            if data == value:\n",
    "                return True\n",
    "        return False\n",
    "    \n",
    "    # Clear the whole list\n",
    "    def clear(self):\n",
    "        self.head = None\n",
    "        self.tail = None\n",
    "    \n",
    "    def __iter__(self):\n",
    "        current = self.head\n",
    "        while current is not None:\n",
    "            data = current.data\n",
    "            current = current.next\n",
    "            yield data"
   ]
  },
  {
   "cell_type": "markdown",
   "metadata": {},
   "source": [
    "Two more functions, search and clear, to finish the class. Pretty much the same as their siblings in the class SinglyLinkedList. One thing to note is that the search function uses the iter function instead of iterating by itself."
   ]
  },
  {
   "cell_type": "code",
   "execution_count": 19,
   "metadata": {},
   "outputs": [
    {
     "name": "stdout",
     "output_type": "stream",
     "text": [
      "True\n",
      "False\n"
     ]
    }
   ],
   "source": [
    "dll = DoublyLinkedList()\n",
    "for color in (\"yellow\", \"blue\", \"purple\", \"green\", \"black\", \"orange\"):\n",
    "    dll.append(color)\n",
    "print(dll.search(\"purple\"))\n",
    "print(dll.search(\"PurPLE\"))\n",
    "del dll"
   ]
  },
  {
   "cell_type": "markdown",
   "metadata": {},
   "source": [
    "In summary, doubly linked list introduces a prev pointer for every node, while retaining all the functionalities a singly linked list has. <br><br>\n",
    "__Time Complexities__<br>\n",
    "<ul>\n",
    "    <li><b>append</b>: O(1)</li>\n",
    "    <li><b>delete (given value)</b>: O(n)</li>\n",
    "    <li><b>size</b>: O(1)</li>\n",
    "    <li><b>search</b>: O(n)</li>\n",
    "    <li><b>clear</b>: O(1)</li>\n",
    "</ul>\n",
    "_Special Note_: Due to our decision to delete by value, the time complexity remains O(n) comparing to SinglyLinkedList. However, if the actual node to be deleted is given, the time complexity of delete for this class becomes O(1), while SinglyLinkedList still has O(n), due to the additional prev pointer for each node."
   ]
  }
 ],
 "metadata": {
  "kernelspec": {
   "display_name": "Python 3",
   "language": "python",
   "name": "python3"
  },
  "language_info": {
   "codemirror_mode": {
    "name": "ipython",
    "version": 3
   },
   "file_extension": ".py",
   "mimetype": "text/x-python",
   "name": "python",
   "nbconvert_exporter": "python",
   "pygments_lexer": "ipython3",
   "version": "3.6.3"
  }
 },
 "nbformat": 4,
 "nbformat_minor": 2
}
