{
 "cells": [
  {
   "cell_type": "markdown",
   "metadata": {},
   "source": [
    "So far, we have only dealt with linear data structures (linked lists, stacks, and queues), where items follow each other one by one. But in a tree, there is a parent-child relationship between items. In a tree, we start with a root node, and each node has some children it points to. All nodes have a parent, except root node, and root node is the ancestor of all the rest. A node without any child is called a leaf node. Trees can be very useful to some real life applications, such as a computer's file system.  "
   ]
  },
  {
   "cell_type": "markdown",
   "metadata": {},
   "source": [
    "Trees have quite a few number of variations, but here we will focus on Binary Search Tree (BST), which is a special case of binary trees. <br>\n",
    "A __binary tree__ is a tree where each node has at most two children.<br>\n",
    "A __binary search tree__ is a binary tree where each node has a value (key) that is greater than or equal to all of the values from its left subtree, and is less than all of the values from its right subtree. A BST provides some nice properties which allows search to be easily handled."
   ]
  },
  {
   "cell_type": "code",
   "execution_count": 4,
   "metadata": {},
   "outputs": [],
   "source": [
    "class TreeNode:\n",
    "    def __init__(self, data):\n",
    "        self.data = data\n",
    "        self.leftChild = None\n",
    "        self.rightChild = None"
   ]
  },
  {
   "cell_type": "markdown",
   "metadata": {},
   "source": [
    "A simple tree node class. It is very similar to a linked list node, except we got two pointers pointing to the node's two children (non-existent if it's None) instead of a single next pointer. "
   ]
  },
  {
   "cell_type": "code",
   "execution_count": 5,
   "metadata": {},
   "outputs": [],
   "source": [
    "class BinarySearchTree:\n",
    "    def __init__(self, root=None):\n",
    "        self.root = root\n",
    "        \n",
    "    # Find the node with the minimum value    \n",
    "    def find_min(self):\n",
    "        if self.root is None:\n",
    "            return None\n",
    "        current = self.root\n",
    "        while current.leftChild is not None:\n",
    "            current = current.leftChild\n",
    "        return current\n",
    "    \n",
    "    # Find the node with the maximum value\n",
    "    def find_max(self):\n",
    "        if self.root is None:\n",
    "            return None\n",
    "        current = self.root\n",
    "        while current.rightChild is not None:\n",
    "            current = current.rightChild\n",
    "        return current\n",
    "    \n",
    "    # Insert a node with data into the BST\n",
    "    def insert(self, data):\n",
    "        node = TreeNode(data)\n",
    "        if self.root is None:\n",
    "            self.root = node\n",
    "        else:\n",
    "            current = self.root\n",
    "            while True:\n",
    "                if data < current.data:\n",
    "                    if current.leftChild is None:\n",
    "                        current.leftChild = node\n",
    "                        return \n",
    "                    current = current.leftChild\n",
    "                else:\n",
    "                    if current.rightChild is None:\n",
    "                        current.rightChild = node\n",
    "                        return \n",
    "                    current = current.rightChild\n",
    "    \n",
    "    # Delete a node with data from the BST\n",
    "    # Not implemented yet.\n",
    "    # This function is a bit tricky; we need to find the node with data first;\n",
    "    # then based on how many children it has, proceeds with different actions;\n",
    "    # 0 or 1 child should be easy, while 2 children is not trivial;\n",
    "    # need to find from its right child the node with smallest value that is\n",
    "    # bigger than the target's value\n",
    "    def delete(self, data):\n",
    "        pass\n",
    "    \n",
    "    # Search for the node with data\n",
    "    def search(self, data):\n",
    "        current = self.root\n",
    "        while current is not None:\n",
    "            if current.data == data:\n",
    "                return current\n",
    "            current = current.leftChild if data < current.data else current.rightChild\n",
    "        return current"
   ]
  },
  {
   "cell_type": "code",
   "execution_count": 7,
   "metadata": {},
   "outputs": [
    {
     "name": "stdout",
     "output_type": "stream",
     "text": [
      "Max node: 18\n",
      "Min node: 5\n",
      "17 found in the binary search tree! :D\n",
      "3 not found in the tree! :(\n",
      "-2 not found in the tree! :(\n",
      "8 found in the binary search tree! :D\n",
      "5 found in the binary search tree! :D\n"
     ]
    }
   ],
   "source": [
    "bst = BinarySearchTree()\n",
    "for num in (7, 5, 9, 8, 15, 16, 18, 17):\n",
    "    bst.insert(num)\n",
    "max_node = bst.find_max()\n",
    "min_node = bst.find_min()\n",
    "print(f\"Max node: {max_node.data}\")\n",
    "print(f\"Min node: {min_node.data}\")\n",
    "for n in (17, 3, -2, 8, 5):\n",
    "    if bst.search(n) is not None:\n",
    "        print(f\"{n} found in the binary search tree! :D\")\n",
    "    else:\n",
    "        print(f\"{n} not found in the tree! :(\")"
   ]
  },
  {
   "cell_type": "markdown",
   "metadata": {},
   "source": [
    "A binary search tree class, where the functionalities for finding min and max, insert a node, search for a node are implemented, and the idea for deleting a node is briefly discussed via comments. <br>__Find_min__ and __find_max__ are very straight forward, as we look for the leftmost and rightmost node respectively. <br>__Search__ and __insert__ require some comparisons starting at root, and go down level by level until the desired position is found. <br>__Delete__ is the least trivial one, and requires different actions based on three possible senarios, as discussed in the comments. <br><br>\n",
    "__Time Complexities__<br>\n",
    "<ul>\n",
    "    <li><b>find_min</b>: O(h) where h is the height of the tree</li>\n",
    "    <li><b>find_max</b>: O(h)</li>\n",
    "    <li><b>insert</b>: O(h)</li>\n",
    "    <li><b>delete</b>: O(h)</li>\n",
    "    <li><b>search</b>: O(h)</li>\n",
    "</ul>\n",
    "__Note__: The time complexity is guaranteed to be O(logN) if we have balanced binary search trees, as a balanced tree ensures its height to be optimized."
   ]
  }
 ],
 "metadata": {
  "kernelspec": {
   "display_name": "Python 3",
   "language": "python",
   "name": "python3"
  },
  "language_info": {
   "codemirror_mode": {
    "name": "ipython",
    "version": 3
   },
   "file_extension": ".py",
   "mimetype": "text/x-python",
   "name": "python",
   "nbconvert_exporter": "python",
   "pygments_lexer": "ipython3",
   "version": "3.6.3"
  }
 },
 "nbformat": 4,
 "nbformat_minor": 2
}
