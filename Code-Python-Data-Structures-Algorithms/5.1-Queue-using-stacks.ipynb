{
 "cells": [
  {
   "cell_type": "markdown",
   "metadata": {},
   "source": [
    "Another implementation of a queue is to use two stacks."
   ]
  },
  {
   "cell_type": "code",
   "execution_count": 1,
   "metadata": {},
   "outputs": [],
   "source": [
    "class Stack:\n",
    "    def __init__(self):\n",
    "        self.data = []\n",
    "        \n",
    "    def size(self):\n",
    "        return len(self.data)\n",
    "    \n",
    "    def push(self, data):\n",
    "        self.data.append(data)\n",
    "           \n",
    "    def pop(self):\n",
    "        return None if self.size() == 0 else self.data.pop()\n",
    "    \n",
    "    def peek(self):\n",
    "        return None if self.size() == 0 else self.data[-1]"
   ]
  },
  {
   "cell_type": "markdown",
   "metadata": {},
   "source": [
    "Our old friend Stack."
   ]
  },
  {
   "cell_type": "code",
   "execution_count": 4,
   "metadata": {},
   "outputs": [],
   "source": [
    "class Queue:\n",
    "    def __init__(self):\n",
    "        self.data = Stack()\n",
    "        self.dequeueHelper = Stack()\n",
    "        \n",
    "    def size(self):\n",
    "        return self.data.size()\n",
    "    \n",
    "    def enqueue(self, item):\n",
    "        self.data.push(item)\n",
    "        \n",
    "    def dequeue(self):\n",
    "        if self.data.size() == 0:\n",
    "            return None\n",
    "        # Push all nodes to the helper stack\n",
    "        while self.data.size() > 0:\n",
    "            self.dequeueHelper.push(self.data.pop())\n",
    "        # Take the top one of the helper stack\n",
    "        target = self.dequeueHelper.pop()\n",
    "        # Push everything back\n",
    "        while self.dequeueHelper.size() > 0:\n",
    "            self.data.push(self.dequeueHelper.pop())\n",
    "        return target\n",
    "    \n",
    "    def peek(self):\n",
    "        while self.data.size() > 0:\n",
    "            self.dequeueHelper.push(self.data.pop())\n",
    "        target = self.dequeueHelper.peek()\n",
    "        while self.dequeueHelper.size() > 0:\n",
    "            self.data.push(self.dequeueHelper.pop())\n",
    "        return target"
   ]
  },
  {
   "cell_type": "code",
   "execution_count": 9,
   "metadata": {},
   "outputs": [
    {
     "name": "stdout",
     "output_type": "stream",
     "text": [
      "None\n",
      "Size:  1\n",
      "First:  Leonado\n",
      "Size:  2\n",
      "First:  Leonado\n",
      "Size:  3\n",
      "First:  Leonado\n",
      "Size:  4\n",
      "First:  Leonado\n",
      "Dequeued:  Leonado\n",
      "Size:  3\n",
      "First:  Rafael\n",
      "Size:  4\n",
      "First:  Rafael\n"
     ]
    }
   ],
   "source": [
    "q = Queue()\n",
    "print(q.dequeue())\n",
    "for turtle in (\"Leonado\", \"Rafael\", \"Michangelo\", \"Donatelo\"):\n",
    "    q.enqueue(turtle)\n",
    "    print(\"Size: \", q.size())\n",
    "    print(\"First: \", q.peek())\n",
    "print(\"Dequeued: \", q.dequeue())\n",
    "print(\"Size: \", q.size())\n",
    "print(\"First: \", q.peek())\n",
    "q.enqueue(\"Splinter\")\n",
    "print(\"Size: \", q.size())\n",
    "print(\"First: \", q.peek())\n",
    "del q"
   ]
  },
  {
   "cell_type": "markdown",
   "metadata": {},
   "source": [
    "With the restriction of only using stack(s), we need two of them of achieve a queue data structure. The main stack which is used to store data, and an altenative one that used when dequeue or peek is invoked. We use stack's push to simulate enqueue, which can be done in constant time; when dequeue or peek is desired, we push all the nodes of the main stack to the altenative stack by iteratively calling pop and push. Now the order is reversed, and a single pop call gives us the desired first item. After the retrieval, we push everything back to the main stack to get the original order. Ultimately, we need to iterate all items twice, which makes both operations __O(n)__ when it comes to time complexity.\n",
    "\n",
    "__Time Complexities__<br>\n",
    "<ul>\n",
    "    <li><b>enqueue</b>: O(1)</li>\n",
    "    <li><b>dequeue</b>: O(n)</li>\n",
    "    <li><b>size</b>: O(1)</li>\n",
    "    <li><b>peek</b>: O(n)</li>\n",
    "</ul>"
   ]
  }
 ],
 "metadata": {
  "kernelspec": {
   "display_name": "Python 3",
   "language": "python",
   "name": "python3"
  },
  "language_info": {
   "codemirror_mode": {
    "name": "ipython",
    "version": 3
   },
   "file_extension": ".py",
   "mimetype": "text/x-python",
   "name": "python",
   "nbconvert_exporter": "python",
   "pygments_lexer": "ipython3",
   "version": "3.6.3"
  }
 },
 "nbformat": 4,
 "nbformat_minor": 2
}
