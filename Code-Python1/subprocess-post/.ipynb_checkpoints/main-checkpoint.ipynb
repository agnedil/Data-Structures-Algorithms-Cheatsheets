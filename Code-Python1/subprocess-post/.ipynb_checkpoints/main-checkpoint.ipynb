{
 "cells": [
  {
   "cell_type": "code",
   "execution_count": 1,
   "metadata": {},
   "outputs": [
    {
     "data": {
      "text/plain": [
       "sys.version_info(major=3, minor=6, micro=7, releaselevel='final', serial=0)"
      ]
     },
     "execution_count": 1,
     "metadata": {},
     "output_type": "execute_result"
    }
   ],
   "source": [
    "import sys\n",
    "sys.version\n",
    "sys.version_info"
   ]
  },
  {
   "cell_type": "code",
   "execution_count": 2,
   "metadata": {},
   "outputs": [],
   "source": [
    "import subprocess"
   ]
  },
  {
   "cell_type": "code",
   "execution_count": 3,
   "metadata": {},
   "outputs": [
    {
     "data": {
      "text/plain": [
       "0"
      ]
     },
     "execution_count": 3,
     "metadata": {},
     "output_type": "execute_result"
    }
   ],
   "source": [
    "subprocess.call([\"ls\", \"-lha\"])"
   ]
  },
  {
   "cell_type": "markdown",
   "metadata": {},
   "source": [
    "## call() example using shell=True"
   ]
  },
  {
   "cell_type": "code",
   "execution_count": 4,
   "metadata": {},
   "outputs": [
    {
     "data": {
      "text/plain": [
       "0"
      ]
     },
     "execution_count": 4,
     "metadata": {},
     "output_type": "execute_result"
    }
   ],
   "source": [
    "subprocess.call(\"ls -lha\", shell=True)"
   ]
  },
  {
   "cell_type": "markdown",
   "metadata": {},
   "source": [
    "## store output in variable"
   ]
  },
  {
   "cell_type": "code",
   "execution_count": 5,
   "metadata": {},
   "outputs": [
    {
     "name": "stdout",
     "output_type": "stream",
     "text": [
      "total 24K\n",
      "drwxrwxr-x  3 felipe felipe 4,0K Nov  4 17:28 .\n",
      "drwxrwxr-x 39 felipe felipe 4,0K Nov  3 18:31 ..\n",
      "drwxrwxr-x  2 felipe felipe 4,0K Nov  3 19:32 .ipynb_checkpoints\n",
      "-rw-rw-r--  1 felipe felipe 9,7K Nov  4 17:28 main.ipynb\n",
      "\n"
     ]
    }
   ],
   "source": [
    "output = subprocess.check_output([\"ls\",\"-lha\"],universal_newlines=True)\n",
    "print(output)"
   ]
  },
  {
   "cell_type": "markdown",
   "metadata": {},
   "source": [
    "## run() examples"
   ]
  },
  {
   "cell_type": "code",
   "execution_count": 6,
   "metadata": {},
   "outputs": [
    {
     "data": {
      "text/plain": [
       "CompletedProcess(args=['ls', '-lha'], returncode=0)"
      ]
     },
     "execution_count": 6,
     "metadata": {},
     "output_type": "execute_result"
    }
   ],
   "source": [
    "cp = subprocess.run([\"ls\",\"-lha\"])\n",
    "cp"
   ]
  },
  {
   "cell_type": "code",
   "execution_count": 7,
   "metadata": {},
   "outputs": [
    {
     "data": {
      "text/plain": [
       "CompletedProcess(args=['ls -lha'], returncode=0)"
      ]
     },
     "execution_count": 7,
     "metadata": {},
     "output_type": "execute_result"
    }
   ],
   "source": [
    "cp = subprocess.run([\"ls -lha\"],shell=True)\n",
    "cp"
   ]
  },
  {
   "cell_type": "code",
   "execution_count": 8,
   "metadata": {},
   "outputs": [
    {
     "name": "stdout",
     "output_type": "stream",
     "text": [
      "CompletedProcess(args=['ls', '-lha'], returncode=0, stdout='total 24K\\ndrwxrwxr-x  3 felipe felipe 4,0K Nov  4 17:28 .\\ndrwxrwxr-x 39 felipe felipe 4,0K Nov  3 18:31 ..\\ndrwxrwxr-x  2 felipe felipe 4,0K Nov  3 19:32 .ipynb_checkpoints\\n-rw-rw-r--  1 felipe felipe 9,7K Nov  4 17:28 main.ipynb\\n', stderr='')\n"
     ]
    }
   ],
   "source": [
    "cp = subprocess.run([\"ls\",\"-lha\"], universal_newlines=True,stdout=subprocess.PIPE, stderr=subprocess.PIPE)\n",
    "print(cp)"
   ]
  },
  {
   "cell_type": "code",
   "execution_count": 9,
   "metadata": {},
   "outputs": [
    {
     "name": "stdout",
     "output_type": "stream",
     "text": [
      "\n",
      "ls: cannot access 'foo bar': No such file or directory\n",
      "\n"
     ]
    }
   ],
   "source": [
    "cp = subprocess.run([\"ls\",\"foo bar\"], stdout=subprocess.PIPE, stderr=subprocess.PIPE, universal_newlines=True)\n",
    "print(cp.stdout)\n",
    "print(cp.stderr)"
   ]
  },
  {
   "cell_type": "code",
   "execution_count": 10,
   "metadata": {},
   "outputs": [
    {
     "name": "stdout",
     "output_type": "stream",
     "text": [
      "[Errno 2] No such file or directory: 'xxxx': 'xxxx'\n"
     ]
    }
   ],
   "source": [
    "try:\n",
    "    cp = subprocess.run([\"xxxx\",\"foo bar\"], universal_newlines=True, stdout=subprocess.PIPE, stderr=subprocess.PIPE)\n",
    "except FileNotFoundError as e:\n",
    "    print(e)"
   ]
  },
  {
   "cell_type": "markdown",
   "metadata": {},
   "source": [
    "## popen"
   ]
  },
  {
   "cell_type": "code",
   "execution_count": 13,
   "metadata": {},
   "outputs": [],
   "source": [
    "from subprocess import Popen"
   ]
  },
  {
   "cell_type": "code",
   "execution_count": 14,
   "metadata": {},
   "outputs": [
    {
     "data": {
      "text/plain": [
       "0"
      ]
     },
     "execution_count": 14,
     "metadata": {},
     "output_type": "execute_result"
    }
   ],
   "source": [
    "p = Popen([\"ls\",\"-lha\"])\n",
    "p.wait()"
   ]
  },
  {
   "cell_type": "code",
   "execution_count": 15,
   "metadata": {},
   "outputs": [
    {
     "name": "stdout",
     "output_type": "stream",
     "text": [
      "total 24K\n",
      "drwxrwxr-x  3 felipe felipe 4,0K Nov  4 17:28 .\n",
      "drwxrwxr-x 39 felipe felipe 4,0K Nov  3 18:31 ..\n",
      "drwxrwxr-x  2 felipe felipe 4,0K Nov  3 19:32 .ipynb_checkpoints\n",
      "-rw-rw-r--  1 felipe felipe 9,7K Nov  4 17:28 main.ipynb\n",
      "\n",
      "\n"
     ]
    }
   ],
   "source": [
    "p = Popen([\"ls\",\"-lha\"], stdout=subprocess.PIPE, stderr= subprocess.PIPE, universal_newlines=True)\n",
    "\n",
    "output, errors = p.communicate()\n",
    "\n",
    "print(output)\n",
    "print(errors)"
   ]
  },
  {
   "cell_type": "code",
   "execution_count": 16,
   "metadata": {},
   "outputs": [
    {
     "name": "stdout",
     "output_type": "stream",
     "text": [
      "None\n",
      "\n",
      "total 24K\n",
      "drwxrwxr-x  3 felipe felipe 4,0K Nov  4 17:28 .\n",
      "drwxrwxr-x 39 felipe felipe 4,0K Nov  3 18:31 ..\n",
      "drwxrwxr-x  2 felipe felipe 4,0K Nov  3 19:32 .ipynb_checkpoints\n",
      "-rw-rw-r--  1 felipe felipe 9,7K Nov  4 17:28 main.ipynb\n",
      "\n"
     ]
    }
   ],
   "source": [
    "path_to_output_file = '/tmp/myoutput.txt'\n",
    "\n",
    "myoutput = open(path_to_output_file,'w+')\n",
    "\n",
    "p = Popen([\"ls\",\"-lha\"], stdout=myoutput, stderr= subprocess.PIPE, universal_newlines=True)\n",
    "\n",
    "output, errors = p.communicate()\n",
    "\n",
    "print(output)\n",
    "print(errors)\n",
    "\n",
    "with open(path_to_output_file,\"r\") as f:\n",
    "    print(f.read())\n"
   ]
  },
  {
   "cell_type": "code",
   "execution_count": 17,
   "metadata": {},
   "outputs": [
    {
     "name": "stdout",
     "output_type": "stream",
     "text": [
      "None\n",
      "None\n",
      "ls: cannot access 'foo bar': No such file or directory\n",
      "\n"
     ]
    }
   ],
   "source": [
    "path_to_output_file = '/tmp/myoutput.txt'\n",
    "\n",
    "myoutput = open(path_to_output_file,'w+')\n",
    "\n",
    "p = Popen([\"ls\",\"foo bar\"], stdout=myoutput, stderr= myoutput, universal_newlines=True)\n",
    "\n",
    "output, errors = p.communicate()\n",
    "\n",
    "print(output)\n",
    "print(errors)\n",
    "\n",
    "with open(path_to_output_file,\"r\") as f:\n",
    "    print(f.read())"
   ]
  },
  {
   "cell_type": "markdown",
   "metadata": {},
   "source": [
    "## pipe commands together"
   ]
  },
  {
   "cell_type": "code",
   "execution_count": 19,
   "metadata": {},
   "outputs": [
    {
     "name": "stdout",
     "output_type": "stream",
     "text": [
      "drwxrwxr-x  2 felipe felipe 4,0K Nov  3 19:32 .ipynb_checkpoints\n",
      "-rw-rw-r--  1 felipe felipe 9,7K Nov  4 17:28 main.ipynb\n",
      "\n"
     ]
    }
   ],
   "source": [
    "from subprocess import Popen,PIPE\n",
    "\n",
    "# this is equivalent to ls -lha | grep \"ipynb\"\n",
    "p1 = Popen([\"ls\",\"-lha\"], stdout=PIPE)\n",
    "p2 = Popen([\"grep\", \"ipynb\"], stdin=p1.stdout, stdout=PIPE, universal_newlines=True)\n",
    "\n",
    "p1.stdout.close()\n",
    "\n",
    "output = p2.communicate()[0]\n",
    "\n",
    "print(output)"
   ]
  },
  {
   "cell_type": "markdown",
   "metadata": {},
   "source": [
    "## async"
   ]
  },
  {
   "cell_type": "code",
   "execution_count": 52,
   "metadata": {},
   "outputs": [
    {
     "name": "stdout",
     "output_type": "stream",
     "text": [
      "[return code: 0]\n",
      "\n",
      "[stdout: ]\n",
      "total 24K\n",
      "drwxrwxr-x  3 felipe felipe 4,0K Nov  4 17:54 .\n",
      "drwxrwxr-x 39 felipe felipe 4,0K Nov  3 18:31 ..\n",
      "drwxrwxr-x  2 felipe felipe 4,0K Nov  3 19:32 .ipynb_checkpoints\n",
      "-rw-rw-r--  1 felipe felipe  11K Nov  4 17:54 main.ipynb\n",
      "\n",
      "b''\n",
      "stderr is empty\n"
     ]
    }
   ],
   "source": [
    "import asyncio\n",
    "\n",
    "proc = await asyncio.create_subprocess_exec(\n",
    "    'ls','-lha',\n",
    "    stdout=asyncio.subprocess.PIPE,\n",
    "    stderr=asyncio.subprocess.PIPE)\n",
    "\n",
    "\n",
    "# if proc takes very long to complete,\n",
    "# the CPUs are free to use cycles for \n",
    "# other processes\n",
    "stdout, stderr = await proc.communicate()\n",
    "\n",
    "print('[return code: '+ str(proc.returncode) +']')\n",
    "if stdout:\n",
    "    print('\\n[stdout: ]\\n'+str(stdout.decode()))\n",
    "else:\n",
    "    print('stdout is empty')\n",
    "       \n",
    "if stderr:\n",
    "    print(f'\\n[stderr]:\\n'+str(stderr.decode()))\n",
    "else:\n",
    "    print('stderr is empty')"
   ]
  },
  {
   "cell_type": "code",
   "execution_count": null,
   "metadata": {},
   "outputs": [],
   "source": []
  }
 ],
 "metadata": {
  "kernelspec": {
   "display_name": "python36",
   "language": "python",
   "name": "python36"
  },
  "language_info": {
   "codemirror_mode": {
    "name": "ipython",
    "version": 3
   },
   "file_extension": ".py",
   "mimetype": "text/x-python",
   "name": "python",
   "nbconvert_exporter": "python",
   "pygments_lexer": "ipython3",
   "version": "3.6.7"
  }
 },
 "nbformat": 4,
 "nbformat_minor": 2
}
