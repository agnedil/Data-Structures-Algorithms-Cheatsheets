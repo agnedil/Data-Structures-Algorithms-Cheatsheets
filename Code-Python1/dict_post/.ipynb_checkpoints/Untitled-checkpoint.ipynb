{
 "cells": [
  {
   "cell_type": "code",
   "execution_count": 1,
   "metadata": {
    "collapsed": true
   },
   "outputs": [],
   "source": [
    "d = {'foo':10,'bar':30,'baz':20}"
   ]
  },
  {
   "cell_type": "code",
   "execution_count": 2,
   "metadata": {},
   "outputs": [
    {
     "name": "stdout",
     "output_type": "stream",
     "text": [
      "baz => 20\n",
      "bar => 30\n",
      "foo => 10\n"
     ]
    }
   ],
   "source": [
    "for key,val in d.items():\n",
    "    print('{} => {}'.format(key,val))"
   ]
  },
  {
   "cell_type": "code",
   "execution_count": 3,
   "metadata": {},
   "outputs": [
    {
     "data": {
      "text/plain": [
       "{'bar': 2, 'foo': 1}"
      ]
     },
     "execution_count": 3,
     "metadata": {},
     "output_type": "execute_result"
    }
   ],
   "source": [
    "allowed_values = [1, 2]\n",
    "\n",
    "d = {'foo':1, 'bar':2, 'baz':3, 'quux':4 }\n",
    "\n",
    "filtered_items = [(k,v) for (k,v) in d.items() if v in allowed_values]\n",
    "\n",
    "dict(filtered_items)\n",
    "# >> {'bar': 2, 'foo': 1}"
   ]
  },
  {
   "cell_type": "code",
   "execution_count": 3,
   "metadata": {},
   "outputs": [
    {
     "data": {
      "text/plain": [
       "[('foo', 10), ('baz', 20), ('bar', 30)]"
      ]
     },
     "execution_count": 3,
     "metadata": {},
     "output_type": "execute_result"
    }
   ],
   "source": [
    "sorted(d.items(),key=lambda x:x[1])"
   ]
  },
  {
   "cell_type": "code",
   "execution_count": 4,
   "metadata": {},
   "outputs": [
    {
     "data": {
      "text/plain": [
       "[('bar', 30), ('baz', 20), ('foo', 10)]"
      ]
     },
     "execution_count": 4,
     "metadata": {},
     "output_type": "execute_result"
    }
   ],
   "source": [
    "sorted(d.items(),key=lambda x:x[0])"
   ]
  },
  {
   "cell_type": "code",
   "execution_count": 5,
   "metadata": {
    "collapsed": true
   },
   "outputs": [],
   "source": [
    "from collections import OrderedDict"
   ]
  },
  {
   "cell_type": "code",
   "execution_count": 8,
   "metadata": {},
   "outputs": [
    {
     "name": "stdout",
     "output_type": "stream",
     "text": [
      "foo => 10\n",
      "baz => 20\n",
      "bar => 30\n"
     ]
    }
   ],
   "source": [
    "d = {'foo':10, 'bar':30,'baz':20}\n",
    "\n",
    "sorted_list_of_tuples = sorted(d.items(),key=lambda x:x[1])\n",
    "\n",
    "od = OrderedDict(sorted_list_of_tuples)\n",
    "\n",
    "for key,val in od.items():\n",
    "    print('{} => {}'.format(key,val))"
   ]
  },
  {
   "cell_type": "code",
   "execution_count": 7,
   "metadata": {},
   "outputs": [
    {
     "data": {
      "text/plain": [
       "OrderedDict([('foo', 10), ('baz', 20), ('bar', 30)])"
      ]
     },
     "execution_count": 7,
     "metadata": {},
     "output_type": "execute_result"
    }
   ],
   "source": []
  },
  {
   "cell_type": "code",
   "execution_count": 9,
   "metadata": {},
   "outputs": [
    {
     "name": "stdout",
     "output_type": "stream",
     "text": [
      "baz => 32\n",
      "bar => 32\n",
      "foo => 10\n"
     ]
    }
   ],
   "source": [
    "d = dict()\n",
    "\n",
    "d['foo'] = 10\n",
    "d['bar'] = 32\n",
    "d['baz'] = 32\n",
    "\n",
    "for key,val in d.items():\n",
    "    print('{} => {}'.format(key,val))"
   ]
  },
  {
   "cell_type": "code",
   "execution_count": 11,
   "metadata": {},
   "outputs": [
    {
     "name": "stdout",
     "output_type": "stream",
     "text": [
      "foo => 10\n",
      "bar => 32\n",
      "baz => 5\n"
     ]
    }
   ],
   "source": [
    "od = OrderedDict()\n",
    "\n",
    "od['foo'] = 10\n",
    "od['bar'] = 32\n",
    "od['baz'] = 5\n",
    "\n",
    "for key,val in od.items():\n",
    "    print('{} => {}'.format(key,val))"
   ]
  },
  {
   "cell_type": "code",
   "execution_count": null,
   "metadata": {
    "collapsed": true
   },
   "outputs": [],
   "source": []
  }
 ],
 "metadata": {
  "kernelspec": {
   "display_name": "Global TF Kernel (Python 3)",
   "language": "python",
   "name": "global-tf-python-3"
  },
  "language_info": {
   "codemirror_mode": {
    "name": "ipython",
    "version": 3
   },
   "file_extension": ".py",
   "mimetype": "text/x-python",
   "name": "python",
   "nbconvert_exporter": "python",
   "pygments_lexer": "ipython3",
   "version": "3.5.2"
  }
 },
 "nbformat": 4,
 "nbformat_minor": 2
}
