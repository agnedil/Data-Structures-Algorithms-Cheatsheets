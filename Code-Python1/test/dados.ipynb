{
 "cells": [
  {
   "cell_type": "markdown",
   "metadata": {},
   "source": [
    "- Todos os arquivos CSV possuem cabeçalho com o nome das colunas e campos separados por vírgula “,”.\n",
    "- Coloque a resposta final de cada questão com **dois dígitos após a vírgula.**\n",
    "- **seed 42**"
   ]
  },
  {
   "cell_type": "code",
   "execution_count": 147,
   "metadata": {
    "collapsed": true
   },
   "outputs": [],
   "source": [
    "import pandas as pd\n",
    "import numpy as np\n",
    "import sklearn\n",
    "import matplotlib.pyplot as plt\n",
    "\n",
    "from sklearn.cluster import KMeans\n",
    "\n",
    "from sklearn import metrics\n",
    "from scipy.spatial.distance import cdist\n",
    "from sklearn.naive_bayes import GaussianNB\n",
    "from sklearn.neighbors import KNeighborsClassifier\n",
    "from sklearn.model_selection import KFold\n",
    "from sklearn.model_selection import LeaveOneOut\n",
    "from sklearn.linear_model import Ridge\n",
    "from math import sqrt\n",
    "from sklearn.tree import DecisionTreeRegressor\n",
    "import scipy.stats as sp"
   ]
  },
  {
   "cell_type": "code",
   "execution_count": 145,
   "metadata": {
    "collapsed": true
   },
   "outputs": [],
   "source": [
    "np.set_printoptions(precision=2,suppress=True)"
   ]
  },
  {
   "cell_type": "code",
   "execution_count": 27,
   "metadata": {},
   "outputs": [
    {
     "data": {
      "text/plain": [
       "'0.23.1'"
      ]
     },
     "execution_count": 27,
     "metadata": {},
     "output_type": "execute_result"
    }
   ],
   "source": [
    "pd.__version__"
   ]
  },
  {
   "cell_type": "code",
   "execution_count": 28,
   "metadata": {},
   "outputs": [],
   "source": [
    "root = \"/home/felipe/python-sandbox/python3/notebooks/test/\""
   ]
  },
  {
   "cell_type": "markdown",
   "metadata": {},
   "source": [
    "### q1"
   ]
  },
  {
   "cell_type": "code",
   "execution_count": 25,
   "metadata": {},
   "outputs": [
    {
     "data": {
      "text/html": [
       "<div>\n",
       "<style scoped>\n",
       "    .dataframe tbody tr th:only-of-type {\n",
       "        vertical-align: middle;\n",
       "    }\n",
       "\n",
       "    .dataframe tbody tr th {\n",
       "        vertical-align: top;\n",
       "    }\n",
       "\n",
       "    .dataframe thead th {\n",
       "        text-align: right;\n",
       "    }\n",
       "</style>\n",
       "<table border=\"1\" class=\"dataframe\">\n",
       "  <thead>\n",
       "    <tr style=\"text-align: right;\">\n",
       "      <th></th>\n",
       "      <th>X1</th>\n",
       "      <th>X2</th>\n",
       "      <th>X3</th>\n",
       "      <th>X4</th>\n",
       "    </tr>\n",
       "  </thead>\n",
       "  <tbody>\n",
       "    <tr>\n",
       "      <th>0</th>\n",
       "      <td>-0.075701</td>\n",
       "      <td>0.470857</td>\n",
       "      <td>0.133139</td>\n",
       "      <td>-0.152900</td>\n",
       "    </tr>\n",
       "    <tr>\n",
       "      <th>1</th>\n",
       "      <td>-0.328561</td>\n",
       "      <td>0.427323</td>\n",
       "      <td>-0.181237</td>\n",
       "      <td>-0.173041</td>\n",
       "    </tr>\n",
       "    <tr>\n",
       "      <th>2</th>\n",
       "      <td>-0.470727</td>\n",
       "      <td>-0.150515</td>\n",
       "      <td>0.000954</td>\n",
       "      <td>0.070937</td>\n",
       "    </tr>\n",
       "    <tr>\n",
       "      <th>3</th>\n",
       "      <td>-0.280037</td>\n",
       "      <td>-0.250587</td>\n",
       "      <td>-0.216587</td>\n",
       "      <td>-0.372430</td>\n",
       "    </tr>\n",
       "    <tr>\n",
       "      <th>4</th>\n",
       "      <td>-0.139359</td>\n",
       "      <td>-0.124966</td>\n",
       "      <td>0.081284</td>\n",
       "      <td>0.083914</td>\n",
       "    </tr>\n",
       "  </tbody>\n",
       "</table>\n",
       "</div>"
      ],
      "text/plain": [
       "         X1        X2        X3        X4\n",
       "0 -0.075701  0.470857  0.133139 -0.152900\n",
       "1 -0.328561  0.427323 -0.181237 -0.173041\n",
       "2 -0.470727 -0.150515  0.000954  0.070937\n",
       "3 -0.280037 -0.250587 -0.216587 -0.372430\n",
       "4 -0.139359 -0.124966  0.081284  0.083914"
      ]
     },
     "execution_count": 25,
     "metadata": {},
     "output_type": "execute_result"
    }
   ],
   "source": [
    "df_agrup_q1 = pd.read_csv(root+\"agrupamento_Q1.csv\")\n",
    "df_agrup_q1.head()"
   ]
  },
  {
   "cell_type": "code",
   "execution_count": 38,
   "metadata": {},
   "outputs": [
    {
     "data": {
      "text/plain": [
       "(1000, 4)"
      ]
     },
     "execution_count": 38,
     "metadata": {},
     "output_type": "execute_result"
    }
   ],
   "source": [
    "X = df_agrup_q1.values\n",
    "X.shape"
   ]
  },
  {
   "cell_type": "code",
   "execution_count": 41,
   "metadata": {},
   "outputs": [
    {
     "data": {
      "text/html": [
       "<div>\n",
       "<style scoped>\n",
       "    .dataframe tbody tr th:only-of-type {\n",
       "        vertical-align: middle;\n",
       "    }\n",
       "\n",
       "    .dataframe tbody tr th {\n",
       "        vertical-align: top;\n",
       "    }\n",
       "\n",
       "    .dataframe thead th {\n",
       "        text-align: right;\n",
       "    }\n",
       "</style>\n",
       "<table border=\"1\" class=\"dataframe\">\n",
       "  <thead>\n",
       "    <tr style=\"text-align: right;\">\n",
       "      <th></th>\n",
       "      <th>Unnamed: 0</th>\n",
       "      <th>X1</th>\n",
       "      <th>X2</th>\n",
       "      <th>X3</th>\n",
       "      <th>X4</th>\n",
       "    </tr>\n",
       "  </thead>\n",
       "  <tbody>\n",
       "    <tr>\n",
       "      <th>0</th>\n",
       "      <td>1</td>\n",
       "      <td>1.488531</td>\n",
       "      <td>-0.430586</td>\n",
       "      <td>0.208942</td>\n",
       "      <td>0.018485</td>\n",
       "    </tr>\n",
       "    <tr>\n",
       "      <th>1</th>\n",
       "      <td>2</td>\n",
       "      <td>0.149391</td>\n",
       "      <td>1.549535</td>\n",
       "      <td>0.219688</td>\n",
       "      <td>0.917854</td>\n",
       "    </tr>\n",
       "    <tr>\n",
       "      <th>2</th>\n",
       "      <td>3</td>\n",
       "      <td>1.276714</td>\n",
       "      <td>0.844500</td>\n",
       "      <td>1.211906</td>\n",
       "      <td>-0.494781</td>\n",
       "    </tr>\n",
       "    <tr>\n",
       "      <th>3</th>\n",
       "      <td>4</td>\n",
       "      <td>-0.224172</td>\n",
       "      <td>-0.265252</td>\n",
       "      <td>1.004367</td>\n",
       "      <td>-0.209741</td>\n",
       "    </tr>\n",
       "    <tr>\n",
       "      <th>4</th>\n",
       "      <td>5</td>\n",
       "      <td>0.059576</td>\n",
       "      <td>0.946101</td>\n",
       "      <td>1.114006</td>\n",
       "      <td>0.401051</td>\n",
       "    </tr>\n",
       "  </tbody>\n",
       "</table>\n",
       "</div>"
      ],
      "text/plain": [
       "   Unnamed: 0        X1        X2        X3        X4\n",
       "0           1  1.488531 -0.430586  0.208942  0.018485\n",
       "1           2  0.149391  1.549535  0.219688  0.917854\n",
       "2           3  1.276714  0.844500  1.211906 -0.494781\n",
       "3           4 -0.224172 -0.265252  1.004367 -0.209741\n",
       "4           5  0.059576  0.946101  1.114006  0.401051"
      ]
     },
     "execution_count": 41,
     "metadata": {},
     "output_type": "execute_result"
    }
   ],
   "source": [
    "df_agrup_centroides_q1 = pd.read_csv(root+\"agrup_centroides_Q1.csv\")\n",
    "df_agrup_centroides_q1.head()"
   ]
  },
  {
   "cell_type": "code",
   "execution_count": 63,
   "metadata": {},
   "outputs": [
    {
     "data": {
      "text/plain": [
       "(12, 4)"
      ]
     },
     "execution_count": 63,
     "metadata": {},
     "output_type": "execute_result"
    }
   ],
   "source": [
    "centroids = df_agrup_centroides_q1.values[:,1:]\n",
    "centroids.shape"
   ]
  },
  {
   "cell_type": "code",
   "execution_count": 65,
   "metadata": {},
   "outputs": [
    {
     "name": "stdout",
     "output_type": "stream",
     "text": [
      "[[ 1.01  0.01 -0.01  0.03]\n",
      " [ 1.    0.   -0.01  1.  ]\n",
      " [ 1.    0.01  1.    0.  ]\n",
      " [-0.03  0.02  0.01 -0.02]\n",
      " [ 0.99  0.99  0.97 -0.  ]]\n"
     ]
    }
   ],
   "source": [
    "kmeans = KMeans(n_clusters=5, random_state=42, init=centroids[:5,:],max_iter=10,n_init=1).fit(X)\n",
    "print(kmeans.cluster_centers_)"
   ]
  },
  {
   "cell_type": "code",
   "execution_count": 66,
   "metadata": {},
   "outputs": [
    {
     "data": {
      "image/png": "[encoded data removed]",
      "text/plain": [
       "<matplotlib.figure.Figure at 0x7f72368de630>"
      ]
     },
     "metadata": {},
     "output_type": "display_data"
    }
   ],
   "source": [
    "plt.clf()\n",
    "\n",
    "colors = ['b', 'g', 'r']\n",
    "markers = ['o', 'v', 's']\n",
    "\n",
    "# k means determine k\n",
    "distortions = []\n",
    "K = range(1,12)\n",
    "for k in K:\n",
    "    kmeanModel = KMeans(n_clusters=k, random_state=42, init=centroids[:k,:],max_iter=10,n_init=1).fit(X)\n",
    "    distortions.append(sum(np.min(cdist(X, kmeanModel.cluster_centers_, 'euclidean'), axis=1)) / X.shape[0])\n",
    "\n",
    "# Plot the elbow\n",
    "plt.plot(K, distortions, 'bx-')\n",
    "plt.xlabel('k')\n",
    "plt.ylabel('Distortion')\n",
    "plt.title('The Elbow Method showing the optimal k')\n",
    "plt.xticks(np.arange(1,12,1))\n",
    "plt.show()"
   ]
  },
  {
   "cell_type": "markdown",
   "metadata": {},
   "source": [
    "### q2"
   ]
  },
  {
   "cell_type": "markdown",
   "metadata": {},
   "source": [
    "### q3"
   ]
  },
  {
   "cell_type": "code",
   "execution_count": 31,
   "metadata": {},
   "outputs": [
    {
     "data": {
      "text/html": [
       "<div>\n",
       "<style scoped>\n",
       "    .dataframe tbody tr th:only-of-type {\n",
       "        vertical-align: middle;\n",
       "    }\n",
       "\n",
       "    .dataframe tbody tr th {\n",
       "        vertical-align: top;\n",
       "    }\n",
       "\n",
       "    .dataframe thead th {\n",
       "        text-align: right;\n",
       "    }\n",
       "</style>\n",
       "<table border=\"1\" class=\"dataframe\">\n",
       "  <thead>\n",
       "    <tr style=\"text-align: right;\">\n",
       "      <th></th>\n",
       "      <th>Genero</th>\n",
       "      <th>Idade</th>\n",
       "      <th>Escolaridade</th>\n",
       "      <th>Profissao</th>\n",
       "      <th>Target</th>\n",
       "    </tr>\n",
       "  </thead>\n",
       "  <tbody>\n",
       "    <tr>\n",
       "      <th>0</th>\n",
       "      <td>F</td>\n",
       "      <td>a - Ate 25 anos</td>\n",
       "      <td>Fundamental</td>\n",
       "      <td>b</td>\n",
       "      <td>0</td>\n",
       "    </tr>\n",
       "    <tr>\n",
       "      <th>1</th>\n",
       "      <td>M</td>\n",
       "      <td>a - Ate 25 anos</td>\n",
       "      <td>Medio</td>\n",
       "      <td>d</td>\n",
       "      <td>1</td>\n",
       "    </tr>\n",
       "    <tr>\n",
       "      <th>2</th>\n",
       "      <td>F</td>\n",
       "      <td>c - 36 a 45 anos</td>\n",
       "      <td>Fundamental</td>\n",
       "      <td>a</td>\n",
       "      <td>1</td>\n",
       "    </tr>\n",
       "    <tr>\n",
       "      <th>3</th>\n",
       "      <td>M</td>\n",
       "      <td>d - 46 a 55 anos</td>\n",
       "      <td>Fundamental</td>\n",
       "      <td>a</td>\n",
       "      <td>0</td>\n",
       "    </tr>\n",
       "    <tr>\n",
       "      <th>4</th>\n",
       "      <td>F</td>\n",
       "      <td>c - 36 a 45 anos</td>\n",
       "      <td>Fundamental</td>\n",
       "      <td>b</td>\n",
       "      <td>1</td>\n",
       "    </tr>\n",
       "  </tbody>\n",
       "</table>\n",
       "</div>"
      ],
      "text/plain": [
       "  Genero             Idade Escolaridade Profissao  Target\n",
       "0      F  a - Ate 25 anos   Fundamental         b       0\n",
       "1      M  a - Ate 25 anos         Medio         d       1\n",
       "2      F  c - 36 a 45 anos  Fundamental         a       1\n",
       "3      M  d - 46 a 55 anos  Fundamental         a       0\n",
       "4      F  c - 36 a 45 anos  Fundamental         b       1"
      ]
     },
     "execution_count": 31,
     "metadata": {},
     "output_type": "execute_result"
    }
   ],
   "source": [
    "df_classif_q3 = pd.read_csv(root+\"classificacao_Q3.csv\")\n",
    "df_classif_q3.head()"
   ]
  },
  {
   "cell_type": "code",
   "execution_count": 67,
   "metadata": {},
   "outputs": [
    {
     "data": {
      "text/plain": [
       "count     1000\n",
       "unique       2\n",
       "top          F\n",
       "freq       583\n",
       "Name: Genero, dtype: object"
      ]
     },
     "execution_count": 67,
     "metadata": {},
     "output_type": "execute_result"
    }
   ],
   "source": [
    "df_classif_q3['Genero'].astype('category').describe()"
   ]
  },
  {
   "cell_type": "code",
   "execution_count": 68,
   "metadata": {},
   "outputs": [
    {
     "data": {
      "text/plain": [
       "count                 1000\n",
       "unique                   5\n",
       "top       b - 26 a 35 anos\n",
       "freq                   297\n",
       "Name: Idade, dtype: object"
      ]
     },
     "execution_count": 68,
     "metadata": {},
     "output_type": "execute_result"
    }
   ],
   "source": [
    "df_classif_q3['Idade'].astype('category').describe()"
   ]
  },
  {
   "cell_type": "code",
   "execution_count": 69,
   "metadata": {},
   "outputs": [
    {
     "data": {
      "text/plain": [
       "count            1000\n",
       "unique              4\n",
       "top       Fundamental\n",
       "freq              501\n",
       "Name: Escolaridade, dtype: object"
      ]
     },
     "execution_count": 69,
     "metadata": {},
     "output_type": "execute_result"
    }
   ],
   "source": [
    "df_classif_q3['Escolaridade'].astype('category').describe()"
   ]
  },
  {
   "cell_type": "code",
   "execution_count": 70,
   "metadata": {},
   "outputs": [
    {
     "data": {
      "text/plain": [
       "count     1000\n",
       "unique       5\n",
       "top          b\n",
       "freq       423\n",
       "Name: Profissao, dtype: object"
      ]
     },
     "execution_count": 70,
     "metadata": {},
     "output_type": "execute_result"
    }
   ],
   "source": [
    "df_classif_q3['Profissao'].astype('category').describe()"
   ]
  },
  {
   "cell_type": "code",
   "execution_count": 71,
   "metadata": {
    "collapsed": true
   },
   "outputs": [],
   "source": [
    "df_classif_q3_ohe = df_classif_q3.copy()"
   ]
  },
  {
   "cell_type": "code",
   "execution_count": 72,
   "metadata": {
    "collapsed": true
   },
   "outputs": [],
   "source": [
    "df_classif_q3_ohe = pd.concat([\n",
    "    df_classif_q3_ohe,pd.get_dummies(df_classif_q3_ohe['Genero'], prefix='Genero')\n",
    "],axis=1).drop(['Genero'],axis=1)"
   ]
  },
  {
   "cell_type": "code",
   "execution_count": 73,
   "metadata": {
    "collapsed": true
   },
   "outputs": [],
   "source": [
    "df_classif_q3_ohe = pd.concat([\n",
    "    df_classif_q3_ohe,pd.get_dummies(df_classif_q3_ohe['Idade'], prefix='Idade')\n",
    "],axis=1).drop(['Idade'],axis=1)"
   ]
  },
  {
   "cell_type": "code",
   "execution_count": 74,
   "metadata": {
    "collapsed": true
   },
   "outputs": [],
   "source": [
    "df_classif_q3_ohe = pd.concat([\n",
    "    df_classif_q3_ohe,pd.get_dummies(df_classif_q3_ohe['Escolaridade'], prefix='Escolaridade')\n",
    "],axis=1).drop(['Escolaridade'],axis=1)"
   ]
  },
  {
   "cell_type": "code",
   "execution_count": 75,
   "metadata": {
    "collapsed": true
   },
   "outputs": [],
   "source": [
    "df_classif_q3_ohe = pd.concat([\n",
    "    df_classif_q3_ohe,pd.get_dummies(df_classif_q3_ohe['Profissao'], prefix='Profissao')\n",
    "],axis=1).drop(['Profissao'],axis=1)"
   ]
  },
  {
   "cell_type": "code",
   "execution_count": 76,
   "metadata": {},
   "outputs": [
    {
     "data": {
      "text/html": [
       "<div>\n",
       "<style scoped>\n",
       "    .dataframe tbody tr th:only-of-type {\n",
       "        vertical-align: middle;\n",
       "    }\n",
       "\n",
       "    .dataframe tbody tr th {\n",
       "        vertical-align: top;\n",
       "    }\n",
       "\n",
       "    .dataframe thead th {\n",
       "        text-align: right;\n",
       "    }\n",
       "</style>\n",
       "<table border=\"1\" class=\"dataframe\">\n",
       "  <thead>\n",
       "    <tr style=\"text-align: right;\">\n",
       "      <th></th>\n",
       "      <th>Target</th>\n",
       "      <th>Genero_F</th>\n",
       "      <th>Genero_M</th>\n",
       "      <th>Idade_a - Ate 25 anos</th>\n",
       "      <th>Idade_b - 26 a 35 anos</th>\n",
       "      <th>Idade_c - 36 a 45 anos</th>\n",
       "      <th>Idade_d - 46 a 55 anos</th>\n",
       "      <th>Idade_e - Mais 56 anos</th>\n",
       "      <th>Escolaridade_Fundamental</th>\n",
       "      <th>Escolaridade_Medio</th>\n",
       "      <th>Escolaridade_Pos-graduacao</th>\n",
       "      <th>Escolaridade_Superior</th>\n",
       "      <th>Profissao_a</th>\n",
       "      <th>Profissao_b</th>\n",
       "      <th>Profissao_c</th>\n",
       "      <th>Profissao_d</th>\n",
       "      <th>Profissao_e</th>\n",
       "    </tr>\n",
       "  </thead>\n",
       "  <tbody>\n",
       "    <tr>\n",
       "      <th>0</th>\n",
       "      <td>0</td>\n",
       "      <td>1</td>\n",
       "      <td>0</td>\n",
       "      <td>1</td>\n",
       "      <td>0</td>\n",
       "      <td>0</td>\n",
       "      <td>0</td>\n",
       "      <td>0</td>\n",
       "      <td>1</td>\n",
       "      <td>0</td>\n",
       "      <td>0</td>\n",
       "      <td>0</td>\n",
       "      <td>0</td>\n",
       "      <td>1</td>\n",
       "      <td>0</td>\n",
       "      <td>0</td>\n",
       "      <td>0</td>\n",
       "    </tr>\n",
       "    <tr>\n",
       "      <th>1</th>\n",
       "      <td>1</td>\n",
       "      <td>0</td>\n",
       "      <td>1</td>\n",
       "      <td>1</td>\n",
       "      <td>0</td>\n",
       "      <td>0</td>\n",
       "      <td>0</td>\n",
       "      <td>0</td>\n",
       "      <td>0</td>\n",
       "      <td>1</td>\n",
       "      <td>0</td>\n",
       "      <td>0</td>\n",
       "      <td>0</td>\n",
       "      <td>0</td>\n",
       "      <td>0</td>\n",
       "      <td>1</td>\n",
       "      <td>0</td>\n",
       "    </tr>\n",
       "    <tr>\n",
       "      <th>2</th>\n",
       "      <td>1</td>\n",
       "      <td>1</td>\n",
       "      <td>0</td>\n",
       "      <td>0</td>\n",
       "      <td>0</td>\n",
       "      <td>1</td>\n",
       "      <td>0</td>\n",
       "      <td>0</td>\n",
       "      <td>1</td>\n",
       "      <td>0</td>\n",
       "      <td>0</td>\n",
       "      <td>0</td>\n",
       "      <td>1</td>\n",
       "      <td>0</td>\n",
       "      <td>0</td>\n",
       "      <td>0</td>\n",
       "      <td>0</td>\n",
       "    </tr>\n",
       "    <tr>\n",
       "      <th>3</th>\n",
       "      <td>0</td>\n",
       "      <td>0</td>\n",
       "      <td>1</td>\n",
       "      <td>0</td>\n",
       "      <td>0</td>\n",
       "      <td>0</td>\n",
       "      <td>1</td>\n",
       "      <td>0</td>\n",
       "      <td>1</td>\n",
       "      <td>0</td>\n",
       "      <td>0</td>\n",
       "      <td>0</td>\n",
       "      <td>1</td>\n",
       "      <td>0</td>\n",
       "      <td>0</td>\n",
       "      <td>0</td>\n",
       "      <td>0</td>\n",
       "    </tr>\n",
       "    <tr>\n",
       "      <th>4</th>\n",
       "      <td>1</td>\n",
       "      <td>1</td>\n",
       "      <td>0</td>\n",
       "      <td>0</td>\n",
       "      <td>0</td>\n",
       "      <td>1</td>\n",
       "      <td>0</td>\n",
       "      <td>0</td>\n",
       "      <td>1</td>\n",
       "      <td>0</td>\n",
       "      <td>0</td>\n",
       "      <td>0</td>\n",
       "      <td>0</td>\n",
       "      <td>1</td>\n",
       "      <td>0</td>\n",
       "      <td>0</td>\n",
       "      <td>0</td>\n",
       "    </tr>\n",
       "  </tbody>\n",
       "</table>\n",
       "</div>"
      ],
      "text/plain": [
       "   Target  Genero_F  Genero_M  Idade_a - Ate 25 anos   Idade_b - 26 a 35 anos  \\\n",
       "0       0         1         0                       1                       0   \n",
       "1       1         0         1                       1                       0   \n",
       "2       1         1         0                       0                       0   \n",
       "3       0         0         1                       0                       0   \n",
       "4       1         1         0                       0                       0   \n",
       "\n",
       "   Idade_c - 36 a 45 anos  Idade_d - 46 a 55 anos  Idade_e - Mais 56 anos  \\\n",
       "0                       0                       0                       0   \n",
       "1                       0                       0                       0   \n",
       "2                       1                       0                       0   \n",
       "3                       0                       1                       0   \n",
       "4                       1                       0                       0   \n",
       "\n",
       "   Escolaridade_Fundamental  Escolaridade_Medio  Escolaridade_Pos-graduacao  \\\n",
       "0                         1                   0                           0   \n",
       "1                         0                   1                           0   \n",
       "2                         1                   0                           0   \n",
       "3                         1                   0                           0   \n",
       "4                         1                   0                           0   \n",
       "\n",
       "   Escolaridade_Superior  Profissao_a  Profissao_b  Profissao_c  Profissao_d  \\\n",
       "0                      0            0            1            0            0   \n",
       "1                      0            0            0            0            1   \n",
       "2                      0            1            0            0            0   \n",
       "3                      0            1            0            0            0   \n",
       "4                      0            0            1            0            0   \n",
       "\n",
       "   Profissao_e  \n",
       "0            0  \n",
       "1            0  \n",
       "2            0  \n",
       "3            0  \n",
       "4            0  "
      ]
     },
     "execution_count": 76,
     "metadata": {},
     "output_type": "execute_result"
    }
   ],
   "source": [
    "df_classif_q3_ohe.head()"
   ]
  },
  {
   "cell_type": "code",
   "execution_count": 95,
   "metadata": {},
   "outputs": [
    {
     "data": {
      "text/plain": [
       "0.772"
      ]
     },
     "execution_count": 95,
     "metadata": {},
     "output_type": "execute_result"
    }
   ],
   "source": [
    "df_classif_q3_ohe['Target'].mean()"
   ]
  },
  {
   "cell_type": "code",
   "execution_count": 80,
   "metadata": {},
   "outputs": [
    {
     "data": {
      "text/plain": [
       "1000"
      ]
     },
     "execution_count": 80,
     "metadata": {},
     "output_type": "execute_result"
    }
   ],
   "source": [
    "len(df_classif_q3_ohe)"
   ]
  },
  {
   "cell_type": "code",
   "execution_count": 83,
   "metadata": {},
   "outputs": [
    {
     "data": {
      "text/plain": [
       "((500, 16), (500, 16), (500, 1), (500, 1))"
      ]
     },
     "execution_count": 83,
     "metadata": {},
     "output_type": "execute_result"
    }
   ],
   "source": [
    "X_train = df_classif_q3_ohe.drop(['Target'],axis=1).values[:500,:]\n",
    "X_test = df_classif_q3_ohe.drop(['Target'],axis=1).values[500:,:]\n",
    "y_train = df_classif_q3_ohe[['Target']].values[:500,:]\n",
    "y_test = df_classif_q3_ohe[['Target']].values[500:,:]\n",
    "\n",
    "X_train.shape,X_test.shape,y_train.shape,y_test.shape"
   ]
  },
  {
   "cell_type": "code",
   "execution_count": 85,
   "metadata": {},
   "outputs": [
    {
     "data": {
      "text/plain": [
       "GaussianNB(priors=None)"
      ]
     },
     "execution_count": 85,
     "metadata": {},
     "output_type": "execute_result"
    }
   ],
   "source": [
    "clf = GaussianNB()\n",
    "clf.fit(X_train,y_train.ravel())"
   ]
  },
  {
   "cell_type": "code",
   "execution_count": 93,
   "metadata": {},
   "outputs": [
    {
     "data": {
      "text/plain": [
       "0.604"
      ]
     },
     "execution_count": 93,
     "metadata": {},
     "output_type": "execute_result"
    }
   ],
   "source": [
    "preds_train = clf.predict(X_train)\n",
    "metrics.accuracy_score(y_train,preds_train)"
   ]
  },
  {
   "cell_type": "code",
   "execution_count": 94,
   "metadata": {},
   "outputs": [
    {
     "data": {
      "text/plain": [
       "0.546"
      ]
     },
     "execution_count": 94,
     "metadata": {},
     "output_type": "execute_result"
    }
   ],
   "source": [
    "preds_test = clf.predict(X_test)\n",
    "metrics.accuracy_score(y_test,preds_test)"
   ]
  },
  {
   "cell_type": "markdown",
   "metadata": {},
   "source": [
    "### q4"
   ]
  },
  {
   "cell_type": "code",
   "execution_count": 32,
   "metadata": {},
   "outputs": [
    {
     "data": {
      "text/html": [
       "<div>\n",
       "<style scoped>\n",
       "    .dataframe tbody tr th:only-of-type {\n",
       "        vertical-align: middle;\n",
       "    }\n",
       "\n",
       "    .dataframe tbody tr th {\n",
       "        vertical-align: top;\n",
       "    }\n",
       "\n",
       "    .dataframe thead th {\n",
       "        text-align: right;\n",
       "    }\n",
       "</style>\n",
       "<table border=\"1\" class=\"dataframe\">\n",
       "  <thead>\n",
       "    <tr style=\"text-align: right;\">\n",
       "      <th></th>\n",
       "      <th>x0</th>\n",
       "      <th>x1</th>\n",
       "      <th>x2</th>\n",
       "      <th>x3</th>\n",
       "      <th>x4</th>\n",
       "      <th>x5</th>\n",
       "      <th>x6</th>\n",
       "      <th>x7</th>\n",
       "      <th>x8</th>\n",
       "      <th>x9</th>\n",
       "      <th>...</th>\n",
       "      <th>x91</th>\n",
       "      <th>x92</th>\n",
       "      <th>x93</th>\n",
       "      <th>x94</th>\n",
       "      <th>x95</th>\n",
       "      <th>x96</th>\n",
       "      <th>x97</th>\n",
       "      <th>x98</th>\n",
       "      <th>x99</th>\n",
       "      <th>target</th>\n",
       "    </tr>\n",
       "  </thead>\n",
       "  <tbody>\n",
       "    <tr>\n",
       "      <th>0</th>\n",
       "      <td>1.696199</td>\n",
       "      <td>-0.792598</td>\n",
       "      <td>-0.349427</td>\n",
       "      <td>-0.464560</td>\n",
       "      <td>3.187014</td>\n",
       "      <td>0.035976</td>\n",
       "      <td>1.033274</td>\n",
       "      <td>-1.504968</td>\n",
       "      <td>0.204693</td>\n",
       "      <td>1.691204</td>\n",
       "      <td>...</td>\n",
       "      <td>1.488142</td>\n",
       "      <td>-0.686337</td>\n",
       "      <td>2.084970</td>\n",
       "      <td>-0.685140</td>\n",
       "      <td>-2.049451</td>\n",
       "      <td>2.015426</td>\n",
       "      <td>1.158477</td>\n",
       "      <td>-0.309441</td>\n",
       "      <td>-1.549833</td>\n",
       "      <td>4.0</td>\n",
       "    </tr>\n",
       "    <tr>\n",
       "      <th>1</th>\n",
       "      <td>-0.236696</td>\n",
       "      <td>-2.202342</td>\n",
       "      <td>0.024023</td>\n",
       "      <td>1.497700</td>\n",
       "      <td>-0.069758</td>\n",
       "      <td>-2.467088</td>\n",
       "      <td>1.126529</td>\n",
       "      <td>-0.570557</td>\n",
       "      <td>2.079251</td>\n",
       "      <td>-1.882632</td>\n",
       "      <td>...</td>\n",
       "      <td>0.405567</td>\n",
       "      <td>0.509564</td>\n",
       "      <td>1.374071</td>\n",
       "      <td>-0.016943</td>\n",
       "      <td>-0.429280</td>\n",
       "      <td>-0.895016</td>\n",
       "      <td>1.259566</td>\n",
       "      <td>-0.354139</td>\n",
       "      <td>0.806797</td>\n",
       "      <td>5.0</td>\n",
       "    </tr>\n",
       "    <tr>\n",
       "      <th>2</th>\n",
       "      <td>-0.436683</td>\n",
       "      <td>1.563816</td>\n",
       "      <td>-0.895999</td>\n",
       "      <td>-0.580425</td>\n",
       "      <td>0.311060</td>\n",
       "      <td>-0.187369</td>\n",
       "      <td>0.805249</td>\n",
       "      <td>-2.399522</td>\n",
       "      <td>-0.578818</td>\n",
       "      <td>1.586981</td>\n",
       "      <td>...</td>\n",
       "      <td>0.933578</td>\n",
       "      <td>-1.285978</td>\n",
       "      <td>0.503162</td>\n",
       "      <td>0.204829</td>\n",
       "      <td>-0.753835</td>\n",
       "      <td>0.290033</td>\n",
       "      <td>1.721487</td>\n",
       "      <td>1.304518</td>\n",
       "      <td>0.478903</td>\n",
       "      <td>3.0</td>\n",
       "    </tr>\n",
       "    <tr>\n",
       "      <th>3</th>\n",
       "      <td>1.425908</td>\n",
       "      <td>0.400055</td>\n",
       "      <td>-0.305038</td>\n",
       "      <td>-0.930251</td>\n",
       "      <td>-2.214549</td>\n",
       "      <td>1.763379</td>\n",
       "      <td>-0.239868</td>\n",
       "      <td>-2.058891</td>\n",
       "      <td>-1.006533</td>\n",
       "      <td>-2.156839</td>\n",
       "      <td>...</td>\n",
       "      <td>-0.849927</td>\n",
       "      <td>1.402768</td>\n",
       "      <td>0.393653</td>\n",
       "      <td>-1.466818</td>\n",
       "      <td>0.152257</td>\n",
       "      <td>-4.004950</td>\n",
       "      <td>0.676342</td>\n",
       "      <td>-1.927319</td>\n",
       "      <td>1.959032</td>\n",
       "      <td>8.0</td>\n",
       "    </tr>\n",
       "    <tr>\n",
       "      <th>4</th>\n",
       "      <td>-0.186156</td>\n",
       "      <td>-0.975764</td>\n",
       "      <td>0.594660</td>\n",
       "      <td>-1.181980</td>\n",
       "      <td>-1.443414</td>\n",
       "      <td>-0.797651</td>\n",
       "      <td>-1.252608</td>\n",
       "      <td>-0.060452</td>\n",
       "      <td>0.130702</td>\n",
       "      <td>-2.343517</td>\n",
       "      <td>...</td>\n",
       "      <td>-1.444435</td>\n",
       "      <td>-1.818126</td>\n",
       "      <td>0.446574</td>\n",
       "      <td>0.239328</td>\n",
       "      <td>0.802939</td>\n",
       "      <td>-2.035289</td>\n",
       "      <td>-1.433793</td>\n",
       "      <td>-0.218596</td>\n",
       "      <td>0.619317</td>\n",
       "      <td>9.0</td>\n",
       "    </tr>\n",
       "  </tbody>\n",
       "</table>\n",
       "<p>5 rows × 101 columns</p>\n",
       "</div>"
      ],
      "text/plain": [
       "         x0        x1        x2        x3        x4        x5        x6  \\\n",
       "0  1.696199 -0.792598 -0.349427 -0.464560  3.187014  0.035976  1.033274   \n",
       "1 -0.236696 -2.202342  0.024023  1.497700 -0.069758 -2.467088  1.126529   \n",
       "2 -0.436683  1.563816 -0.895999 -0.580425  0.311060 -0.187369  0.805249   \n",
       "3  1.425908  0.400055 -0.305038 -0.930251 -2.214549  1.763379 -0.239868   \n",
       "4 -0.186156 -0.975764  0.594660 -1.181980 -1.443414 -0.797651 -1.252608   \n",
       "\n",
       "         x7        x8        x9   ...         x91       x92       x93  \\\n",
       "0 -1.504968  0.204693  1.691204   ...    1.488142 -0.686337  2.084970   \n",
       "1 -0.570557  2.079251 -1.882632   ...    0.405567  0.509564  1.374071   \n",
       "2 -2.399522 -0.578818  1.586981   ...    0.933578 -1.285978  0.503162   \n",
       "3 -2.058891 -1.006533 -2.156839   ...   -0.849927  1.402768  0.393653   \n",
       "4 -0.060452  0.130702 -2.343517   ...   -1.444435 -1.818126  0.446574   \n",
       "\n",
       "        x94       x95       x96       x97       x98       x99  target  \n",
       "0 -0.685140 -2.049451  2.015426  1.158477 -0.309441 -1.549833     4.0  \n",
       "1 -0.016943 -0.429280 -0.895016  1.259566 -0.354139  0.806797     5.0  \n",
       "2  0.204829 -0.753835  0.290033  1.721487  1.304518  0.478903     3.0  \n",
       "3 -1.466818  0.152257 -4.004950  0.676342 -1.927319  1.959032     8.0  \n",
       "4  0.239328  0.802939 -2.035289 -1.433793 -0.218596  0.619317     9.0  \n",
       "\n",
       "[5 rows x 101 columns]"
      ]
     },
     "execution_count": 32,
     "metadata": {},
     "output_type": "execute_result"
    }
   ],
   "source": [
    "df_classif_q4 = pd.read_csv(root+\"classificacao_Q4.csv\")\n",
    "df_classif_q4.head()"
   ]
  },
  {
   "cell_type": "code",
   "execution_count": 107,
   "metadata": {},
   "outputs": [
    {
     "data": {
      "text/plain": [
       "1500"
      ]
     },
     "execution_count": 107,
     "metadata": {},
     "output_type": "execute_result"
    }
   ],
   "source": [
    "len(df_classif_q4)"
   ]
  },
  {
   "cell_type": "code",
   "execution_count": 101,
   "metadata": {
    "collapsed": true
   },
   "outputs": [],
   "source": [
    "data = df_classif_q4.drop(['target'],axis=1).values\n",
    "target = df_classif_q4['target'].values"
   ]
  },
  {
   "cell_type": "code",
   "execution_count": 102,
   "metadata": {
    "collapsed": true
   },
   "outputs": [],
   "source": []
  },
  {
   "cell_type": "code",
   "execution_count": 140,
   "metadata": {},
   "outputs": [
    {
     "name": "stdout",
     "output_type": "stream",
     "text": [
      "0.6866666666666666\n",
      "0.66\n",
      "0.62\n",
      "0.6533333333333333\n",
      "0.6466666666666666\n",
      "0.6666666666666666\n",
      "0.6466666666666666\n",
      "0.6533333333333333\n",
      "0.68\n",
      "0.6066666666666667\n"
     ]
    },
    {
     "data": {
      "text/plain": [
       "0.6519999999999999"
      ]
     },
     "execution_count": 140,
     "metadata": {},
     "output_type": "execute_result"
    }
   ],
   "source": [
    "accs=[]\n",
    "\n",
    "kf = KFold(n_splits=10)\n",
    "\n",
    "for train_index, test_index in kf.split(data):\n",
    "#     print(\"TRAIN:\", train_index, \"TEST:\", test_index)\n",
    "    X_train, X_test = data[train_index], data[test_index]\n",
    "    y_train, y_test = target[train_index], target[test_index]\n",
    "\n",
    "    knn = KNeighborsClassifier(n_neighbors=15,metric='euclidean')\n",
    "    knn.fit(X_train,y_train)\n",
    "    \n",
    "    preds = knn.predict(X_test)\n",
    "    \n",
    "    acc = metrics.accuracy_score(y_test,preds)\n",
    "    accs.append(acc)\n",
    "    print(acc)\n",
    "\n",
    "np.mean(accs)"
   ]
  },
  {
   "cell_type": "code",
   "execution_count": null,
   "metadata": {
    "collapsed": true
   },
   "outputs": [],
   "source": []
  },
  {
   "cell_type": "code",
   "execution_count": null,
   "metadata": {
    "collapsed": true
   },
   "outputs": [],
   "source": []
  },
  {
   "cell_type": "markdown",
   "metadata": {},
   "source": [
    "### q5"
   ]
  },
  {
   "cell_type": "code",
   "execution_count": null,
   "metadata": {
    "collapsed": true
   },
   "outputs": [],
   "source": []
  },
  {
   "cell_type": "code",
   "execution_count": null,
   "metadata": {
    "collapsed": true
   },
   "outputs": [],
   "source": []
  },
  {
   "cell_type": "markdown",
   "metadata": {},
   "source": [
    "### q6"
   ]
  },
  {
   "cell_type": "code",
   "execution_count": 33,
   "metadata": {},
   "outputs": [
    {
     "data": {
      "text/html": [
       "<div>\n",
       "<style scoped>\n",
       "    .dataframe tbody tr th:only-of-type {\n",
       "        vertical-align: middle;\n",
       "    }\n",
       "\n",
       "    .dataframe tbody tr th {\n",
       "        vertical-align: top;\n",
       "    }\n",
       "\n",
       "    .dataframe thead th {\n",
       "        text-align: right;\n",
       "    }\n",
       "</style>\n",
       "<table border=\"1\" class=\"dataframe\">\n",
       "  <thead>\n",
       "    <tr style=\"text-align: right;\">\n",
       "      <th></th>\n",
       "      <th>x0</th>\n",
       "      <th>x1</th>\n",
       "      <th>x2</th>\n",
       "      <th>x3</th>\n",
       "      <th>x4</th>\n",
       "      <th>x5</th>\n",
       "      <th>x6</th>\n",
       "      <th>x7</th>\n",
       "      <th>x8</th>\n",
       "      <th>x9</th>\n",
       "      <th>target</th>\n",
       "    </tr>\n",
       "  </thead>\n",
       "  <tbody>\n",
       "    <tr>\n",
       "      <th>0</th>\n",
       "      <td>-0.351837</td>\n",
       "      <td>0.719462</td>\n",
       "      <td>0.862522</td>\n",
       "      <td>-1.131049</td>\n",
       "      <td>0.744903</td>\n",
       "      <td>0.532177</td>\n",
       "      <td>1.595572</td>\n",
       "      <td>0.607174</td>\n",
       "      <td>1.306696</td>\n",
       "      <td>0.450022</td>\n",
       "      <td>170.471696</td>\n",
       "    </tr>\n",
       "    <tr>\n",
       "      <th>1</th>\n",
       "      <td>-0.309565</td>\n",
       "      <td>0.786033</td>\n",
       "      <td>1.175365</td>\n",
       "      <td>-1.149287</td>\n",
       "      <td>0.318301</td>\n",
       "      <td>0.620987</td>\n",
       "      <td>1.470917</td>\n",
       "      <td>0.568968</td>\n",
       "      <td>1.334661</td>\n",
       "      <td>-0.267235</td>\n",
       "      <td>151.023999</td>\n",
       "    </tr>\n",
       "    <tr>\n",
       "      <th>2</th>\n",
       "      <td>-1.808729</td>\n",
       "      <td>-0.581660</td>\n",
       "      <td>-0.052200</td>\n",
       "      <td>-2.411602</td>\n",
       "      <td>0.171517</td>\n",
       "      <td>-1.174627</td>\n",
       "      <td>0.010317</td>\n",
       "      <td>-0.677372</td>\n",
       "      <td>0.841643</td>\n",
       "      <td>-1.186626</td>\n",
       "      <td>-268.606299</td>\n",
       "    </tr>\n",
       "    <tr>\n",
       "      <th>3</th>\n",
       "      <td>-0.386627</td>\n",
       "      <td>0.991724</td>\n",
       "      <td>0.234672</td>\n",
       "      <td>-0.431101</td>\n",
       "      <td>-0.160947</td>\n",
       "      <td>0.521185</td>\n",
       "      <td>1.957080</td>\n",
       "      <td>0.651099</td>\n",
       "      <td>0.933481</td>\n",
       "      <td>1.280705</td>\n",
       "      <td>180.737656</td>\n",
       "    </tr>\n",
       "    <tr>\n",
       "      <th>4</th>\n",
       "      <td>-0.879158</td>\n",
       "      <td>0.106556</td>\n",
       "      <td>0.775418</td>\n",
       "      <td>-1.046543</td>\n",
       "      <td>0.097267</td>\n",
       "      <td>-0.757026</td>\n",
       "      <td>1.050900</td>\n",
       "      <td>-0.262257</td>\n",
       "      <td>1.383563</td>\n",
       "      <td>-1.152509</td>\n",
       "      <td>-38.200673</td>\n",
       "    </tr>\n",
       "  </tbody>\n",
       "</table>\n",
       "</div>"
      ],
      "text/plain": [
       "         x0        x1        x2        x3        x4        x5        x6  \\\n",
       "0 -0.351837  0.719462  0.862522 -1.131049  0.744903  0.532177  1.595572   \n",
       "1 -0.309565  0.786033  1.175365 -1.149287  0.318301  0.620987  1.470917   \n",
       "2 -1.808729 -0.581660 -0.052200 -2.411602  0.171517 -1.174627  0.010317   \n",
       "3 -0.386627  0.991724  0.234672 -0.431101 -0.160947  0.521185  1.957080   \n",
       "4 -0.879158  0.106556  0.775418 -1.046543  0.097267 -0.757026  1.050900   \n",
       "\n",
       "         x7        x8        x9      target  \n",
       "0  0.607174  1.306696  0.450022  170.471696  \n",
       "1  0.568968  1.334661 -0.267235  151.023999  \n",
       "2 -0.677372  0.841643 -1.186626 -268.606299  \n",
       "3  0.651099  0.933481  1.280705  180.737656  \n",
       "4 -0.262257  1.383563 -1.152509  -38.200673  "
      ]
     },
     "execution_count": 33,
     "metadata": {},
     "output_type": "execute_result"
    }
   ],
   "source": [
    "df_regr_q6 = pd.read_csv(root+\"regressao_Q6.csv\")\n",
    "df_regr_q6.head()"
   ]
  },
  {
   "cell_type": "code",
   "execution_count": 115,
   "metadata": {},
   "outputs": [
    {
     "data": {
      "text/plain": [
       "1100"
      ]
     },
     "execution_count": 115,
     "metadata": {},
     "output_type": "execute_result"
    }
   ],
   "source": [
    "len(df_regr_q6)"
   ]
  },
  {
   "cell_type": "code",
   "execution_count": 137,
   "metadata": {},
   "outputs": [
    {
     "data": {
      "text/plain": [
       "(array([-0.35,  0.72,  0.86, -1.13,  0.74,  0.53,  1.6 ,  0.61,  1.31,\n",
       "         0.45]), 170.47169558790597)"
      ]
     },
     "execution_count": 137,
     "metadata": {},
     "output_type": "execute_result"
    }
   ],
   "source": [
    "X = df_regr_q6.drop(['target'],axis=1).values\n",
    "y = df_regr_q6['target'].values\n",
    "\n",
    "X[0],y[0]"
   ]
  },
  {
   "cell_type": "code",
   "execution_count": 138,
   "metadata": {},
   "outputs": [
    {
     "name": "stdout",
     "output_type": "stream",
     "text": [
      "22.058797611970366\n",
      "27.431741940951238\n"
     ]
    }
   ],
   "source": [
    "loo = LeaveOneOut()\n",
    "\n",
    "test_errs = []\n",
    "train_errs = []\n",
    "\n",
    "for train_index, test_index in loo.split(X):\n",
    "    X_train, X_test = X[train_index], X[test_index]\n",
    "    y_train, y_test = y[train_index], y[test_index]\n",
    "    \n",
    "    clf = Ridge(alpha=1.7)\n",
    "    clf.fit(X_train,y_train)\n",
    "    \n",
    "    preds_test = clf.predict(X_test)\n",
    "    preds_train = clf.predict(X_train)\n",
    "    \n",
    "    test_errs.append(sqrt(metrics.mean_squared_error(y_test,preds_test)))\n",
    "    train_errs.append(sqrt(metrics.mean_squared_error(y_train,preds_train)))\n",
    "\n",
    "print(np.mean(test_errs))    \n",
    "print(np.mean(train_errs))\n",
    "#     print(X_train, X_test, y_train, y_test)"
   ]
  },
  {
   "cell_type": "markdown",
   "metadata": {},
   "source": [
    "### q7"
   ]
  },
  {
   "cell_type": "code",
   "execution_count": 34,
   "metadata": {},
   "outputs": [
    {
     "data": {
      "text/html": [
       "<div>\n",
       "<style scoped>\n",
       "    .dataframe tbody tr th:only-of-type {\n",
       "        vertical-align: middle;\n",
       "    }\n",
       "\n",
       "    .dataframe tbody tr th {\n",
       "        vertical-align: top;\n",
       "    }\n",
       "\n",
       "    .dataframe thead th {\n",
       "        text-align: right;\n",
       "    }\n",
       "</style>\n",
       "<table border=\"1\" class=\"dataframe\">\n",
       "  <thead>\n",
       "    <tr style=\"text-align: right;\">\n",
       "      <th></th>\n",
       "      <th>x0</th>\n",
       "      <th>x1</th>\n",
       "      <th>x2</th>\n",
       "      <th>x3</th>\n",
       "      <th>x4</th>\n",
       "      <th>x5</th>\n",
       "      <th>x6</th>\n",
       "      <th>x7</th>\n",
       "      <th>x8</th>\n",
       "      <th>x9</th>\n",
       "      <th>...</th>\n",
       "      <th>x11</th>\n",
       "      <th>x12</th>\n",
       "      <th>x13</th>\n",
       "      <th>x14</th>\n",
       "      <th>x15</th>\n",
       "      <th>x16</th>\n",
       "      <th>x17</th>\n",
       "      <th>x18</th>\n",
       "      <th>x19</th>\n",
       "      <th>target</th>\n",
       "    </tr>\n",
       "  </thead>\n",
       "  <tbody>\n",
       "    <tr>\n",
       "      <th>0</th>\n",
       "      <td>0.591690</td>\n",
       "      <td>0.591690</td>\n",
       "      <td>1.172172</td>\n",
       "      <td>-0.983677</td>\n",
       "      <td>-1.723861</td>\n",
       "      <td>-1.872732</td>\n",
       "      <td>1.070023</td>\n",
       "      <td>-0.623034</td>\n",
       "      <td>1.705102</td>\n",
       "      <td>2.643913</td>\n",
       "      <td>...</td>\n",
       "      <td>2.643913</td>\n",
       "      <td>-0.623034</td>\n",
       "      <td>2.643913</td>\n",
       "      <td>-1.191899</td>\n",
       "      <td>0.523268</td>\n",
       "      <td>1.599678</td>\n",
       "      <td>0.228014</td>\n",
       "      <td>0.636366</td>\n",
       "      <td>1.070023</td>\n",
       "      <td>183.381979</td>\n",
       "    </tr>\n",
       "    <tr>\n",
       "      <th>1</th>\n",
       "      <td>0.617718</td>\n",
       "      <td>0.617718</td>\n",
       "      <td>1.066885</td>\n",
       "      <td>-0.994460</td>\n",
       "      <td>-1.660279</td>\n",
       "      <td>-2.006098</td>\n",
       "      <td>0.800897</td>\n",
       "      <td>-0.150230</td>\n",
       "      <td>1.601513</td>\n",
       "      <td>2.227607</td>\n",
       "      <td>...</td>\n",
       "      <td>2.227607</td>\n",
       "      <td>-0.150230</td>\n",
       "      <td>2.227607</td>\n",
       "      <td>-1.389668</td>\n",
       "      <td>0.946524</td>\n",
       "      <td>1.427928</td>\n",
       "      <td>0.327064</td>\n",
       "      <td>0.605663</td>\n",
       "      <td>0.800897</td>\n",
       "      <td>171.166244</td>\n",
       "    </tr>\n",
       "    <tr>\n",
       "      <th>2</th>\n",
       "      <td>-0.091250</td>\n",
       "      <td>-0.091250</td>\n",
       "      <td>0.460780</td>\n",
       "      <td>-2.076651</td>\n",
       "      <td>-2.903264</td>\n",
       "      <td>-3.110400</td>\n",
       "      <td>-0.361113</td>\n",
       "      <td>-2.029327</td>\n",
       "      <td>0.320967</td>\n",
       "      <td>1.514848</td>\n",
       "      <td>...</td>\n",
       "      <td>1.514848</td>\n",
       "      <td>-2.029327</td>\n",
       "      <td>1.514848</td>\n",
       "      <td>-2.855408</td>\n",
       "      <td>-0.856214</td>\n",
       "      <td>0.329120</td>\n",
       "      <td>-1.001805</td>\n",
       "      <td>-0.826144</td>\n",
       "      <td>-0.361113</td>\n",
       "      <td>-310.459284</td>\n",
       "    </tr>\n",
       "    <tr>\n",
       "      <th>3</th>\n",
       "      <td>-0.264834</td>\n",
       "      <td>-0.264834</td>\n",
       "      <td>1.061765</td>\n",
       "      <td>-0.539020</td>\n",
       "      <td>-0.972137</td>\n",
       "      <td>-1.102153</td>\n",
       "      <td>1.198790</td>\n",
       "      <td>-0.534910</td>\n",
       "      <td>2.272581</td>\n",
       "      <td>2.748045</td>\n",
       "      <td>...</td>\n",
       "      <td>2.748045</td>\n",
       "      <td>-0.534910</td>\n",
       "      <td>2.748045</td>\n",
       "      <td>-0.306130</td>\n",
       "      <td>1.134861</td>\n",
       "      <td>1.905080</td>\n",
       "      <td>0.998317</td>\n",
       "      <td>0.916976</td>\n",
       "      <td>1.198790</td>\n",
       "      <td>228.015980</td>\n",
       "    </tr>\n",
       "    <tr>\n",
       "      <th>4</th>\n",
       "      <td>0.308724</td>\n",
       "      <td>0.308724</td>\n",
       "      <td>0.793572</td>\n",
       "      <td>-1.162892</td>\n",
       "      <td>-2.315907</td>\n",
       "      <td>-2.436588</td>\n",
       "      <td>0.038154</td>\n",
       "      <td>-1.335393</td>\n",
       "      <td>1.586416</td>\n",
       "      <td>1.898164</td>\n",
       "      <td>...</td>\n",
       "      <td>1.898164</td>\n",
       "      <td>-1.335393</td>\n",
       "      <td>1.898164</td>\n",
       "      <td>-2.222185</td>\n",
       "      <td>-0.049834</td>\n",
       "      <td>0.930992</td>\n",
       "      <td>0.196569</td>\n",
       "      <td>-0.607837</td>\n",
       "      <td>0.038154</td>\n",
       "      <td>-51.379428</td>\n",
       "    </tr>\n",
       "  </tbody>\n",
       "</table>\n",
       "<p>5 rows × 21 columns</p>\n",
       "</div>"
      ],
      "text/plain": [
       "         x0        x1        x2        x3        x4        x5        x6  \\\n",
       "0  0.591690  0.591690  1.172172 -0.983677 -1.723861 -1.872732  1.070023   \n",
       "1  0.617718  0.617718  1.066885 -0.994460 -1.660279 -2.006098  0.800897   \n",
       "2 -0.091250 -0.091250  0.460780 -2.076651 -2.903264 -3.110400 -0.361113   \n",
       "3 -0.264834 -0.264834  1.061765 -0.539020 -0.972137 -1.102153  1.198790   \n",
       "4  0.308724  0.308724  0.793572 -1.162892 -2.315907 -2.436588  0.038154   \n",
       "\n",
       "         x7        x8        x9     ...           x11       x12       x13  \\\n",
       "0 -0.623034  1.705102  2.643913     ...      2.643913 -0.623034  2.643913   \n",
       "1 -0.150230  1.601513  2.227607     ...      2.227607 -0.150230  2.227607   \n",
       "2 -2.029327  0.320967  1.514848     ...      1.514848 -2.029327  1.514848   \n",
       "3 -0.534910  2.272581  2.748045     ...      2.748045 -0.534910  2.748045   \n",
       "4 -1.335393  1.586416  1.898164     ...      1.898164 -1.335393  1.898164   \n",
       "\n",
       "        x14       x15       x16       x17       x18       x19      target  \n",
       "0 -1.191899  0.523268  1.599678  0.228014  0.636366  1.070023  183.381979  \n",
       "1 -1.389668  0.946524  1.427928  0.327064  0.605663  0.800897  171.166244  \n",
       "2 -2.855408 -0.856214  0.329120 -1.001805 -0.826144 -0.361113 -310.459284  \n",
       "3 -0.306130  1.134861  1.905080  0.998317  0.916976  1.198790  228.015980  \n",
       "4 -2.222185 -0.049834  0.930992  0.196569 -0.607837  0.038154  -51.379428  \n",
       "\n",
       "[5 rows x 21 columns]"
      ]
     },
     "execution_count": 34,
     "metadata": {},
     "output_type": "execute_result"
    }
   ],
   "source": [
    "df_regr_q7 = pd.read_csv(root+\"regressao_Q7.csv\")\n",
    "df_regr_q7.head()"
   ]
  },
  {
   "cell_type": "code",
   "execution_count": 141,
   "metadata": {
    "collapsed": true
   },
   "outputs": [],
   "source": [
    "X = df_regr_q7.drop(['target'],axis=1).values\n",
    "y = df_regr_q7['target'].values"
   ]
  },
  {
   "cell_type": "code",
   "execution_count": 146,
   "metadata": {},
   "outputs": [
    {
     "data": {
      "text/plain": [
       "(4.598442324179443e-08, 54.838118626002235)"
      ]
     },
     "execution_count": 146,
     "metadata": {},
     "output_type": "execute_result"
    }
   ],
   "source": [
    "kf = KFold(n_splits=10)\n",
    "\n",
    "accs_train = []\n",
    "accs_test = []\n",
    "\n",
    "for train_index, test_index in kf.split(data):\n",
    "#     print(\"TRAIN:\", train_index, \"TEST:\", test_index)\n",
    "    X_train, X_test = X[train_index], X[test_index]\n",
    "    y_train, y_test = y[train_index], y[test_index]\n",
    "\n",
    "    clf = DecisionTreeRegressor()\n",
    "    clf.fit(X_train,y_train)\n",
    "    \n",
    "    preds_train = clf.predict(X_train)\n",
    "    preds_test = clf.predict(X_test)\n",
    "    \n",
    "    accs_train.append(metrics.mean_absolute_error(y_train,preds_train))\n",
    "    accs_test.append(metrics.mean_absolute_error(y_test,preds_test))\n",
    "    \n",
    "np.mean(accs_train),np.mean(accs_test)"
   ]
  },
  {
   "cell_type": "markdown",
   "metadata": {},
   "source": [
    "### q9"
   ]
  },
  {
   "cell_type": "code",
   "execution_count": 149,
   "metadata": {},
   "outputs": [
    {
     "data": {
      "text/plain": [
       "Ks_2sampResult(statistic=0.6, pvalue=0.031046781145641363)"
      ]
     },
     "execution_count": 149,
     "metadata": {},
     "output_type": "execute_result"
    }
   ],
   "source": [
    "np.random.seed(42)\n",
    "\n",
    "sp.ks_2samp([5,3,3,11,8,7,1,5,4,9],[2,1,1,4,10,1,1,1,3,2])"
   ]
  },
  {
   "cell_type": "code",
   "execution_count": 151,
   "metadata": {},
   "outputs": [
    {
     "data": {
      "text/plain": [
       "0.9425"
      ]
     },
     "execution_count": 151,
     "metadata": {},
     "output_type": "execute_result"
    }
   ],
   "source": [
    "p_bad = 0.15\n",
    "p_right_given_bad = 0.9\n",
    "p_right_given_good = 0.95\n",
    "\n",
    "p_right_given_bad*p_bad + p_right_given_good*(1-p_bad)"
   ]
  },
  {
   "cell_type": "code",
   "execution_count": 153,
   "metadata": {},
   "outputs": [
    {
     "data": {
      "text/plain": [
       "0.9425"
      ]
     },
     "execution_count": 153,
     "metadata": {},
     "output_type": "execute_result"
    }
   ],
   "source": [
    "0.9*0.15+0.95*0.85"
   ]
  }
 ],
 "metadata": {
  "kernelspec": {
   "display_name": "Global TF Kernel (Python 3)",
   "language": "python",
   "name": "global-tf-python-3"
  },
  "language_info": {
   "codemirror_mode": {
    "name": "ipython",
    "version": 3
   },
   "file_extension": ".py",
   "mimetype": "text/x-python",
   "name": "python",
   "nbconvert_exporter": "python",
   "pygments_lexer": "ipython3",
   "version": "3.5.2"
  }
 },
 "nbformat": 4,
 "nbformat_minor": 2
}
