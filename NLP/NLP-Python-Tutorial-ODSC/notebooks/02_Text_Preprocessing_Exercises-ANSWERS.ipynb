{
 "cells": [
  {
   "cell_type": "markdown",
   "metadata": {},
   "source": [
    "<table align=\"left\">\n",
    "<tr>\n",
    "\n",
    "<th, style=\"background-color:white\">\n",
    "<img src=\"https://github.com/mlgill/ODSC_East_2017_PythonNLP/blob/master/assets/logo.png?raw=true\", width=140, height=100>\n",
    "</th>\n",
    "\n",
    "<th, style=\"background-color:white\">\n",
    "<div align=\"left\">\n",
    "<h1>Learning from Text: <br> Introduction to Natural Language Processing with Python</h1>  \n",
    "<h2>Michelle L. Gill, Ph.D.</h2>     \n",
    "Senior Data Scientist, Metis  \n",
    "ODSC East  \n",
    "May 3, 2017 \n",
    "</div>\n",
    "</th>\n",
    "\n",
    "</tr>\n",
    "</table>  "
   ]
  },
  {
   "cell_type": "markdown",
   "metadata": {},
   "source": [
    "## Text Preprocessing Exercise Answers"
   ]
  },
  {
   "cell_type": "markdown",
   "metadata": {},
   "source": [
    "We will be using SMS spam data for these exercises. The data contains the SMS message text and a label (spam or ham). The following code will load the data for cleaning. The cleaning step will primarily focus on the SMS text rather than the label."
   ]
  },
  {
   "cell_type": "code",
   "execution_count": 1,
   "metadata": {
    "ExecuteTime": {
     "end_time": "2017-05-03T10:15:30.266092Z",
     "start_time": "2017-05-03T10:15:29.032636Z"
    },
    "collapsed": true
   },
   "outputs": [],
   "source": [
    "import nltk\n",
    "from pprint import pprint\n",
    "from accessory_functions import nltk_path\n",
    "\n",
    "# Setup nltk corpora path\n",
    "nltk.data.path.insert(0, nltk_path)\n",
    "from nltk.corpus import reuters"
   ]
  },
  {
   "cell_type": "code",
   "execution_count": 2,
   "metadata": {
    "ExecuteTime": {
     "end_time": "2017-05-03T10:15:30.304117Z",
     "start_time": "2017-05-03T10:15:30.267761Z"
    }
   },
   "outputs": [
    {
     "data": {
      "text/html": [
       "<div>\n",
       "<table border=\"1\" class=\"dataframe\">\n",
       "  <thead>\n",
       "    <tr style=\"text-align: right;\">\n",
       "      <th></th>\n",
       "      <th>label</th>\n",
       "      <th>text</th>\n",
       "    </tr>\n",
       "  </thead>\n",
       "  <tbody>\n",
       "    <tr>\n",
       "      <th>0</th>\n",
       "      <td>ham</td>\n",
       "      <td>Early bird! Any purchases yet?</td>\n",
       "    </tr>\n",
       "    <tr>\n",
       "      <th>1</th>\n",
       "      <td>spam</td>\n",
       "      <td>Hi, this is Mandy Sullivan calling from HOTMIX...</td>\n",
       "    </tr>\n",
       "    <tr>\n",
       "      <th>2</th>\n",
       "      <td>ham</td>\n",
       "      <td>Heart is empty without love.. Mind is empty wi...</td>\n",
       "    </tr>\n",
       "    <tr>\n",
       "      <th>3</th>\n",
       "      <td>ham</td>\n",
       "      <td>Yes I started to send requests to make it but ...</td>\n",
       "    </tr>\n",
       "    <tr>\n",
       "      <th>4</th>\n",
       "      <td>ham</td>\n",
       "      <td>I'll see if I can swing by in a bit, got some ...</td>\n",
       "    </tr>\n",
       "  </tbody>\n",
       "</table>\n",
       "</div>"
      ],
      "text/plain": [
       "  label                                               text\n",
       "0   ham                     Early bird! Any purchases yet?\n",
       "1  spam  Hi, this is Mandy Sullivan calling from HOTMIX...\n",
       "2   ham  Heart is empty without love.. Mind is empty wi...\n",
       "3   ham  Yes I started to send requests to make it but ...\n",
       "4   ham  I'll see if I can swing by in a bit, got some ..."
      ]
     },
     "execution_count": 2,
     "metadata": {},
     "output_type": "execute_result"
    }
   ],
   "source": [
    "import pandas as pd\n",
    "\n",
    "data = pd.read_csv('../data/spam.csv', sep='\\t')\n",
    "data.head()"
   ]
  },
  {
   "cell_type": "markdown",
   "metadata": {},
   "source": [
    "If you are not comfortable using Pandas, execute the following code in a cell to separate the y- from the x-columns and create a corpus.\n",
    "\n",
    "```python\n",
    "labels = data.label.values.tolist()\n",
    "data = data.text.values.tolist()\n",
    "```"
   ]
  },
  {
   "cell_type": "markdown",
   "metadata": {},
   "source": [
    "## Question 1\n",
    "\n",
    "* Determine how many SMS messages there are in total.\n",
    "* Determine the percent of labels for spam vs. ham.\n",
    "* Determine the distribution of character lengths for the SMS messages."
   ]
  },
  {
   "cell_type": "markdown",
   "metadata": {},
   "source": [
    "Number of SMS messages."
   ]
  },
  {
   "cell_type": "code",
   "execution_count": 3,
   "metadata": {
    "ExecuteTime": {
     "end_time": "2017-05-03T10:15:30.317378Z",
     "start_time": "2017-05-03T10:15:30.307123Z"
    }
   },
   "outputs": [
    {
     "data": {
      "text/plain": [
       "5572"
      ]
     },
     "execution_count": 3,
     "metadata": {},
     "output_type": "execute_result"
    }
   ],
   "source": [
    "len(data)"
   ]
  },
  {
   "cell_type": "markdown",
   "metadata": {},
   "source": [
    "Percent breakdown of spam vs ham messages."
   ]
  },
  {
   "cell_type": "code",
   "execution_count": 4,
   "metadata": {
    "ExecuteTime": {
     "end_time": "2017-05-03T10:15:30.341215Z",
     "start_time": "2017-05-03T10:15:30.320398Z"
    }
   },
   "outputs": [
    {
     "data": {
      "text/plain": [
       "ham     0.865937\n",
       "spam    0.134063\n",
       "Name: label, dtype: float64"
      ]
     },
     "execution_count": 4,
     "metadata": {},
     "output_type": "execute_result"
    }
   ],
   "source": [
    "data.label.value_counts(normalize=True)"
   ]
  },
  {
   "cell_type": "markdown",
   "metadata": {},
   "source": [
    "Find the distribution of SMS message length two ways--by listing the values and by plotting."
   ]
  },
  {
   "cell_type": "code",
   "execution_count": 5,
   "metadata": {
    "ExecuteTime": {
     "end_time": "2017-05-03T10:15:30.359583Z",
     "start_time": "2017-05-03T10:15:30.342874Z"
    }
   },
   "outputs": [
    {
     "data": {
      "text/plain": [
       "22    120\n",
       "24     99\n",
       "32     99\n",
       "23     95\n",
       "38     87\n",
       "28     87\n",
       "26     85\n",
       "25     85\n",
       "27     80\n",
       "37     79\n",
       "Name: text, dtype: int64"
      ]
     },
     "execution_count": 5,
     "metadata": {},
     "output_type": "execute_result"
    }
   ],
   "source": [
    "data.text.map(len).value_counts().head(10)"
   ]
  },
  {
   "cell_type": "code",
   "execution_count": 6,
   "metadata": {
    "ExecuteTime": {
     "end_time": "2017-05-03T10:15:30.543383Z",
     "start_time": "2017-05-03T10:15:30.363421Z"
    },
    "collapsed": true
   },
   "outputs": [],
   "source": [
    "import matplotlib.pyplot as plt\n",
    "import seaborn as sns\n",
    "\n",
    "sns.set_style('white')\n",
    "sns.set_palette('dark')\n",
    "sns.set_context('talk')\n",
    "\n",
    "%matplotlib inline"
   ]
  },
  {
   "cell_type": "code",
   "execution_count": 7,
   "metadata": {
    "ExecuteTime": {
     "end_time": "2017-05-03T10:15:30.853917Z",
     "start_time": "2017-05-03T10:15:30.545192Z"
    }
   },
   "outputs": [
    {
     "data": {
      "image/png": "[encoded data removed]",
      "text/plain": [
       "<matplotlib.figure.Figure at 0x1180765c0>"
      ]
     },
     "metadata": {},
     "output_type": "display_data"
    }
   ],
   "source": [
    "ax = data.text.map(len).hist(bins=50)\n",
    "ax.set(xlabel='Message Length', ylabel='Frequency', title='Distribution of SMS Message Length');"
   ]
  },
  {
   "cell_type": "markdown",
   "metadata": {},
   "source": [
    "## Question 2\n",
    "\n",
    "* Clean the text to normalize it and remove alpha-numerical words.\n",
    "* Find the most frequent words.\n",
    "* Determine the word length distribution over the entire corpus."
   ]
  },
  {
   "cell_type": "markdown",
   "metadata": {},
   "source": [
    "Before examining the common words and distribution of word lengths, remove the alpha-numerical words and covert the text to lowercase."
   ]
  },
  {
   "cell_type": "code",
   "execution_count": 8,
   "metadata": {
    "ExecuteTime": {
     "end_time": "2017-05-03T10:15:30.867482Z",
     "start_time": "2017-05-03T10:15:30.855257Z"
    }
   },
   "outputs": [
    {
     "data": {
      "text/html": [
       "<div>\n",
       "<table border=\"1\" class=\"dataframe\">\n",
       "  <thead>\n",
       "    <tr style=\"text-align: right;\">\n",
       "      <th></th>\n",
       "      <th>label</th>\n",
       "      <th>text</th>\n",
       "    </tr>\n",
       "  </thead>\n",
       "  <tbody>\n",
       "    <tr>\n",
       "      <th>0</th>\n",
       "      <td>ham</td>\n",
       "      <td>Early bird! Any purchases yet?</td>\n",
       "    </tr>\n",
       "    <tr>\n",
       "      <th>1</th>\n",
       "      <td>spam</td>\n",
       "      <td>Hi, this is Mandy Sullivan calling from HOTMIX...</td>\n",
       "    </tr>\n",
       "    <tr>\n",
       "      <th>2</th>\n",
       "      <td>ham</td>\n",
       "      <td>Heart is empty without love.. Mind is empty wi...</td>\n",
       "    </tr>\n",
       "    <tr>\n",
       "      <th>3</th>\n",
       "      <td>ham</td>\n",
       "      <td>Yes I started to send requests to make it but ...</td>\n",
       "    </tr>\n",
       "    <tr>\n",
       "      <th>4</th>\n",
       "      <td>ham</td>\n",
       "      <td>I'll see if I can swing by in a bit, got some ...</td>\n",
       "    </tr>\n",
       "  </tbody>\n",
       "</table>\n",
       "</div>"
      ],
      "text/plain": [
       "  label                                               text\n",
       "0   ham                     Early bird! Any purchases yet?\n",
       "1  spam  Hi, this is Mandy Sullivan calling from HOTMIX...\n",
       "2   ham  Heart is empty without love.. Mind is empty wi...\n",
       "3   ham  Yes I started to send requests to make it but ...\n",
       "4   ham  I'll see if I can swing by in a bit, got some ..."
      ]
     },
     "execution_count": 8,
     "metadata": {},
     "output_type": "execute_result"
    }
   ],
   "source": [
    "data.head()"
   ]
  },
  {
   "cell_type": "code",
   "execution_count": 9,
   "metadata": {
    "ExecuteTime": {
     "end_time": "2017-05-03T10:15:30.977476Z",
     "start_time": "2017-05-03T10:15:30.870169Z"
    }
   },
   "outputs": [
    {
     "data": {
      "text/html": [
       "<div>\n",
       "<table border=\"1\" class=\"dataframe\">\n",
       "  <thead>\n",
       "    <tr style=\"text-align: right;\">\n",
       "      <th></th>\n",
       "      <th>label</th>\n",
       "      <th>text</th>\n",
       "    </tr>\n",
       "  </thead>\n",
       "  <tbody>\n",
       "    <tr>\n",
       "      <th>0</th>\n",
       "      <td>ham</td>\n",
       "      <td>early bird! any purchases yet?</td>\n",
       "    </tr>\n",
       "    <tr>\n",
       "      <th>1</th>\n",
       "      <td>spam</td>\n",
       "      <td>hi, this is mandy sullivan calling from hotmix...</td>\n",
       "    </tr>\n",
       "    <tr>\n",
       "      <th>2</th>\n",
       "      <td>ham</td>\n",
       "      <td>heart is empty without love.. mind is empty wi...</td>\n",
       "    </tr>\n",
       "    <tr>\n",
       "      <th>3</th>\n",
       "      <td>ham</td>\n",
       "      <td>yes i started to send requests to make it but ...</td>\n",
       "    </tr>\n",
       "    <tr>\n",
       "      <th>4</th>\n",
       "      <td>ham</td>\n",
       "      <td>i'll see if i can swing by in a bit, got some ...</td>\n",
       "    </tr>\n",
       "  </tbody>\n",
       "</table>\n",
       "</div>"
      ],
      "text/plain": [
       "  label                                               text\n",
       "0   ham                     early bird! any purchases yet?\n",
       "1  spam  hi, this is mandy sullivan calling from hotmix...\n",
       "2   ham  heart is empty without love.. mind is empty wi...\n",
       "3   ham  yes i started to send requests to make it but ...\n",
       "4   ham  i'll see if i can swing by in a bit, got some ..."
      ]
     },
     "execution_count": 9,
     "metadata": {},
     "output_type": "execute_result"
    }
   ],
   "source": [
    "import re\n",
    "\n",
    "lower_alpha_num = lambda x: re.sub(r\"\"\"\\w*\\d\\w*\"\"\", ' ', x.lower())\n",
    "data['text'] = data.text.map(lower_alpha_num)\n",
    "\n",
    "data.head()"
   ]
  },
  {
   "cell_type": "markdown",
   "metadata": {},
   "source": [
    "Then remove any punctuation from each message."
   ]
  },
  {
   "cell_type": "code",
   "execution_count": 10,
   "metadata": {
    "ExecuteTime": {
     "end_time": "2017-05-03T10:15:31.085138Z",
     "start_time": "2017-05-03T10:15:30.979500Z"
    }
   },
   "outputs": [
    {
     "data": {
      "text/html": [
       "<div>\n",
       "<table border=\"1\" class=\"dataframe\">\n",
       "  <thead>\n",
       "    <tr style=\"text-align: right;\">\n",
       "      <th></th>\n",
       "      <th>label</th>\n",
       "      <th>text</th>\n",
       "    </tr>\n",
       "  </thead>\n",
       "  <tbody>\n",
       "    <tr>\n",
       "      <th>0</th>\n",
       "      <td>ham</td>\n",
       "      <td>early bird  any purchases yet</td>\n",
       "    </tr>\n",
       "    <tr>\n",
       "      <th>1</th>\n",
       "      <td>spam</td>\n",
       "      <td>hi  this is mandy sullivan calling from hotmix...</td>\n",
       "    </tr>\n",
       "    <tr>\n",
       "      <th>2</th>\n",
       "      <td>ham</td>\n",
       "      <td>heart is empty without love   mind is empty wi...</td>\n",
       "    </tr>\n",
       "    <tr>\n",
       "      <th>3</th>\n",
       "      <td>ham</td>\n",
       "      <td>yes i started to send requests to make it but ...</td>\n",
       "    </tr>\n",
       "    <tr>\n",
       "      <th>4</th>\n",
       "      <td>ham</td>\n",
       "      <td>i ll see if i can swing by in a bit  got some ...</td>\n",
       "    </tr>\n",
       "  </tbody>\n",
       "</table>\n",
       "</div>"
      ],
      "text/plain": [
       "  label                                               text\n",
       "0   ham                     early bird  any purchases yet \n",
       "1  spam  hi  this is mandy sullivan calling from hotmix...\n",
       "2   ham  heart is empty without love   mind is empty wi...\n",
       "3   ham  yes i started to send requests to make it but ...\n",
       "4   ham  i ll see if i can swing by in a bit  got some ..."
      ]
     },
     "execution_count": 10,
     "metadata": {},
     "output_type": "execute_result"
    }
   ],
   "source": [
    "import string\n",
    "\n",
    "punc_re = lambda x: re.sub('[%s]' % re.escape(string.punctuation  + '£'), ' ', x)\n",
    "data['text'] = data.text.map(punc_re)\n",
    "\n",
    "data.head()"
   ]
  },
  {
   "cell_type": "markdown",
   "metadata": {},
   "source": [
    "Split the text into words to tokenize it."
   ]
  },
  {
   "cell_type": "code",
   "execution_count": 11,
   "metadata": {
    "ExecuteTime": {
     "end_time": "2017-05-03T10:15:31.900245Z",
     "start_time": "2017-05-03T10:15:31.088234Z"
    }
   },
   "outputs": [
    {
     "data": {
      "text/html": [
       "<div>\n",
       "<table border=\"1\" class=\"dataframe\">\n",
       "  <thead>\n",
       "    <tr style=\"text-align: right;\">\n",
       "      <th></th>\n",
       "      <th>label</th>\n",
       "      <th>text</th>\n",
       "      <th>tokens</th>\n",
       "    </tr>\n",
       "  </thead>\n",
       "  <tbody>\n",
       "    <tr>\n",
       "      <th>0</th>\n",
       "      <td>ham</td>\n",
       "      <td>early bird  any purchases yet</td>\n",
       "      <td>[early, bird, any, purchases, yet]</td>\n",
       "    </tr>\n",
       "    <tr>\n",
       "      <th>1</th>\n",
       "      <td>spam</td>\n",
       "      <td>hi  this is mandy sullivan calling from hotmix...</td>\n",
       "      <td>[hi, this, is, mandy, sullivan, calling, from,...</td>\n",
       "    </tr>\n",
       "    <tr>\n",
       "      <th>2</th>\n",
       "      <td>ham</td>\n",
       "      <td>heart is empty without love   mind is empty wi...</td>\n",
       "      <td>[heart, is, empty, without, love, mind, is, em...</td>\n",
       "    </tr>\n",
       "    <tr>\n",
       "      <th>3</th>\n",
       "      <td>ham</td>\n",
       "      <td>yes i started to send requests to make it but ...</td>\n",
       "      <td>[yes, i, started, to, send, requests, to, make...</td>\n",
       "    </tr>\n",
       "    <tr>\n",
       "      <th>4</th>\n",
       "      <td>ham</td>\n",
       "      <td>i ll see if i can swing by in a bit  got some ...</td>\n",
       "      <td>[i, ll, see, if, i, can, swing, by, in, a, bit...</td>\n",
       "    </tr>\n",
       "  </tbody>\n",
       "</table>\n",
       "</div>"
      ],
      "text/plain": [
       "  label                                               text  \\\n",
       "0   ham                     early bird  any purchases yet    \n",
       "1  spam  hi  this is mandy sullivan calling from hotmix...   \n",
       "2   ham  heart is empty without love   mind is empty wi...   \n",
       "3   ham  yes i started to send requests to make it but ...   \n",
       "4   ham  i ll see if i can swing by in a bit  got some ...   \n",
       "\n",
       "                                              tokens  \n",
       "0                 [early, bird, any, purchases, yet]  \n",
       "1  [hi, this, is, mandy, sullivan, calling, from,...  \n",
       "2  [heart, is, empty, without, love, mind, is, em...  \n",
       "3  [yes, i, started, to, send, requests, to, make...  \n",
       "4  [i, ll, see, if, i, can, swing, by, in, a, bit...  "
      ]
     },
     "execution_count": 11,
     "metadata": {},
     "output_type": "execute_result"
    }
   ],
   "source": [
    "from nltk.tokenize import word_tokenize\n",
    "\n",
    "data['tokens'] = data.text.map(word_tokenize)\n",
    "data.head()"
   ]
  },
  {
   "cell_type": "markdown",
   "metadata": {},
   "source": [
    "Find the most common words. This could be done with count vectorizer. There is also a way using `Counter` from the `collections` library. First, however, create a flattened list of all words."
   ]
  },
  {
   "cell_type": "code",
   "execution_count": 12,
   "metadata": {
    "ExecuteTime": {
     "end_time": "2017-05-03T10:15:33.489749Z",
     "start_time": "2017-05-03T10:15:31.901873Z"
    }
   },
   "outputs": [
    {
     "data": {
      "text/plain": [
       "['early',\n",
       " 'bird',\n",
       " 'any',\n",
       " 'purchases',\n",
       " 'yet',\n",
       " 'hi',\n",
       " 'this',\n",
       " 'is',\n",
       " 'mandy',\n",
       " 'sullivan']"
      ]
     },
     "execution_count": 12,
     "metadata": {},
     "output_type": "execute_result"
    }
   ],
   "source": [
    "word_list = sum(data.tokens.tolist(), [])\n",
    "\n",
    "word_list[:10]"
   ]
  },
  {
   "cell_type": "markdown",
   "metadata": {},
   "source": [
    "Now convert the list to a dictionary with value counts, reverse the key/value pairs in this dictionary, sort by descending value count, and print the ten most common words."
   ]
  },
  {
   "cell_type": "code",
   "execution_count": 13,
   "metadata": {
    "ExecuteTime": {
     "end_time": "2017-05-03T10:15:33.545660Z",
     "start_time": "2017-05-03T10:15:33.494015Z"
    }
   },
   "outputs": [
    {
     "data": {
      "text/plain": [
       "[(3001, 'i'),\n",
       " (2253, 'to'),\n",
       " (2243, 'you'),\n",
       " (1449, 'a'),\n",
       " (1339, 'the'),\n",
       " (1206, 'u'),\n",
       " (980, 'and'),\n",
       " (903, 'in'),\n",
       " (897, 'is'),\n",
       " (818, 'me')]"
      ]
     },
     "execution_count": 13,
     "metadata": {},
     "output_type": "execute_result"
    }
   ],
   "source": [
    "from collections import Counter\n",
    "\n",
    "word_counts = Counter(word_list)\n",
    "\n",
    "# reverse the key/values in the dictionary for sorting\n",
    "word_counts = list(zip(word_counts.values(), word_counts.keys()))\n",
    "\n",
    "# sort the list by count\n",
    "word_counts = sorted(word_counts, reverse=True)\n",
    "\n",
    "word_counts[:10]"
   ]
  },
  {
   "cell_type": "markdown",
   "metadata": {},
   "source": [
    "Optionally, create a histogram of word length."
   ]
  },
  {
   "cell_type": "code",
   "execution_count": 14,
   "metadata": {
    "ExecuteTime": {
     "end_time": "2017-05-03T10:15:33.796578Z",
     "start_time": "2017-05-03T10:15:33.548518Z"
    }
   },
   "outputs": [
    {
     "data": {
      "image/png": "[encoded data removed]",
      "text/plain": [
       "<matplotlib.figure.Figure at 0x11bd71668>"
      ]
     },
     "metadata": {},
     "output_type": "display_data"
    }
   ],
   "source": [
    "word_lengths = pd.Series([len(x) for x in word_list])\n",
    "\n",
    "ax = word_lengths.hist(bins=25)\n",
    "ax.set(xlabel='Word Lengths', ylabel='Frequency', title='Distribution of Word Length');"
   ]
  },
  {
   "cell_type": "markdown",
   "metadata": {},
   "source": [
    "## Question 3\n",
    "\n",
    "* Remove stopwords\n",
    "* Perform parts of speech tagging\n",
    "* Perform stemming and lemmatization\n",
    "* If you wish, pickle one column of the cleaned text along with the labels for modeling later."
   ]
  },
  {
   "cell_type": "markdown",
   "metadata": {},
   "source": [
    "First the stopword removal."
   ]
  },
  {
   "cell_type": "code",
   "execution_count": 15,
   "metadata": {
    "ExecuteTime": {
     "end_time": "2017-05-03T10:15:34.009957Z",
     "start_time": "2017-05-03T10:15:33.799248Z"
    }
   },
   "outputs": [
    {
     "data": {
      "text/html": [
       "<div>\n",
       "<table border=\"1\" class=\"dataframe\">\n",
       "  <thead>\n",
       "    <tr style=\"text-align: right;\">\n",
       "      <th></th>\n",
       "      <th>label</th>\n",
       "      <th>text</th>\n",
       "      <th>tokens</th>\n",
       "      <th>tokens_stop</th>\n",
       "    </tr>\n",
       "  </thead>\n",
       "  <tbody>\n",
       "    <tr>\n",
       "      <th>0</th>\n",
       "      <td>ham</td>\n",
       "      <td>early bird  any purchases yet</td>\n",
       "      <td>[early, bird, any, purchases, yet]</td>\n",
       "      <td>[early, bird, purchases, yet]</td>\n",
       "    </tr>\n",
       "    <tr>\n",
       "      <th>1</th>\n",
       "      <td>spam</td>\n",
       "      <td>hi  this is mandy sullivan calling from hotmix...</td>\n",
       "      <td>[hi, this, is, mandy, sullivan, calling, from,...</td>\n",
       "      <td>[hi, mandy, sullivan, calling, hotmix, fm, cho...</td>\n",
       "    </tr>\n",
       "    <tr>\n",
       "      <th>2</th>\n",
       "      <td>ham</td>\n",
       "      <td>heart is empty without love   mind is empty wi...</td>\n",
       "      <td>[heart, is, empty, without, love, mind, is, em...</td>\n",
       "      <td>[heart, empty, without, love, mind, empty, wit...</td>\n",
       "    </tr>\n",
       "    <tr>\n",
       "      <th>3</th>\n",
       "      <td>ham</td>\n",
       "      <td>yes i started to send requests to make it but ...</td>\n",
       "      <td>[yes, i, started, to, send, requests, to, make...</td>\n",
       "      <td>[yes, started, send, requests, make, pain, cam...</td>\n",
       "    </tr>\n",
       "    <tr>\n",
       "      <th>4</th>\n",
       "      <td>ham</td>\n",
       "      <td>i ll see if i can swing by in a bit  got some ...</td>\n",
       "      <td>[i, ll, see, if, i, can, swing, by, in, a, bit...</td>\n",
       "      <td>[see, swing, bit, got, things, take, care, firsg]</td>\n",
       "    </tr>\n",
       "  </tbody>\n",
       "</table>\n",
       "</div>"
      ],
      "text/plain": [
       "  label                                               text  \\\n",
       "0   ham                     early bird  any purchases yet    \n",
       "1  spam  hi  this is mandy sullivan calling from hotmix...   \n",
       "2   ham  heart is empty without love   mind is empty wi...   \n",
       "3   ham  yes i started to send requests to make it but ...   \n",
       "4   ham  i ll see if i can swing by in a bit  got some ...   \n",
       "\n",
       "                                              tokens  \\\n",
       "0                 [early, bird, any, purchases, yet]   \n",
       "1  [hi, this, is, mandy, sullivan, calling, from,...   \n",
       "2  [heart, is, empty, without, love, mind, is, em...   \n",
       "3  [yes, i, started, to, send, requests, to, make...   \n",
       "4  [i, ll, see, if, i, can, swing, by, in, a, bit...   \n",
       "\n",
       "                                         tokens_stop  \n",
       "0                      [early, bird, purchases, yet]  \n",
       "1  [hi, mandy, sullivan, calling, hotmix, fm, cho...  \n",
       "2  [heart, empty, without, love, mind, empty, wit...  \n",
       "3  [yes, started, send, requests, make, pain, cam...  \n",
       "4  [see, swing, bit, got, things, take, care, firsg]  "
      ]
     },
     "execution_count": 15,
     "metadata": {},
     "output_type": "execute_result"
    }
   ],
   "source": [
    "from nltk.corpus import stopwords\n",
    "\n",
    "stop_words = stopwords.words('english')\n",
    "\n",
    "stop_lambda = lambda x: [y for y in x if y not in stop_words]\n",
    "data['tokens_stop'] = data.tokens.apply(stop_lambda)\n",
    "data.head()"
   ]
  },
  {
   "cell_type": "markdown",
   "metadata": {},
   "source": [
    "Now the parts of speech tagging. Convert the POS tag to the format expected by lemmatization to make that step easier."
   ]
  },
  {
   "cell_type": "code",
   "execution_count": 16,
   "metadata": {
    "ExecuteTime": {
     "end_time": "2017-05-03T10:15:40.573041Z",
     "start_time": "2017-05-03T10:15:34.011658Z"
    }
   },
   "outputs": [
    {
     "data": {
      "text/html": [
       "<div>\n",
       "<table border=\"1\" class=\"dataframe\">\n",
       "  <thead>\n",
       "    <tr style=\"text-align: right;\">\n",
       "      <th></th>\n",
       "      <th>label</th>\n",
       "      <th>text</th>\n",
       "      <th>tokens</th>\n",
       "      <th>tokens_stop</th>\n",
       "      <th>tokens_pos</th>\n",
       "    </tr>\n",
       "  </thead>\n",
       "  <tbody>\n",
       "    <tr>\n",
       "      <th>0</th>\n",
       "      <td>ham</td>\n",
       "      <td>early bird  any purchases yet</td>\n",
       "      <td>[early, bird, any, purchases, yet]</td>\n",
       "      <td>[early, bird, purchases, yet]</td>\n",
       "      <td>[(early, r), (bird, n), (purchases, n), (yet, r)]</td>\n",
       "    </tr>\n",
       "    <tr>\n",
       "      <th>1</th>\n",
       "      <td>spam</td>\n",
       "      <td>hi  this is mandy sullivan calling from hotmix...</td>\n",
       "      <td>[hi, this, is, mandy, sullivan, calling, from,...</td>\n",
       "      <td>[hi, mandy, sullivan, calling, hotmix, fm, cho...</td>\n",
       "      <td>[(hi, n), (mandy, a), (sullivan, n), (calling,...</td>\n",
       "    </tr>\n",
       "    <tr>\n",
       "      <th>2</th>\n",
       "      <td>ham</td>\n",
       "      <td>heart is empty without love   mind is empty wi...</td>\n",
       "      <td>[heart, is, empty, without, love, mind, is, em...</td>\n",
       "      <td>[heart, empty, without, love, mind, empty, wit...</td>\n",
       "      <td>[(heart, n), (empty, v), (without, n), (love, ...</td>\n",
       "    </tr>\n",
       "    <tr>\n",
       "      <th>3</th>\n",
       "      <td>ham</td>\n",
       "      <td>yes i started to send requests to make it but ...</td>\n",
       "      <td>[yes, i, started, to, send, requests, to, make...</td>\n",
       "      <td>[yes, started, send, requests, make, pain, cam...</td>\n",
       "      <td>[(yes, r), (started, v), (send, n), (requests,...</td>\n",
       "    </tr>\n",
       "    <tr>\n",
       "      <th>4</th>\n",
       "      <td>ham</td>\n",
       "      <td>i ll see if i can swing by in a bit  got some ...</td>\n",
       "      <td>[i, ll, see, if, i, can, swing, by, in, a, bit...</td>\n",
       "      <td>[see, swing, bit, got, things, take, care, firsg]</td>\n",
       "      <td>[(see, v), (swing, a), (bit, n), (got, v), (th...</td>\n",
       "    </tr>\n",
       "  </tbody>\n",
       "</table>\n",
       "</div>"
      ],
      "text/plain": [
       "  label                                               text  \\\n",
       "0   ham                     early bird  any purchases yet    \n",
       "1  spam  hi  this is mandy sullivan calling from hotmix...   \n",
       "2   ham  heart is empty without love   mind is empty wi...   \n",
       "3   ham  yes i started to send requests to make it but ...   \n",
       "4   ham  i ll see if i can swing by in a bit  got some ...   \n",
       "\n",
       "                                              tokens  \\\n",
       "0                 [early, bird, any, purchases, yet]   \n",
       "1  [hi, this, is, mandy, sullivan, calling, from,...   \n",
       "2  [heart, is, empty, without, love, mind, is, em...   \n",
       "3  [yes, i, started, to, send, requests, to, make...   \n",
       "4  [i, ll, see, if, i, can, swing, by, in, a, bit...   \n",
       "\n",
       "                                         tokens_stop  \\\n",
       "0                      [early, bird, purchases, yet]   \n",
       "1  [hi, mandy, sullivan, calling, hotmix, fm, cho...   \n",
       "2  [heart, empty, without, love, mind, empty, wit...   \n",
       "3  [yes, started, send, requests, make, pain, cam...   \n",
       "4  [see, swing, bit, got, things, take, care, firsg]   \n",
       "\n",
       "                                          tokens_pos  \n",
       "0  [(early, r), (bird, n), (purchases, n), (yet, r)]  \n",
       "1  [(hi, n), (mandy, a), (sullivan, n), (calling,...  \n",
       "2  [(heart, n), (empty, v), (without, n), (love, ...  \n",
       "3  [(yes, r), (started, v), (send, n), (requests,...  \n",
       "4  [(see, v), (swing, a), (bit, n), (got, v), (th...  "
      ]
     },
     "execution_count": 16,
     "metadata": {},
     "output_type": "execute_result"
    }
   ],
   "source": [
    "from nltk.corpus import wordnet\n",
    "\n",
    "def get_wordnet_pos(treebank_tag):\n",
    "    # Convert the naming scheme to that recognized by WordNet\n",
    "    if treebank_tag.startswith('J'):\n",
    "        return wordnet.ADJ\n",
    "    elif treebank_tag.startswith('V'):\n",
    "        return wordnet.VERB\n",
    "    elif treebank_tag.startswith('N'):\n",
    "        return wordnet.NOUN\n",
    "    elif treebank_tag.startswith('R'):\n",
    "        return wordnet.ADV\n",
    "    else:\n",
    "        return wordnet.NOUN\n",
    "\n",
    "pos_lambda = lambda x: nltk.pos_tag(x)\n",
    "data['tokens_pos'] = (data.tokens_stop\n",
    "                      .apply(pos_lambda)\n",
    "                      .apply(lambda x: [(y[0], get_wordnet_pos(y[1])) for y in x]))\n",
    "data.head()"
   ]
  },
  {
   "cell_type": "markdown",
   "metadata": {},
   "source": [
    "Next the stemming. It can be interesting to compare the differences between stemming and lemmatization, so let's create a separate column for each."
   ]
  },
  {
   "cell_type": "code",
   "execution_count": 17,
   "metadata": {
    "ExecuteTime": {
     "end_time": "2017-05-03T10:15:41.647812Z",
     "start_time": "2017-05-03T10:15:40.575131Z"
    }
   },
   "outputs": [
    {
     "data": {
      "text/html": [
       "<div>\n",
       "<table border=\"1\" class=\"dataframe\">\n",
       "  <thead>\n",
       "    <tr style=\"text-align: right;\">\n",
       "      <th></th>\n",
       "      <th>label</th>\n",
       "      <th>text</th>\n",
       "      <th>tokens</th>\n",
       "      <th>tokens_stop</th>\n",
       "      <th>tokens_pos</th>\n",
       "      <th>tokens_stem</th>\n",
       "    </tr>\n",
       "  </thead>\n",
       "  <tbody>\n",
       "    <tr>\n",
       "      <th>0</th>\n",
       "      <td>ham</td>\n",
       "      <td>early bird  any purchases yet</td>\n",
       "      <td>[early, bird, any, purchases, yet]</td>\n",
       "      <td>[early, bird, purchases, yet]</td>\n",
       "      <td>[(early, r), (bird, n), (purchases, n), (yet, r)]</td>\n",
       "      <td>[earli, bird, purchas, yet]</td>\n",
       "    </tr>\n",
       "    <tr>\n",
       "      <th>1</th>\n",
       "      <td>spam</td>\n",
       "      <td>hi  this is mandy sullivan calling from hotmix...</td>\n",
       "      <td>[hi, this, is, mandy, sullivan, calling, from,...</td>\n",
       "      <td>[hi, mandy, sullivan, calling, hotmix, fm, cho...</td>\n",
       "      <td>[(hi, n), (mandy, a), (sullivan, n), (calling,...</td>\n",
       "      <td>[hi, mandi, sullivan, call, hotmix, fm, chosen...</td>\n",
       "    </tr>\n",
       "    <tr>\n",
       "      <th>2</th>\n",
       "      <td>ham</td>\n",
       "      <td>heart is empty without love   mind is empty wi...</td>\n",
       "      <td>[heart, is, empty, without, love, mind, is, em...</td>\n",
       "      <td>[heart, empty, without, love, mind, empty, wit...</td>\n",
       "      <td>[(heart, n), (empty, v), (without, n), (love, ...</td>\n",
       "      <td>[heart, empti, without, love, mind, empti, wit...</td>\n",
       "    </tr>\n",
       "    <tr>\n",
       "      <th>3</th>\n",
       "      <td>ham</td>\n",
       "      <td>yes i started to send requests to make it but ...</td>\n",
       "      <td>[yes, i, started, to, send, requests, to, make...</td>\n",
       "      <td>[yes, started, send, requests, make, pain, cam...</td>\n",
       "      <td>[(yes, r), (started, v), (send, n), (requests,...</td>\n",
       "      <td>[yes, start, send, request, make, pain, came, ...</td>\n",
       "    </tr>\n",
       "    <tr>\n",
       "      <th>4</th>\n",
       "      <td>ham</td>\n",
       "      <td>i ll see if i can swing by in a bit  got some ...</td>\n",
       "      <td>[i, ll, see, if, i, can, swing, by, in, a, bit...</td>\n",
       "      <td>[see, swing, bit, got, things, take, care, firsg]</td>\n",
       "      <td>[(see, v), (swing, a), (bit, n), (got, v), (th...</td>\n",
       "      <td>[see, swing, bit, got, thing, take, care, firsg]</td>\n",
       "    </tr>\n",
       "  </tbody>\n",
       "</table>\n",
       "</div>"
      ],
      "text/plain": [
       "  label                                               text  \\\n",
       "0   ham                     early bird  any purchases yet    \n",
       "1  spam  hi  this is mandy sullivan calling from hotmix...   \n",
       "2   ham  heart is empty without love   mind is empty wi...   \n",
       "3   ham  yes i started to send requests to make it but ...   \n",
       "4   ham  i ll see if i can swing by in a bit  got some ...   \n",
       "\n",
       "                                              tokens  \\\n",
       "0                 [early, bird, any, purchases, yet]   \n",
       "1  [hi, this, is, mandy, sullivan, calling, from,...   \n",
       "2  [heart, is, empty, without, love, mind, is, em...   \n",
       "3  [yes, i, started, to, send, requests, to, make...   \n",
       "4  [i, ll, see, if, i, can, swing, by, in, a, bit...   \n",
       "\n",
       "                                         tokens_stop  \\\n",
       "0                      [early, bird, purchases, yet]   \n",
       "1  [hi, mandy, sullivan, calling, hotmix, fm, cho...   \n",
       "2  [heart, empty, without, love, mind, empty, wit...   \n",
       "3  [yes, started, send, requests, make, pain, cam...   \n",
       "4  [see, swing, bit, got, things, take, care, firsg]   \n",
       "\n",
       "                                          tokens_pos  \\\n",
       "0  [(early, r), (bird, n), (purchases, n), (yet, r)]   \n",
       "1  [(hi, n), (mandy, a), (sullivan, n), (calling,...   \n",
       "2  [(heart, n), (empty, v), (without, n), (love, ...   \n",
       "3  [(yes, r), (started, v), (send, n), (requests,...   \n",
       "4  [(see, v), (swing, a), (bit, n), (got, v), (th...   \n",
       "\n",
       "                                         tokens_stem  \n",
       "0                        [earli, bird, purchas, yet]  \n",
       "1  [hi, mandi, sullivan, call, hotmix, fm, chosen...  \n",
       "2  [heart, empti, without, love, mind, empti, wit...  \n",
       "3  [yes, start, send, request, make, pain, came, ...  \n",
       "4   [see, swing, bit, got, thing, take, care, firsg]  "
      ]
     },
     "execution_count": 17,
     "metadata": {},
     "output_type": "execute_result"
    }
   ],
   "source": [
    "from nltk.stem import SnowballStemmer\n",
    "\n",
    "stemmer = SnowballStemmer('english')\n",
    "stem_lambda = lambda x: [stemmer.stem(y) for y in x]\n",
    "\n",
    "data['tokens_stem'] = data.tokens_stop.apply(stem_lambda)\n",
    "data.head()"
   ]
  },
  {
   "cell_type": "markdown",
   "metadata": {},
   "source": [
    "Now the lemmatization. We will use the column with the parts-of-speech tagging."
   ]
  },
  {
   "cell_type": "code",
   "execution_count": 18,
   "metadata": {
    "ExecuteTime": {
     "end_time": "2017-05-03T10:15:42.021086Z",
     "start_time": "2017-05-03T10:15:41.649846Z"
    }
   },
   "outputs": [
    {
     "data": {
      "text/html": [
       "<div>\n",
       "<table border=\"1\" class=\"dataframe\">\n",
       "  <thead>\n",
       "    <tr style=\"text-align: right;\">\n",
       "      <th></th>\n",
       "      <th>0</th>\n",
       "      <th>1</th>\n",
       "      <th>2</th>\n",
       "      <th>3</th>\n",
       "      <th>4</th>\n",
       "    </tr>\n",
       "  </thead>\n",
       "  <tbody>\n",
       "    <tr>\n",
       "      <th>label</th>\n",
       "      <td>ham</td>\n",
       "      <td>spam</td>\n",
       "      <td>ham</td>\n",
       "      <td>ham</td>\n",
       "      <td>ham</td>\n",
       "    </tr>\n",
       "    <tr>\n",
       "      <th>text</th>\n",
       "      <td>early bird  any purchases yet</td>\n",
       "      <td>hi  this is mandy sullivan calling from hotmix...</td>\n",
       "      <td>heart is empty without love   mind is empty wi...</td>\n",
       "      <td>yes i started to send requests to make it but ...</td>\n",
       "      <td>i ll see if i can swing by in a bit  got some ...</td>\n",
       "    </tr>\n",
       "    <tr>\n",
       "      <th>tokens</th>\n",
       "      <td>[early, bird, any, purchases, yet]</td>\n",
       "      <td>[hi, this, is, mandy, sullivan, calling, from,...</td>\n",
       "      <td>[heart, is, empty, without, love, mind, is, em...</td>\n",
       "      <td>[yes, i, started, to, send, requests, to, make...</td>\n",
       "      <td>[i, ll, see, if, i, can, swing, by, in, a, bit...</td>\n",
       "    </tr>\n",
       "    <tr>\n",
       "      <th>tokens_stop</th>\n",
       "      <td>[early, bird, purchases, yet]</td>\n",
       "      <td>[hi, mandy, sullivan, calling, hotmix, fm, cho...</td>\n",
       "      <td>[heart, empty, without, love, mind, empty, wit...</td>\n",
       "      <td>[yes, started, send, requests, make, pain, cam...</td>\n",
       "      <td>[see, swing, bit, got, things, take, care, firsg]</td>\n",
       "    </tr>\n",
       "    <tr>\n",
       "      <th>tokens_pos</th>\n",
       "      <td>[(early, r), (bird, n), (purchases, n), (yet, r)]</td>\n",
       "      <td>[(hi, n), (mandy, a), (sullivan, n), (calling,...</td>\n",
       "      <td>[(heart, n), (empty, v), (without, n), (love, ...</td>\n",
       "      <td>[(yes, r), (started, v), (send, n), (requests,...</td>\n",
       "      <td>[(see, v), (swing, a), (bit, n), (got, v), (th...</td>\n",
       "    </tr>\n",
       "    <tr>\n",
       "      <th>tokens_stem</th>\n",
       "      <td>[earli, bird, purchas, yet]</td>\n",
       "      <td>[hi, mandi, sullivan, call, hotmix, fm, chosen...</td>\n",
       "      <td>[heart, empti, without, love, mind, empti, wit...</td>\n",
       "      <td>[yes, start, send, request, make, pain, came, ...</td>\n",
       "      <td>[see, swing, bit, got, thing, take, care, firsg]</td>\n",
       "    </tr>\n",
       "    <tr>\n",
       "      <th>tokens_lemma</th>\n",
       "      <td>[early, bird, purchase, yet]</td>\n",
       "      <td>[hi, mandy, sullivan, call, hotmix, fm, choose...</td>\n",
       "      <td>[heart, empty, without, love, mind, empty, wit...</td>\n",
       "      <td>[yes, start, send, request, make, pain, come, ...</td>\n",
       "      <td>[see, swing, bit, get, thing, take, care, firsg]</td>\n",
       "    </tr>\n",
       "  </tbody>\n",
       "</table>\n",
       "</div>"
      ],
      "text/plain": [
       "                                                              0  \\\n",
       "label                                                       ham   \n",
       "text                             early bird  any purchases yet    \n",
       "tokens                       [early, bird, any, purchases, yet]   \n",
       "tokens_stop                       [early, bird, purchases, yet]   \n",
       "tokens_pos    [(early, r), (bird, n), (purchases, n), (yet, r)]   \n",
       "tokens_stem                         [earli, bird, purchas, yet]   \n",
       "tokens_lemma                       [early, bird, purchase, yet]   \n",
       "\n",
       "                                                              1  \\\n",
       "label                                                      spam   \n",
       "text          hi  this is mandy sullivan calling from hotmix...   \n",
       "tokens        [hi, this, is, mandy, sullivan, calling, from,...   \n",
       "tokens_stop   [hi, mandy, sullivan, calling, hotmix, fm, cho...   \n",
       "tokens_pos    [(hi, n), (mandy, a), (sullivan, n), (calling,...   \n",
       "tokens_stem   [hi, mandi, sullivan, call, hotmix, fm, chosen...   \n",
       "tokens_lemma  [hi, mandy, sullivan, call, hotmix, fm, choose...   \n",
       "\n",
       "                                                              2  \\\n",
       "label                                                       ham   \n",
       "text          heart is empty without love   mind is empty wi...   \n",
       "tokens        [heart, is, empty, without, love, mind, is, em...   \n",
       "tokens_stop   [heart, empty, without, love, mind, empty, wit...   \n",
       "tokens_pos    [(heart, n), (empty, v), (without, n), (love, ...   \n",
       "tokens_stem   [heart, empti, without, love, mind, empti, wit...   \n",
       "tokens_lemma  [heart, empty, without, love, mind, empty, wit...   \n",
       "\n",
       "                                                              3  \\\n",
       "label                                                       ham   \n",
       "text          yes i started to send requests to make it but ...   \n",
       "tokens        [yes, i, started, to, send, requests, to, make...   \n",
       "tokens_stop   [yes, started, send, requests, make, pain, cam...   \n",
       "tokens_pos    [(yes, r), (started, v), (send, n), (requests,...   \n",
       "tokens_stem   [yes, start, send, request, make, pain, came, ...   \n",
       "tokens_lemma  [yes, start, send, request, make, pain, come, ...   \n",
       "\n",
       "                                                              4  \n",
       "label                                                       ham  \n",
       "text          i ll see if i can swing by in a bit  got some ...  \n",
       "tokens        [i, ll, see, if, i, can, swing, by, in, a, bit...  \n",
       "tokens_stop   [see, swing, bit, got, things, take, care, firsg]  \n",
       "tokens_pos    [(see, v), (swing, a), (bit, n), (got, v), (th...  \n",
       "tokens_stem    [see, swing, bit, got, thing, take, care, firsg]  \n",
       "tokens_lemma   [see, swing, bit, get, thing, take, care, firsg]  "
      ]
     },
     "execution_count": 18,
     "metadata": {},
     "output_type": "execute_result"
    }
   ],
   "source": [
    "from nltk.stem.wordnet import WordNetLemmatizer\n",
    "\n",
    "lemmatizer = WordNetLemmatizer()\n",
    "lemmatizer_fun = lambda x: lemmatizer.lemmatize(*x)\n",
    "data['tokens_lemma'] = data.tokens_pos.apply(lambda x: [lemmatizer_fun(y) for y in x])\n",
    "\n",
    "# View the columns transposed\n",
    "data.head().T"
   ]
  },
  {
   "cell_type": "markdown",
   "metadata": {},
   "source": [
    "Compare the results of stemming to the text that was not stemmed."
   ]
  },
  {
   "cell_type": "code",
   "execution_count": 19,
   "metadata": {
    "ExecuteTime": {
     "end_time": "2017-05-03T10:15:42.214769Z",
     "start_time": "2017-05-03T10:15:42.022746Z"
    }
   },
   "outputs": [
    {
     "name": "stdout",
     "output_type": "stream",
     "text": [
      "[[('earli', 'early'), ('purchas', 'purchase')]\n",
      " [('mandi', 'mandy'), ('chosen', 'choose'), ('receiv', 'receive'), ('pleas', 'please'), ('telephon', 'telephone'), ('someon', 'someone'), ('els', 'else')]\n",
      " [('empti', 'empty'), ('empti', 'empty'), ('empti', 'empty'), ('empti', 'empty'), ('alwi', 'alwys')]\n",
      " [('came', 'come'), ('doubl', 'double'), ('factori', 'factory'), ('got', 'get'), ('nitro', 'nitros')]\n",
      " [('got', 'get')]]\n"
     ]
    }
   ],
   "source": [
    "stem_lem_comp = lambda x: [y for y in zip(x.tokens_stem, x.tokens_lemma) if y[0] != y[1]]\n",
    "stem_lem_results = data.apply(stem_lem_comp, axis=1)\n",
    "\n",
    "# Print the first five rows\n",
    "print(stem_lem_results.iloc[:5].values)"
   ]
  },
  {
   "cell_type": "markdown",
   "metadata": {},
   "source": [
    "When parts-of-speech tagging is used with lemmatization, it consistently returns better results than stemming. However, stemming is usually faster.\n",
    "\n",
    "Let's pickle the lemmatized data for use in the next set of exercises, if desired."
   ]
  },
  {
   "cell_type": "code",
   "execution_count": 20,
   "metadata": {
    "ExecuteTime": {
     "end_time": "2017-05-03T10:15:42.240796Z",
     "start_time": "2017-05-03T10:15:42.216562Z"
    }
   },
   "outputs": [],
   "source": [
    "pd.options.mode.chained_assignment = None\n",
    "\n",
    "# Extract the columns we want and join the tokens\n",
    "data_out = data[['label', 'tokens_lemma']]\n",
    "data_out['text'] = data_out.tokens_lemma.apply(' '.join)\n",
    "\n",
    "# Drop the tokenized column\n",
    "data_out = data_out.drop(['tokens_lemma'], axis=1)\n",
    "\n",
    "# Write out the pickle file\n",
    "data_out.to_pickle('../data/spam_preprocessed.pkl')"
   ]
  },
  {
   "cell_type": "markdown",
   "metadata": {},
   "source": [
    "An alternative to performing all of this tedious cleaning over and over again is to create a convenience function. The file [`accessory_functions.py`](./accessory_functions.py) contains two functions. The first will perform the parts-of-speech conversion to the names used by the WordNet lemmatizer. The second will perform all steps of the preprocessing pathway on a Pandas series."
   ]
  },
  {
   "cell_type": "markdown",
   "metadata": {},
   "source": [
    "## Question 4\n",
    "\n",
    "* Create a document-term matrix using count vectorizer. Examine the feature names to determine if any additional cleaning needs to be performed.\n",
    "* Create additional count vectorizer matrices with different n-gram and binary (T/F) values."
   ]
  },
  {
   "cell_type": "markdown",
   "metadata": {},
   "source": [
    "We will used the lemmatized data for the count vectorizer model."
   ]
  },
  {
   "cell_type": "code",
   "execution_count": 21,
   "metadata": {
    "ExecuteTime": {
     "end_time": "2017-05-03T10:15:42.351234Z",
     "start_time": "2017-05-03T10:15:42.243457Z"
    },
    "collapsed": true
   },
   "outputs": [],
   "source": [
    "from sklearn.feature_extraction.text import CountVectorizer\n",
    "\n",
    "data['lemma_input'] = data.tokens_lemma.map(' '.join)\n",
    "cv1 = CountVectorizer()\n",
    "X = cv1.fit_transform(data.lemma_input)"
   ]
  },
  {
   "cell_type": "code",
   "execution_count": 22,
   "metadata": {
    "ExecuteTime": {
     "end_time": "2017-05-03T10:15:42.368153Z",
     "start_time": "2017-05-03T10:15:42.353201Z"
    }
   },
   "outputs": [
    {
     "name": "stdout",
     "output_type": "stream",
     "text": [
      "(5572, 6528) 6528\n"
     ]
    }
   ],
   "source": [
    "print(X.shape, len(cv1.get_feature_names()))"
   ]
  },
  {
   "cell_type": "code",
   "execution_count": 23,
   "metadata": {
    "ExecuteTime": {
     "end_time": "2017-05-03T10:15:42.380686Z",
     "start_time": "2017-05-03T10:15:42.370113Z"
    }
   },
   "outputs": [
    {
     "name": "stdout",
     "output_type": "stream",
     "text": [
      "0 18\n"
     ]
    }
   ],
   "source": [
    "print(X.min(), X.max())"
   ]
  },
  {
   "cell_type": "markdown",
   "metadata": {},
   "source": [
    "View the document-term matrix."
   ]
  },
  {
   "cell_type": "code",
   "execution_count": 24,
   "metadata": {
    "ExecuteTime": {
     "end_time": "2017-05-03T10:15:42.481785Z",
     "start_time": "2017-05-03T10:15:42.383450Z"
    }
   },
   "outputs": [
    {
     "data": {
      "text/html": [
       "<div>\n",
       "<table border=\"1\" class=\"dataframe\">\n",
       "  <thead>\n",
       "    <tr style=\"text-align: right;\">\n",
       "      <th></th>\n",
       "      <th>aa</th>\n",
       "      <th>aah</th>\n",
       "      <th>aaniye</th>\n",
       "      <th>aaooooright</th>\n",
       "      <th>aathi</th>\n",
       "      <th>ab</th>\n",
       "      <th>abbey</th>\n",
       "      <th>abdomen</th>\n",
       "      <th>abeg</th>\n",
       "      <th>abel</th>\n",
       "      <th>...</th>\n",
       "      <th>zero</th>\n",
       "      <th>zhong</th>\n",
       "      <th>zindgi</th>\n",
       "      <th>zoe</th>\n",
       "      <th>zogtorius</th>\n",
       "      <th>zoom</th>\n",
       "      <th>zouk</th>\n",
       "      <th>zyada</th>\n",
       "      <th>èn</th>\n",
       "      <th>〨ud</th>\n",
       "    </tr>\n",
       "  </thead>\n",
       "  <tbody>\n",
       "    <tr>\n",
       "      <th>0</th>\n",
       "      <td>0</td>\n",
       "      <td>0</td>\n",
       "      <td>0</td>\n",
       "      <td>0</td>\n",
       "      <td>0</td>\n",
       "      <td>0</td>\n",
       "      <td>0</td>\n",
       "      <td>0</td>\n",
       "      <td>0</td>\n",
       "      <td>0</td>\n",
       "      <td>...</td>\n",
       "      <td>0</td>\n",
       "      <td>0</td>\n",
       "      <td>0</td>\n",
       "      <td>0</td>\n",
       "      <td>0</td>\n",
       "      <td>0</td>\n",
       "      <td>0</td>\n",
       "      <td>0</td>\n",
       "      <td>0</td>\n",
       "      <td>0</td>\n",
       "    </tr>\n",
       "    <tr>\n",
       "      <th>1</th>\n",
       "      <td>0</td>\n",
       "      <td>0</td>\n",
       "      <td>0</td>\n",
       "      <td>0</td>\n",
       "      <td>0</td>\n",
       "      <td>0</td>\n",
       "      <td>0</td>\n",
       "      <td>0</td>\n",
       "      <td>0</td>\n",
       "      <td>0</td>\n",
       "      <td>...</td>\n",
       "      <td>0</td>\n",
       "      <td>0</td>\n",
       "      <td>0</td>\n",
       "      <td>0</td>\n",
       "      <td>0</td>\n",
       "      <td>0</td>\n",
       "      <td>0</td>\n",
       "      <td>0</td>\n",
       "      <td>0</td>\n",
       "      <td>0</td>\n",
       "    </tr>\n",
       "    <tr>\n",
       "      <th>2</th>\n",
       "      <td>0</td>\n",
       "      <td>0</td>\n",
       "      <td>0</td>\n",
       "      <td>0</td>\n",
       "      <td>0</td>\n",
       "      <td>0</td>\n",
       "      <td>0</td>\n",
       "      <td>0</td>\n",
       "      <td>0</td>\n",
       "      <td>0</td>\n",
       "      <td>...</td>\n",
       "      <td>0</td>\n",
       "      <td>0</td>\n",
       "      <td>0</td>\n",
       "      <td>0</td>\n",
       "      <td>0</td>\n",
       "      <td>0</td>\n",
       "      <td>0</td>\n",
       "      <td>0</td>\n",
       "      <td>0</td>\n",
       "      <td>0</td>\n",
       "    </tr>\n",
       "    <tr>\n",
       "      <th>3</th>\n",
       "      <td>0</td>\n",
       "      <td>0</td>\n",
       "      <td>0</td>\n",
       "      <td>0</td>\n",
       "      <td>0</td>\n",
       "      <td>0</td>\n",
       "      <td>0</td>\n",
       "      <td>0</td>\n",
       "      <td>0</td>\n",
       "      <td>0</td>\n",
       "      <td>...</td>\n",
       "      <td>0</td>\n",
       "      <td>0</td>\n",
       "      <td>0</td>\n",
       "      <td>0</td>\n",
       "      <td>0</td>\n",
       "      <td>0</td>\n",
       "      <td>0</td>\n",
       "      <td>0</td>\n",
       "      <td>0</td>\n",
       "      <td>0</td>\n",
       "    </tr>\n",
       "    <tr>\n",
       "      <th>4</th>\n",
       "      <td>0</td>\n",
       "      <td>0</td>\n",
       "      <td>0</td>\n",
       "      <td>0</td>\n",
       "      <td>0</td>\n",
       "      <td>0</td>\n",
       "      <td>0</td>\n",
       "      <td>0</td>\n",
       "      <td>0</td>\n",
       "      <td>0</td>\n",
       "      <td>...</td>\n",
       "      <td>0</td>\n",
       "      <td>0</td>\n",
       "      <td>0</td>\n",
       "      <td>0</td>\n",
       "      <td>0</td>\n",
       "      <td>0</td>\n",
       "      <td>0</td>\n",
       "      <td>0</td>\n",
       "      <td>0</td>\n",
       "      <td>0</td>\n",
       "    </tr>\n",
       "  </tbody>\n",
       "</table>\n",
       "<p>5 rows × 6528 columns</p>\n",
       "</div>"
      ],
      "text/plain": [
       "   aa  aah  aaniye  aaooooright  aathi  ab  abbey  abdomen  abeg  abel ...   \\\n",
       "0   0    0       0            0      0   0      0        0     0     0 ...    \n",
       "1   0    0       0            0      0   0      0        0     0     0 ...    \n",
       "2   0    0       0            0      0   0      0        0     0     0 ...    \n",
       "3   0    0       0            0      0   0      0        0     0     0 ...    \n",
       "4   0    0       0            0      0   0      0        0     0     0 ...    \n",
       "\n",
       "   zero  zhong  zindgi  zoe  zogtorius  zoom  zouk  zyada  èn  〨ud  \n",
       "0     0      0       0    0          0     0     0      0   0    0  \n",
       "1     0      0       0    0          0     0     0      0   0    0  \n",
       "2     0      0       0    0          0     0     0      0   0    0  \n",
       "3     0      0       0    0          0     0     0      0   0    0  \n",
       "4     0      0       0    0          0     0     0      0   0    0  \n",
       "\n",
       "[5 rows x 6528 columns]"
      ]
     },
     "execution_count": 24,
     "metadata": {},
     "output_type": "execute_result"
    }
   ],
   "source": [
    "pd.DataFrame(X.toarray(),\n",
    "             columns = cv1.get_feature_names()).head()"
   ]
  },
  {
   "cell_type": "markdown",
   "metadata": {},
   "source": [
    "The second count vectorizer model."
   ]
  },
  {
   "cell_type": "code",
   "execution_count": 25,
   "metadata": {
    "ExecuteTime": {
     "end_time": "2017-05-03T10:15:42.696463Z",
     "start_time": "2017-05-03T10:15:42.484005Z"
    },
    "collapsed": true
   },
   "outputs": [],
   "source": [
    "cv2 = CountVectorizer(ngram_range=(1,2), binary=True)\n",
    "X = cv2.fit_transform(data.lemma_input)"
   ]
  },
  {
   "cell_type": "code",
   "execution_count": 26,
   "metadata": {
    "ExecuteTime": {
     "end_time": "2017-05-03T10:15:42.747550Z",
     "start_time": "2017-05-03T10:15:42.698538Z"
    }
   },
   "outputs": [
    {
     "name": "stdout",
     "output_type": "stream",
     "text": [
      "(5572, 35310) 35310\n"
     ]
    }
   ],
   "source": [
    "print(X.shape, len(cv2.get_feature_names()))"
   ]
  },
  {
   "cell_type": "code",
   "execution_count": 27,
   "metadata": {
    "ExecuteTime": {
     "end_time": "2017-05-03T10:15:42.765656Z",
     "start_time": "2017-05-03T10:15:42.749520Z"
    }
   },
   "outputs": [
    {
     "name": "stdout",
     "output_type": "stream",
     "text": [
      "0 1\n"
     ]
    }
   ],
   "source": [
    "print(X.min(), X.max())"
   ]
  },
  {
   "cell_type": "markdown",
   "metadata": {},
   "source": [
    "View the document-term matrix."
   ]
  },
  {
   "cell_type": "code",
   "execution_count": 28,
   "metadata": {
    "ExecuteTime": {
     "end_time": "2017-05-03T10:15:42.928613Z",
     "start_time": "2017-05-03T10:15:42.768053Z"
    }
   },
   "outputs": [
    {
     "data": {
      "text/html": [
       "<div>\n",
       "<table border=\"1\" class=\"dataframe\">\n",
       "  <thead>\n",
       "    <tr style=\"text-align: right;\">\n",
       "      <th></th>\n",
       "      <th>aa</th>\n",
       "      <th>aa exhaust</th>\n",
       "      <th>aah</th>\n",
       "      <th>aah bless</th>\n",
       "      <th>aah cuddle</th>\n",
       "      <th>aah speak</th>\n",
       "      <th>aaniye</th>\n",
       "      <th>aaniye pudunga</th>\n",
       "      <th>aaooooright</th>\n",
       "      <th>aaooooright work</th>\n",
       "      <th>...</th>\n",
       "      <th>zogtorius ve</th>\n",
       "      <th>zoom</th>\n",
       "      <th>zoom cine</th>\n",
       "      <th>zouk</th>\n",
       "      <th>zouk nichols</th>\n",
       "      <th>zyada</th>\n",
       "      <th>zyada kisi</th>\n",
       "      <th>èn</th>\n",
       "      <th>〨ud</th>\n",
       "      <th>〨ud evening</th>\n",
       "    </tr>\n",
       "  </thead>\n",
       "  <tbody>\n",
       "    <tr>\n",
       "      <th>0</th>\n",
       "      <td>0</td>\n",
       "      <td>0</td>\n",
       "      <td>0</td>\n",
       "      <td>0</td>\n",
       "      <td>0</td>\n",
       "      <td>0</td>\n",
       "      <td>0</td>\n",
       "      <td>0</td>\n",
       "      <td>0</td>\n",
       "      <td>0</td>\n",
       "      <td>...</td>\n",
       "      <td>0</td>\n",
       "      <td>0</td>\n",
       "      <td>0</td>\n",
       "      <td>0</td>\n",
       "      <td>0</td>\n",
       "      <td>0</td>\n",
       "      <td>0</td>\n",
       "      <td>0</td>\n",
       "      <td>0</td>\n",
       "      <td>0</td>\n",
       "    </tr>\n",
       "    <tr>\n",
       "      <th>1</th>\n",
       "      <td>0</td>\n",
       "      <td>0</td>\n",
       "      <td>0</td>\n",
       "      <td>0</td>\n",
       "      <td>0</td>\n",
       "      <td>0</td>\n",
       "      <td>0</td>\n",
       "      <td>0</td>\n",
       "      <td>0</td>\n",
       "      <td>0</td>\n",
       "      <td>...</td>\n",
       "      <td>0</td>\n",
       "      <td>0</td>\n",
       "      <td>0</td>\n",
       "      <td>0</td>\n",
       "      <td>0</td>\n",
       "      <td>0</td>\n",
       "      <td>0</td>\n",
       "      <td>0</td>\n",
       "      <td>0</td>\n",
       "      <td>0</td>\n",
       "    </tr>\n",
       "    <tr>\n",
       "      <th>2</th>\n",
       "      <td>0</td>\n",
       "      <td>0</td>\n",
       "      <td>0</td>\n",
       "      <td>0</td>\n",
       "      <td>0</td>\n",
       "      <td>0</td>\n",
       "      <td>0</td>\n",
       "      <td>0</td>\n",
       "      <td>0</td>\n",
       "      <td>0</td>\n",
       "      <td>...</td>\n",
       "      <td>0</td>\n",
       "      <td>0</td>\n",
       "      <td>0</td>\n",
       "      <td>0</td>\n",
       "      <td>0</td>\n",
       "      <td>0</td>\n",
       "      <td>0</td>\n",
       "      <td>0</td>\n",
       "      <td>0</td>\n",
       "      <td>0</td>\n",
       "    </tr>\n",
       "    <tr>\n",
       "      <th>3</th>\n",
       "      <td>0</td>\n",
       "      <td>0</td>\n",
       "      <td>0</td>\n",
       "      <td>0</td>\n",
       "      <td>0</td>\n",
       "      <td>0</td>\n",
       "      <td>0</td>\n",
       "      <td>0</td>\n",
       "      <td>0</td>\n",
       "      <td>0</td>\n",
       "      <td>...</td>\n",
       "      <td>0</td>\n",
       "      <td>0</td>\n",
       "      <td>0</td>\n",
       "      <td>0</td>\n",
       "      <td>0</td>\n",
       "      <td>0</td>\n",
       "      <td>0</td>\n",
       "      <td>0</td>\n",
       "      <td>0</td>\n",
       "      <td>0</td>\n",
       "    </tr>\n",
       "    <tr>\n",
       "      <th>4</th>\n",
       "      <td>0</td>\n",
       "      <td>0</td>\n",
       "      <td>0</td>\n",
       "      <td>0</td>\n",
       "      <td>0</td>\n",
       "      <td>0</td>\n",
       "      <td>0</td>\n",
       "      <td>0</td>\n",
       "      <td>0</td>\n",
       "      <td>0</td>\n",
       "      <td>...</td>\n",
       "      <td>0</td>\n",
       "      <td>0</td>\n",
       "      <td>0</td>\n",
       "      <td>0</td>\n",
       "      <td>0</td>\n",
       "      <td>0</td>\n",
       "      <td>0</td>\n",
       "      <td>0</td>\n",
       "      <td>0</td>\n",
       "      <td>0</td>\n",
       "    </tr>\n",
       "  </tbody>\n",
       "</table>\n",
       "<p>5 rows × 35310 columns</p>\n",
       "</div>"
      ],
      "text/plain": [
       "   aa  aa exhaust  aah  aah bless  aah cuddle  aah speak  aaniye  \\\n",
       "0   0           0    0          0           0          0       0   \n",
       "1   0           0    0          0           0          0       0   \n",
       "2   0           0    0          0           0          0       0   \n",
       "3   0           0    0          0           0          0       0   \n",
       "4   0           0    0          0           0          0       0   \n",
       "\n",
       "   aaniye pudunga  aaooooright  aaooooright work     ...       zogtorius ve  \\\n",
       "0               0            0                 0     ...                  0   \n",
       "1               0            0                 0     ...                  0   \n",
       "2               0            0                 0     ...                  0   \n",
       "3               0            0                 0     ...                  0   \n",
       "4               0            0                 0     ...                  0   \n",
       "\n",
       "   zoom  zoom cine  zouk  zouk nichols  zyada  zyada kisi  èn  〨ud  \\\n",
       "0     0          0     0             0      0           0   0    0   \n",
       "1     0          0     0             0      0           0   0    0   \n",
       "2     0          0     0             0      0           0   0    0   \n",
       "3     0          0     0             0      0           0   0    0   \n",
       "4     0          0     0             0      0           0   0    0   \n",
       "\n",
       "   〨ud evening  \n",
       "0            0  \n",
       "1            0  \n",
       "2            0  \n",
       "3            0  \n",
       "4            0  \n",
       "\n",
       "[5 rows x 35310 columns]"
      ]
     },
     "execution_count": 28,
     "metadata": {},
     "output_type": "execute_result"
    }
   ],
   "source": [
    "pd.DataFrame(X.toarray(),\n",
    "             columns = cv2.get_feature_names()).head()"
   ]
  },
  {
   "cell_type": "markdown",
   "metadata": {},
   "source": [
    "N-grams cause the number of features to expand rapidly!"
   ]
  }
 ],
 "metadata": {
  "kernelspec": {
   "display_name": "Python 3",
   "language": "python",
   "name": "python3"
  },
  "language_info": {
   "codemirror_mode": {
    "name": "ipython",
    "version": 3
   },
   "file_extension": ".py",
   "mimetype": "text/x-python",
   "name": "python",
   "nbconvert_exporter": "python",
   "pygments_lexer": "ipython3",
   "version": "3.6.1"
  }
 },
 "nbformat": 4,
 "nbformat_minor": 1
}
