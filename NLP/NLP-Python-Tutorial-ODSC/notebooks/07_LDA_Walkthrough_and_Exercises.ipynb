{
 "cells": [
  {
   "cell_type": "markdown",
   "metadata": {
    "run_control": {
     "marked": true
    }
   },
   "source": [
    "<table align=\"left\">\n",
    "<tr>\n",
    "\n",
    "<th, style=\"background-color:white\">\n",
    "<img src=\"https://github.com/mlgill/ODSC_East_2017_PythonNLP/blob/master/assets/logo.png?raw=true\", width=140, height=100>\n",
    "</th>\n",
    "\n",
    "<th, style=\"background-color:white\">\n",
    "<div align=\"left\">\n",
    "<h1>Learning from Text: <br> Introduction to Natural Language Processing with Python</h1>  \n",
    "<h2>Michelle L. Gill, Ph.D.</h2>     \n",
    "Senior Data Scientist, Metis  \n",
    "ODSC East  \n",
    "May 3, 2017 \n",
    "</div>\n",
    "</th>\n",
    "\n",
    "</tr>\n",
    "</table>  "
   ]
  },
  {
   "cell_type": "markdown",
   "metadata": {},
   "source": [
    "## LDA Walkthrough and Exercises"
   ]
  },
  {
   "cell_type": "markdown",
   "metadata": {
    "run_control": {
     "marked": true
    }
   },
   "source": [
    "## The Data\n",
    "\n",
    "We will be using a portion data set containing approximately 20,000 posts partitioned evenly across 20 different newsgroups. This data set is quite famous. We will be using a sample of this data set, containing 5 topics and about 3,000 posts.\n",
    "\n",
    "We will begin by loading the data."
   ]
  },
  {
   "cell_type": "code",
   "execution_count": 1,
   "metadata": {
    "ExecuteTime": {
     "end_time": "2017-05-03T10:21:31.684450Z",
     "start_time": "2017-05-03T10:21:30.192639Z"
    },
    "collapsed": true
   },
   "outputs": [],
   "source": [
    "import nltk\n",
    "from accessory_functions import nltk_path\n",
    "\n",
    "# Setup nltk corpora path\n",
    "nltk.data.path.insert(0, nltk_path)"
   ]
  },
  {
   "cell_type": "code",
   "execution_count": 2,
   "metadata": {
    "ExecuteTime": {
     "end_time": "2017-05-03T10:21:33.382244Z",
     "start_time": "2017-05-03T10:21:31.686548Z"
    }
   },
   "outputs": [
    {
     "name": "stdout",
     "output_type": "stream",
     "text": [
      "2956\n"
     ]
    }
   ],
   "source": [
    "import pandas as pd\n",
    "from sklearn.datasets import fetch_20newsgroups\n",
    "\n",
    "topic_list = ['sci.space', 'comp.sys.mac.hardware', 'rec.autos',\n",
    "              'rec.sport.baseball', 'sci.med']\n",
    "\n",
    "dataset = fetch_20newsgroups(shuffle=True, random_state=1, data_home='../data',\n",
    "                             categories=topic_list,\n",
    "                             remove=('headers', 'footers', 'quotes'))\n",
    "\n",
    "data = pd.DataFrame(dataset['data'], columns=['text'])\n",
    "print(len(data))"
   ]
  },
  {
   "cell_type": "markdown",
   "metadata": {},
   "source": [
    "## Preprocess the Data\n",
    "\n",
    "Next we will preprocess the data using the convenience method from `accessory_functions`."
   ]
  },
  {
   "cell_type": "code",
   "execution_count": 3,
   "metadata": {
    "ExecuteTime": {
     "end_time": "2017-05-03T10:21:55.736597Z",
     "start_time": "2017-05-03T10:21:33.384051Z"
    },
    "collapsed": true
   },
   "outputs": [],
   "source": [
    "from accessory_functions import preprocess_series_text\n",
    "\n",
    "data['text'] = preprocess_series_text(data.text, \n",
    "                                      nltk_path=nltk_path)"
   ]
  },
  {
   "cell_type": "code",
   "execution_count": 4,
   "metadata": {
    "ExecuteTime": {
     "end_time": "2017-05-03T10:21:55.756040Z",
     "start_time": "2017-05-03T10:21:55.738608Z"
    }
   },
   "outputs": [
    {
     "data": {
      "text/html": [
       "<div>\n",
       "<table border=\"1\" class=\"dataframe\">\n",
       "  <thead>\n",
       "    <tr style=\"text-align: right;\">\n",
       "      <th></th>\n",
       "      <th>text</th>\n",
       "    </tr>\n",
       "  </thead>\n",
       "  <tbody>\n",
       "    <tr>\n",
       "      <th>0</th>\n",
       "      <td>otoh u get lucky unplugged replugged scsi adb ...</td>\n",
       "    </tr>\n",
       "    <tr>\n",
       "      <th>1</th>\n",
       "      <td>yes everyone else may wonder fred well would o...</td>\n",
       "    </tr>\n",
       "    <tr>\n",
       "      <th>2</th>\n",
       "      <td>umm perhaps could explain right talk</td>\n",
       "    </tr>\n",
       "    <tr>\n",
       "      <th>3</th>\n",
       "      <td>like alomar like differ opinion city likely po...</td>\n",
       "    </tr>\n",
       "    <tr>\n",
       "      <th>4</th>\n",
       "      <td>wow know uranus long way think far away</td>\n",
       "    </tr>\n",
       "  </tbody>\n",
       "</table>\n",
       "</div>"
      ],
      "text/plain": [
       "                                                text\n",
       "0  otoh u get lucky unplugged replugged scsi adb ...\n",
       "1  yes everyone else may wonder fred well would o...\n",
       "2               umm perhaps could explain right talk\n",
       "3  like alomar like differ opinion city likely po...\n",
       "4            wow know uranus long way think far away"
      ]
     },
     "execution_count": 4,
     "metadata": {},
     "output_type": "execute_result"
    }
   ],
   "source": [
    "data.head()"
   ]
  },
  {
   "cell_type": "markdown",
   "metadata": {},
   "source": [
    "## Create Numerical Features\n",
    "\n",
    "Use Count Vectorizer to create a document-term matrix."
   ]
  },
  {
   "cell_type": "code",
   "execution_count": 5,
   "metadata": {
    "ExecuteTime": {
     "end_time": "2017-05-03T10:21:56.063003Z",
     "start_time": "2017-05-03T10:21:55.758319Z"
    }
   },
   "outputs": [
    {
     "name": "stdout",
     "output_type": "stream",
     "text": [
      "(2956, 1000)\n"
     ]
    }
   ],
   "source": [
    "from sklearn.feature_extraction.text import CountVectorizer\n",
    "\n",
    "n_features = 1000\n",
    "cv = CountVectorizer(max_df=0.95, min_df=2, \n",
    "                     max_features=n_features)\n",
    "X = cv.fit_transform(data.text)\n",
    "\n",
    "print(X.shape)"
   ]
  },
  {
   "cell_type": "code",
   "execution_count": 6,
   "metadata": {
    "ExecuteTime": {
     "end_time": "2017-05-03T10:21:56.106711Z",
     "start_time": "2017-05-03T10:21:56.065060Z"
    },
    "scrolled": true
   },
   "outputs": [
    {
     "data": {
      "text/html": [
       "<div>\n",
       "<table border=\"1\" class=\"dataframe\">\n",
       "  <thead>\n",
       "    <tr style=\"text-align: right;\">\n",
       "      <th></th>\n",
       "      <th>ab</th>\n",
       "      <th>ability</th>\n",
       "      <th>able</th>\n",
       "      <th>ac</th>\n",
       "      <th>accept</th>\n",
       "      <th>access</th>\n",
       "      <th>accord</th>\n",
       "      <th>acid</th>\n",
       "      <th>act</th>\n",
       "      <th>activity</th>\n",
       "      <th>...</th>\n",
       "      <th>write</th>\n",
       "      <th>wrong</th>\n",
       "      <th>yankee</th>\n",
       "      <th>yeah</th>\n",
       "      <th>year</th>\n",
       "      <th>yeast</th>\n",
       "      <th>yes</th>\n",
       "      <th>yet</th>\n",
       "      <th>york</th>\n",
       "      <th>young</th>\n",
       "    </tr>\n",
       "  </thead>\n",
       "  <tbody>\n",
       "    <tr>\n",
       "      <th>0</th>\n",
       "      <td>0</td>\n",
       "      <td>0</td>\n",
       "      <td>0</td>\n",
       "      <td>0</td>\n",
       "      <td>0</td>\n",
       "      <td>0</td>\n",
       "      <td>0</td>\n",
       "      <td>0</td>\n",
       "      <td>0</td>\n",
       "      <td>0</td>\n",
       "      <td>...</td>\n",
       "      <td>0</td>\n",
       "      <td>0</td>\n",
       "      <td>0</td>\n",
       "      <td>0</td>\n",
       "      <td>0</td>\n",
       "      <td>0</td>\n",
       "      <td>0</td>\n",
       "      <td>0</td>\n",
       "      <td>0</td>\n",
       "      <td>0</td>\n",
       "    </tr>\n",
       "    <tr>\n",
       "      <th>1</th>\n",
       "      <td>0</td>\n",
       "      <td>0</td>\n",
       "      <td>0</td>\n",
       "      <td>0</td>\n",
       "      <td>0</td>\n",
       "      <td>0</td>\n",
       "      <td>0</td>\n",
       "      <td>0</td>\n",
       "      <td>0</td>\n",
       "      <td>0</td>\n",
       "      <td>...</td>\n",
       "      <td>0</td>\n",
       "      <td>0</td>\n",
       "      <td>0</td>\n",
       "      <td>1</td>\n",
       "      <td>0</td>\n",
       "      <td>0</td>\n",
       "      <td>1</td>\n",
       "      <td>0</td>\n",
       "      <td>0</td>\n",
       "      <td>0</td>\n",
       "    </tr>\n",
       "    <tr>\n",
       "      <th>2</th>\n",
       "      <td>0</td>\n",
       "      <td>0</td>\n",
       "      <td>0</td>\n",
       "      <td>0</td>\n",
       "      <td>0</td>\n",
       "      <td>0</td>\n",
       "      <td>0</td>\n",
       "      <td>0</td>\n",
       "      <td>0</td>\n",
       "      <td>0</td>\n",
       "      <td>...</td>\n",
       "      <td>0</td>\n",
       "      <td>0</td>\n",
       "      <td>0</td>\n",
       "      <td>0</td>\n",
       "      <td>0</td>\n",
       "      <td>0</td>\n",
       "      <td>0</td>\n",
       "      <td>0</td>\n",
       "      <td>0</td>\n",
       "      <td>0</td>\n",
       "    </tr>\n",
       "    <tr>\n",
       "      <th>3</th>\n",
       "      <td>0</td>\n",
       "      <td>0</td>\n",
       "      <td>0</td>\n",
       "      <td>0</td>\n",
       "      <td>0</td>\n",
       "      <td>0</td>\n",
       "      <td>0</td>\n",
       "      <td>0</td>\n",
       "      <td>0</td>\n",
       "      <td>0</td>\n",
       "      <td>...</td>\n",
       "      <td>0</td>\n",
       "      <td>0</td>\n",
       "      <td>0</td>\n",
       "      <td>0</td>\n",
       "      <td>1</td>\n",
       "      <td>0</td>\n",
       "      <td>0</td>\n",
       "      <td>0</td>\n",
       "      <td>0</td>\n",
       "      <td>0</td>\n",
       "    </tr>\n",
       "    <tr>\n",
       "      <th>4</th>\n",
       "      <td>0</td>\n",
       "      <td>0</td>\n",
       "      <td>0</td>\n",
       "      <td>0</td>\n",
       "      <td>0</td>\n",
       "      <td>0</td>\n",
       "      <td>0</td>\n",
       "      <td>0</td>\n",
       "      <td>0</td>\n",
       "      <td>0</td>\n",
       "      <td>...</td>\n",
       "      <td>0</td>\n",
       "      <td>0</td>\n",
       "      <td>0</td>\n",
       "      <td>0</td>\n",
       "      <td>0</td>\n",
       "      <td>0</td>\n",
       "      <td>0</td>\n",
       "      <td>0</td>\n",
       "      <td>0</td>\n",
       "      <td>0</td>\n",
       "    </tr>\n",
       "  </tbody>\n",
       "</table>\n",
       "<p>5 rows × 1000 columns</p>\n",
       "</div>"
      ],
      "text/plain": [
       "   ab  ability  able  ac  accept  access  accord  acid  act  activity  ...    \\\n",
       "0   0        0     0   0       0       0       0     0    0         0  ...     \n",
       "1   0        0     0   0       0       0       0     0    0         0  ...     \n",
       "2   0        0     0   0       0       0       0     0    0         0  ...     \n",
       "3   0        0     0   0       0       0       0     0    0         0  ...     \n",
       "4   0        0     0   0       0       0       0     0    0         0  ...     \n",
       "\n",
       "   write  wrong  yankee  yeah  year  yeast  yes  yet  york  young  \n",
       "0      0      0       0     0     0      0    0    0     0      0  \n",
       "1      0      0       0     1     0      0    1    0     0      0  \n",
       "2      0      0       0     0     0      0    0    0     0      0  \n",
       "3      0      0       0     0     1      0    0    0     0      0  \n",
       "4      0      0       0     0     0      0    0    0     0      0  \n",
       "\n",
       "[5 rows x 1000 columns]"
      ]
     },
     "execution_count": 6,
     "metadata": {},
     "output_type": "execute_result"
    }
   ],
   "source": [
    "pd.DataFrame(X.toarray(), columns=cv.get_feature_names()).head()"
   ]
  },
  {
   "cell_type": "markdown",
   "metadata": {},
   "source": [
    "## Create an LDA Model\n",
    "\n",
    "Use Scikit-learn's [`LatentDirichletAllocation`](http://scikit-learn.org/stable/modules/generated/sklearn.decomposition.LatentDirichletAllocation.html) to fit an LDA model."
   ]
  },
  {
   "cell_type": "code",
   "execution_count": 7,
   "metadata": {
    "ExecuteTime": {
     "end_time": "2017-05-03T10:21:56.115603Z",
     "start_time": "2017-05-03T10:21:56.109313Z"
    }
   },
   "outputs": [
    {
     "name": "stdout",
     "output_type": "stream",
     "text": [
      "Object `LatentDirichletAllocation` not found.\n"
     ]
    }
   ],
   "source": [
    "LatentDirichletAllocation?"
   ]
  },
  {
   "cell_type": "code",
   "execution_count": 8,
   "metadata": {
    "ExecuteTime": {
     "end_time": "2017-05-03T10:22:00.692869Z",
     "start_time": "2017-05-03T10:21:56.117932Z"
    },
    "run_control": {
     "marked": true
    }
   },
   "outputs": [
    {
     "data": {
      "text/plain": [
       "LatentDirichletAllocation(batch_size=128, doc_topic_prior=None,\n",
       "             evaluate_every=-1, learning_decay=0.7,\n",
       "             learning_method='online', learning_offset=50.0,\n",
       "             max_doc_update_iter=100, max_iter=5, mean_change_tol=0.001,\n",
       "             n_jobs=1, n_topics=5, perp_tol=0.1, random_state=0,\n",
       "             topic_word_prior=None, total_samples=1000000.0, verbose=0)"
      ]
     },
     "execution_count": 8,
     "metadata": {},
     "output_type": "execute_result"
    }
   ],
   "source": [
    "from sklearn.decomposition import LatentDirichletAllocation\n",
    "\n",
    "n_topics = len(topic_list)\n",
    "lda = LatentDirichletAllocation(n_topics=n_topics, max_iter=5,\n",
    "                                learning_method='online',\n",
    "                                learning_offset=50.,\n",
    "                                random_state=0)\n",
    "\n",
    "lda.fit(X)"
   ]
  },
  {
   "cell_type": "markdown",
   "metadata": {
    "ExecuteTime": {
     "end_time": "2017-05-01T22:43:33.917614Z",
     "start_time": "2017-05-01T22:43:33.914521Z"
    },
    "collapsed": true,
    "run_control": {
     "marked": true
    }
   },
   "source": [
    "## Print Top Words\n",
    "Print the top words associated with each topic."
   ]
  },
  {
   "cell_type": "code",
   "execution_count": 9,
   "metadata": {
    "ExecuteTime": {
     "end_time": "2017-05-03T10:22:00.700688Z",
     "start_time": "2017-05-03T10:22:00.694682Z"
    },
    "collapsed": true,
    "run_control": {
     "marked": true
    }
   },
   "outputs": [],
   "source": [
    "def print_top_words(model, feature_names, n_top_words):\n",
    "    \n",
    "    for topic_idx, topic in enumerate(model.components_):\n",
    "        print(\"Topic #%d:\" % (topic_idx+1))\n",
    "        print(\" \".join([feature_names[i]\n",
    "                        for i in topic.argsort()[:-n_top_words - 1:-1]]))\n",
    "    print()"
   ]
  },
  {
   "cell_type": "code",
   "execution_count": 10,
   "metadata": {
    "ExecuteTime": {
     "end_time": "2017-05-03T10:22:00.709876Z",
     "start_time": "2017-05-03T10:22:00.702379Z"
    },
    "run_control": {
     "marked": true
    }
   },
   "outputs": [
    {
     "name": "stdout",
     "output_type": "stream",
     "text": [
      "Topics in LDA model:\n",
      "Topic #1:\n",
      "one would like get people think know make thing cause say see use food many could well time take much\n",
      "Topic #2:\n",
      "year game get good go last think would well team run one hit player time first like win play say\n",
      "Topic #3:\n",
      "patient use health post edu medical information group number disease software mail report new pain keyboard cancer center program please\n",
      "Topic #4:\n",
      "car get use would drive one mac like problem know go work new apple time good thanks make think system\n",
      "Topic #5:\n",
      "space launch nasa edu satellite system orbit data com mission earth use program shuttle lunar year also moon rocket first\n",
      "\n"
     ]
    }
   ],
   "source": [
    "n_top_words = 20\n",
    "\n",
    "print(\"Topics in LDA model:\")\n",
    "cv_feature_names = cv.get_feature_names()\n",
    "print_top_words(lda, cv_feature_names, n_top_words)"
   ]
  },
  {
   "cell_type": "markdown",
   "metadata": {
    "ExecuteTime": {
     "end_time": "2017-05-01T22:45:20.581963Z",
     "start_time": "2017-05-01T22:45:20.560132Z"
    },
    "collapsed": true,
    "run_control": {
     "marked": true
    }
   },
   "source": [
    "## Visualize the LDA Model\n",
    "\n",
    "A visualization of the topic model can be easily created with `pyLDAvis`. "
   ]
  },
  {
   "cell_type": "code",
   "execution_count": 11,
   "metadata": {
    "ExecuteTime": {
     "end_time": "2017-05-03T10:22:02.286970Z",
     "start_time": "2017-05-03T10:22:00.711750Z"
    },
    "run_control": {
     "marked": true
    }
   },
   "outputs": [
    {
     "data": {
      "text/html": [
       "\n",
       "<link rel=\"stylesheet\" type=\"text/css\" href=\"https://cdn.rawgit.com/bmabey/pyLDAvis/files/ldavis.v1.0.0.css\">\n",
       "\n",
       "\n",
       "<div id=\"ldavis_el208046981789285391217969\"></div>\n",
       "<script type=\"text/javascript\">\n",
       "\n",
       "var ldavis_el208046981789285391217969_data = {\"mdsDat\": {\"Freq\": [28.069957136182648, 21.78313948428306, 20.084867038217673, 16.73918165505115, 13.322854686265478], \"cluster\": [1, 1, 1, 1, 1], \"topics\": [1, 2, 3, 4, 5], \"x\": [-0.05417661123184979, -0.07711930578926675, 0.1603416705245083, -0.16138933245878676, 0.13234357895539506], \"y\": [0.025912656087562158, 0.04144019055968086, -0.11608493494088915, -0.057070799313121215, 0.10580288760676744]}, \"tinfo\": {\"Category\": [\"Default\", \"Default\", \"Default\", \"Default\", \"Default\", \"Default\", \"Default\", \"Default\", \"Default\", \"Default\", \"Default\", \"Default\", \"Default\", \"Default\", \"Default\", \"Default\", \"Default\", \"Default\", \"Default\", \"Default\", \"Default\", \"Default\", \"Default\", \"Default\", \"Default\", \"Default\", \"Default\", \"Default\", \"Default\", \"Default\", \"Topic1\", \"Topic1\", \"Topic1\", \"Topic1\", \"Topic1\", \"Topic1\", \"Topic1\", \"Topic1\", \"Topic1\", \"Topic1\", \"Topic1\", \"Topic1\", \"Topic1\", \"Topic1\", \"Topic1\", \"Topic1\", \"Topic1\", \"Topic1\", \"Topic1\", \"Topic1\", \"Topic1\", \"Topic1\", \"Topic1\", \"Topic1\", \"Topic1\", \"Topic1\", \"Topic1\", \"Topic1\", \"Topic1\", \"Topic1\", \"Topic1\", \"Topic1\", \"Topic1\", \"Topic1\", \"Topic1\", \"Topic1\", \"Topic1\", \"Topic1\", \"Topic1\", \"Topic1\", \"Topic1\", \"Topic1\", \"Topic1\", \"Topic1\", \"Topic1\", \"Topic1\", \"Topic1\", \"Topic1\", \"Topic1\", \"Topic1\", \"Topic1\", \"Topic1\", \"Topic1\", \"Topic1\", \"Topic1\", \"Topic1\", \"Topic1\", \"Topic1\", \"Topic1\", \"Topic1\", \"Topic1\", \"Topic1\", \"Topic1\", \"Topic1\", \"Topic1\", \"Topic1\", \"Topic1\", \"Topic1\", \"Topic2\", \"Topic2\", \"Topic2\", \"Topic2\", \"Topic2\", \"Topic2\", \"Topic2\", \"Topic2\", \"Topic2\", \"Topic2\", \"Topic2\", \"Topic2\", \"Topic2\", \"Topic2\", \"Topic2\", \"Topic2\", \"Topic2\", \"Topic2\", \"Topic2\", \"Topic2\", \"Topic2\", \"Topic2\", \"Topic2\", \"Topic2\", \"Topic2\", \"Topic2\", \"Topic2\", \"Topic2\", \"Topic2\", \"Topic2\", \"Topic2\", \"Topic2\", \"Topic2\", \"Topic2\", \"Topic2\", \"Topic2\", \"Topic2\", \"Topic2\", \"Topic2\", \"Topic2\", \"Topic2\", \"Topic2\", \"Topic2\", \"Topic2\", \"Topic2\", \"Topic2\", \"Topic2\", \"Topic2\", \"Topic2\", \"Topic2\", \"Topic2\", \"Topic2\", \"Topic2\", \"Topic2\", \"Topic2\", \"Topic2\", \"Topic2\", \"Topic2\", \"Topic2\", \"Topic2\", \"Topic2\", \"Topic2\", \"Topic3\", \"Topic3\", \"Topic3\", \"Topic3\", \"Topic3\", \"Topic3\", \"Topic3\", \"Topic3\", \"Topic3\", \"Topic3\", \"Topic3\", \"Topic3\", \"Topic3\", \"Topic3\", \"Topic3\", \"Topic3\", \"Topic3\", \"Topic3\", \"Topic3\", \"Topic3\", \"Topic3\", \"Topic3\", \"Topic3\", \"Topic3\", \"Topic3\", \"Topic3\", \"Topic3\", \"Topic3\", \"Topic3\", \"Topic3\", \"Topic3\", \"Topic3\", \"Topic3\", \"Topic3\", \"Topic3\", \"Topic3\", \"Topic3\", \"Topic3\", \"Topic3\", \"Topic3\", \"Topic3\", \"Topic3\", \"Topic3\", \"Topic3\", \"Topic3\", \"Topic3\", \"Topic3\", \"Topic3\", \"Topic3\", \"Topic3\", \"Topic3\", \"Topic3\", \"Topic3\", \"Topic3\", \"Topic3\", \"Topic3\", \"Topic3\", \"Topic3\", \"Topic4\", \"Topic4\", \"Topic4\", \"Topic4\", \"Topic4\", \"Topic4\", \"Topic4\", \"Topic4\", \"Topic4\", \"Topic4\", \"Topic4\", \"Topic4\", \"Topic4\", \"Topic4\", \"Topic4\", \"Topic4\", \"Topic4\", \"Topic4\", \"Topic4\", \"Topic4\", \"Topic4\", \"Topic4\", \"Topic4\", \"Topic4\", \"Topic4\", \"Topic4\", \"Topic4\", \"Topic4\", \"Topic4\", \"Topic4\", \"Topic4\", \"Topic4\", \"Topic4\", \"Topic4\", \"Topic4\", \"Topic4\", \"Topic4\", \"Topic4\", \"Topic4\", \"Topic4\", \"Topic4\", \"Topic4\", \"Topic4\", \"Topic4\", \"Topic4\", \"Topic4\", \"Topic4\", \"Topic4\", \"Topic4\", \"Topic4\", \"Topic4\", \"Topic4\", \"Topic4\", \"Topic4\", \"Topic4\", \"Topic4\", \"Topic4\", \"Topic4\", \"Topic5\", \"Topic5\", \"Topic5\", \"Topic5\", \"Topic5\", \"Topic5\", \"Topic5\", \"Topic5\", \"Topic5\", \"Topic5\", \"Topic5\", \"Topic5\", \"Topic5\", \"Topic5\", \"Topic5\", \"Topic5\", \"Topic5\", \"Topic5\", \"Topic5\", \"Topic5\", \"Topic5\", \"Topic5\", \"Topic5\", \"Topic5\", \"Topic5\", \"Topic5\", \"Topic5\", \"Topic5\", \"Topic5\", \"Topic5\", \"Topic5\", \"Topic5\", \"Topic5\", \"Topic5\", \"Topic5\", \"Topic5\", \"Topic5\", \"Topic5\", \"Topic5\", \"Topic5\", \"Topic5\", \"Topic5\", \"Topic5\", \"Topic5\", \"Topic5\", \"Topic5\", \"Topic5\", \"Topic5\", \"Topic5\", \"Topic5\", \"Topic5\", \"Topic5\", \"Topic5\", \"Topic5\", \"Topic5\", \"Topic5\", \"Topic5\"], \"Freq\": [980.0, 706.0, 433.0, 362.0, 354.0, 365.0, 1023.0, 413.0, 233.0, 651.0, 305.0, 490.0, 259.0, 230.0, 210.0, 212.0, 208.0, 222.0, 431.0, 189.0, 892.0, 454.0, 363.0, 202.0, 196.0, 230.0, 188.0, 321.0, 241.0, 163.0, 704.6906617724861, 105.85238249573707, 98.64995334579297, 91.36351872290953, 69.69822058186284, 63.89437689276776, 69.24835371116974, 147.8845679111841, 59.34580492892545, 67.66633100373036, 99.13167381566116, 114.44499769778375, 63.72381175836464, 56.93464972712018, 68.08385007951581, 74.23452447754035, 62.51201350371883, 48.32959444585099, 403.088233967583, 46.64574806153661, 63.09635487938035, 53.031361783834285, 103.08741959672062, 227.04793646875672, 84.78265561396998, 48.032451504995734, 81.21901655321676, 51.153579580872886, 48.73810445002183, 98.13132167888274, 96.49372098319223, 263.5918692160722, 127.60134825927429, 451.90218479750524, 106.34082123848336, 144.17674549499486, 210.357277533836, 182.2362534775782, 135.50287661004003, 136.9001616012302, 127.0162608014457, 201.23565720627255, 240.21361689305203, 149.46221647966405, 388.3865730311565, 147.16071947990758, 638.9725402053666, 180.49995736033043, 529.431674819659, 394.78132323064, 226.62513134127278, 452.3493915882184, 282.6787015139433, 440.92637575121864, 336.7577997027599, 275.2975726359838, 215.64237013504246, 220.37213556824366, 286.62162242816134, 229.8746716993552, 243.2246346224915, 245.48469329816012, 239.91924084841645, 235.74580788719723, 226.56709418817124, 195.19992561384416, 194.0532011426791, 193.06556835913494, 153.9028571822438, 135.4289308043194, 58.18569516187895, 63.177532602842966, 59.40655385289165, 219.1938277699004, 55.33344508395894, 55.06801809621359, 57.88932680969412, 53.32291998276489, 62.80070997487677, 50.97056744640133, 69.21976255529268, 124.78714083269833, 103.79504498899561, 89.03278572544069, 54.074904615037504, 82.2465076161401, 47.9040440314136, 62.243433039512574, 40.14484315669714, 43.39953665605593, 239.24440692053705, 133.21251801402823, 35.06077232538074, 55.309086578164774, 85.57081707202872, 54.97821033599124, 80.98855111488547, 81.02957478655965, 69.32608343513218, 347.36859854028796, 84.59920283775656, 259.201696743732, 150.52717544192197, 218.3956297028015, 551.4663479555361, 504.2512721549113, 173.34590350893177, 378.4317253167791, 337.2534530287238, 308.531390831333, 327.52211936077896, 132.0507966226203, 229.42229496069064, 217.81723902657768, 365.893523942724, 134.81934589985963, 182.92408843068537, 212.05881459820196, 231.84553905731576, 205.633945841881, 144.61151955631993, 216.13432549940094, 212.19346845411943, 202.82033625268187, 205.0156182574867, 227.26670471263333, 182.40952291456344, 175.3159942584023, 160.89219699987387, 153.11090639641688, 353.4130659844973, 187.19854035459238, 74.88998707958021, 72.71728749061914, 71.29311400112441, 104.78137262002765, 72.24643492789183, 69.96215453964119, 70.69502009365495, 69.05477507713239, 69.05255268447108, 81.95892483573297, 69.70298503453164, 70.17538443809896, 199.4097772201606, 63.69594856620077, 219.21917920457278, 72.73517400999113, 425.6865224377218, 50.20831126630464, 358.0554170523665, 64.63201828418418, 44.706457292122465, 48.989597509149334, 123.89118194235286, 43.294694525312956, 953.8425992080217, 250.73128001426528, 60.363912924808695, 99.71026398803104, 163.6244108949815, 132.5029244823898, 171.20580999128464, 89.76570943548704, 212.29521230583867, 118.98535398656962, 95.4504672027994, 143.23927261033762, 124.0153237042384, 117.49104895130822, 239.99930778967843, 239.10223529523898, 151.54144871989087, 357.05477942282033, 99.76387994471528, 86.74532018422894, 117.28817179470441, 200.40524645080376, 253.6171042885507, 133.18481592570376, 181.34354849281547, 205.62040984511972, 185.86177450872677, 154.9091715018627, 132.35323428447631, 121.39891374762416, 119.50339582425983, 123.5605313275236, 162.60652426539812, 142.50469688468897, 210.6110114579199, 358.93467701679884, 125.38832137075222, 87.55793981681379, 83.66911800323895, 117.57007675145866, 85.8617058164749, 61.96570750109022, 55.51473626639255, 53.963558601095166, 130.3959771630701, 85.18405553114275, 48.910195746224794, 47.94790750691739, 54.6028564682845, 43.39340518388635, 185.53155552410644, 47.77479757427537, 71.98571646985573, 60.1378101308983, 222.2091651832214, 50.24648408742152, 137.95581126511763, 185.31369673987786, 43.62798237841232, 52.020851670248, 54.88643203301973, 268.9788145003973, 140.81696044110717, 96.59635631408177, 108.37072741528577, 284.47850869976935, 541.417503041027, 264.655929000346, 108.26231224254803, 98.59081442982678, 96.80031526567825, 298.17608243942465, 297.5725602420884, 270.57242281488885, 280.3938353733018, 154.14315260808377, 336.2404358224285, 193.40676253483338, 278.1557512271695, 203.57510806823106, 235.8424708767159, 183.03395920865748, 188.03112399307008, 174.27497862384396, 133.05119246447416, 149.14798192828565, 141.55854352368007, 151.43254688463074, 140.4841794726864, 138.87826235735943, 46.98761498350566, 79.42515763107245, 46.64756415969303, 225.5587696818698, 51.22868154111153, 45.09066312809387, 127.0973858548721, 75.04712433564806, 130.64286198830703, 194.75725218030945, 36.116701099739075, 68.3816439189308, 50.70054497312995, 177.59502977079416, 74.80048052447685, 41.9366714859835, 60.46122077223805, 68.27331035017359, 80.78214391755216, 71.73243063380662, 127.81942357924623, 65.62950710765713, 44.99342237175765, 99.04202701704573, 40.011305575900444, 82.60093967876477, 136.01289257918697, 58.82546182042987, 55.512112822129644, 42.741628805417996, 143.36563580731234, 82.45594781835386, 135.94761341518728, 82.62590642272332, 163.84160951546323, 135.50019491183667, 191.15158236308585, 110.29735769099986, 135.60631021864822, 110.6289518869353, 124.98491422443193, 95.55665239439462, 182.5261499873973, 137.1957544494533, 106.46866071673557, 220.1092433650234, 119.23713694447397, 123.18080922735943, 107.2455362766599, 102.95857348909978, 133.90311637581476, 92.42098174196366, 118.03229348084314, 96.71608001725077, 119.0924690048167, 108.58022350410987, 113.37518781548985], \"Term\": [\"space\", \"car\", \"launch\", \"game\", \"satellite\", \"nasa\", \"year\", \"mac\", \"patient\", \"edu\", \"team\", \"drive\", \"orbit\", \"hit\", \"health\", \"player\", \"medical\", \"mission\", \"run\", \"win\", \"think\", \"last\", \"program\", \"shuttle\", \"play\", \"food\", \"lunar\", \"information\", \"earth\", \"pitch\", \"car\", \"dealer\", \"oil\", \"cpu\", \"fpu\", \"cache\", \"nubus\", \"scsi\", \"ford\", \"duo\", \"video\", \"chip\", \"clock\", \"slot\", \"lc\", \"simms\", \"wheel\", \"printer\", \"mac\", \"adapter\", \"pin\", \"meg\", \"auto\", \"buy\", \"brake\", \"vga\", \"port\", \"centris\", \"mhz\", \"cable\", \"tire\", \"apple\", \"driver\", \"drive\", \"ram\", \"sell\", \"price\", \"card\", \"hardware\", \"monitor\", \"memory\", \"speed\", \"thanks\", \"machine\", \"problem\", \"engine\", \"get\", \"bit\", \"use\", \"like\", \"anyone\", \"would\", \"work\", \"one\", \"know\", \"new\", \"need\", \"want\", \"go\", \"system\", \"good\", \"time\", \"make\", \"think\", \"also\", \"look\", \"say\", \"well\", \"msg\", \"theory\", \"vitamin\", \"reaction\", \"universe\", \"food\", \"larson\", \"brain\", \"anti\", \"yeast\", \"cure\", \"acid\", \"diet\", \"water\", \"eat\", \"evidence\", \"natural\", \"kill\", \"wife\", \"candida\", \"suspect\", \"animal\", \"cause\", \"effect\", \"detector\", \"avoid\", \"whether\", \"object\", \"claim\", \"sort\", \"common\", \"people\", \"scientific\", \"thing\", \"idea\", \"many\", \"one\", \"would\", \"might\", \"like\", \"think\", \"make\", \"know\", \"never\", \"see\", \"could\", \"get\", \"study\", \"even\", \"take\", \"say\", \"much\", \"something\", \"well\", \"time\", \"also\", \"go\", \"use\", \"good\", \"problem\", \"work\", \"find\", \"satellite\", \"lunar\", \"pitt\", \"geb\", \"surrender\", \"solar\", \"intellect\", \"chastity\", \"skepticism\", \"dsl\", \"cadre\", \"planetary\", \"shameful\", \"propulsion\", \"shuttle\", \"orbiter\", \"mission\", \"orbital\", \"launch\", \"soviet\", \"nasa\", \"payload\", \"jpl\", \"jupiter\", \"spacecraft\", \"astronomical\", \"space\", \"orbit\", \"astronomy\", \"gov\", \"rocket\", \"flight\", \"moon\", \"gordon\", \"earth\", \"mar\", \"bank\", \"probe\", \"project\", \"station\", \"data\", \"com\", \"technology\", \"edu\", \"commercial\", \"fund\", \"image\", \"program\", \"system\", \"center\", \"also\", \"use\", \"year\", \"first\", \"include\", \"cost\", \"science\", \"one\", \"pitch\", \"fan\", \"player\", \"game\", \"league\", \"pitcher\", \"cub\", \"score\", \"sox\", \"inning\", \"dodger\", \"alomar\", \"baseball\", \"brave\", \"rbi\", \"mets\", \"era\", \"yankee\", \"win\", \"phillies\", \"hitter\", \"suck\", \"hit\", \"stats\", \"season\", \"play\", \"nl\", \"dave\", \"career\", \"team\", \"lose\", \"ball\", \"average\", \"last\", \"year\", \"run\", \"home\", \"guy\", \"red\", \"good\", \"go\", \"well\", \"think\", \"start\", \"get\", \"first\", \"would\", \"time\", \"one\", \"say\", \"like\", \"make\", \"still\", \"see\", \"two\", \"know\", \"look\", \"give\", \"tobacco\", \"hiv\", \"hicnet\", \"patient\", \"clinical\", \"exercise\", \"cancer\", \"aid\", \"pain\", \"health\", \"adult\", \"newsletter\", \"tool\", \"medical\", \"page\", \"md\", \"mouse\", \"infection\", \"drug\", \"among\", \"keyboard\", \"volume\", \"procedure\", \"pc\", \"arm\", \"child\", \"disease\", \"internet\", \"injury\", \"street\", \"group\", \"dr\", \"software\", \"treatment\", \"information\", \"report\", \"post\", \"article\", \"mail\", \"doctor\", \"center\", \"address\", \"edu\", \"number\", \"type\", \"use\", \"please\", \"program\", \"week\", \"research\", \"new\", \"university\", \"may\", \"send\", \"year\", \"also\", \"one\"], \"Total\": [980.0, 706.0, 433.0, 362.0, 354.0, 365.0, 1023.0, 413.0, 233.0, 651.0, 305.0, 490.0, 259.0, 230.0, 210.0, 212.0, 208.0, 222.0, 431.0, 189.0, 892.0, 454.0, 363.0, 202.0, 196.0, 230.0, 188.0, 321.0, 241.0, 163.0, 706.2757403680533, 106.81467108536955, 99.6175396934544, 92.27108779370877, 70.64456783680751, 64.77948642128761, 70.21308680537727, 150.12053771543214, 60.275019521078285, 68.76781489471703, 100.88895670791743, 116.47658743363283, 64.87193070776883, 58.07078617381522, 69.58229168433147, 75.90417732963327, 63.94221571618618, 49.43641657421395, 413.37167027973453, 47.837720008168205, 64.71903750855013, 54.42179603440853, 105.92953340409942, 233.3116598625337, 87.21838527989709, 49.55092092698598, 83.94414044538684, 52.99523401381886, 50.5488495276135, 101.79659850709454, 100.60198130152502, 279.89962296376945, 133.59046867668548, 490.5926518042728, 111.72547921885779, 153.98018581103244, 229.87250619547217, 201.76274812854743, 149.23857491169335, 154.77323425927938, 142.58199298821447, 243.92301724814135, 313.4145956396006, 183.02991552017707, 674.9161585077998, 191.43106301916828, 1473.1911501040045, 262.8764263471302, 1272.028322731767, 1017.0864470123485, 410.09155282468697, 1363.7771561303964, 614.7786992460697, 1465.170913726484, 912.7207611950716, 659.3234547948292, 435.932670243144, 467.84033913738955, 868.8256015933998, 600.2934430275913, 794.450667925825, 861.0408823660754, 828.1350935149252, 892.2860893608546, 810.1621110069011, 534.7228120898684, 717.2828559917058, 788.274383964085, 154.82936664671374, 137.28605777681727, 59.181880193164446, 65.88293061465963, 62.432194753035546, 230.78695210070813, 59.67301149553365, 59.4120318732936, 63.29577787624706, 58.616472411647514, 69.37004663299467, 56.42739359826926, 77.58147665253345, 140.5960132089712, 118.32478864870987, 102.71603987870344, 63.2606320717378, 97.43670810598907, 58.06405694081467, 77.39978621394746, 51.25345376517141, 56.73749095974826, 316.7235496560168, 181.03488038078004, 47.76152280240402, 75.78936737392868, 118.63623965003711, 78.93072505741029, 116.81395979541622, 117.10122493112199, 100.62517899684185, 577.362391317988, 125.16619916826163, 510.1131807024947, 269.86949277586984, 438.9850643945092, 1465.170913726484, 1363.7771561303964, 330.23235047678946, 1017.0864470123485, 892.2860893608546, 828.1350935149252, 912.7207611950716, 252.51425166519059, 639.3063912564425, 597.9481676582102, 1473.1911501040045, 265.9545461148334, 459.08379331952284, 601.844286505243, 717.2828559917058, 593.7062495084858, 306.45038850422105, 788.274383964085, 861.0408823660754, 810.1621110069011, 868.8256015933998, 1272.028322731767, 794.450667925825, 674.9161585077998, 614.7786992460697, 465.4604093221635, 354.45870164682134, 188.55074324872888, 75.77446502442122, 73.60201734983183, 72.16941998541488, 106.08250723204712, 73.15223727022355, 70.84277792978664, 71.58995051722282, 69.93123682798938, 69.92996272590042, 83.02427593238149, 70.62401824778968, 71.12967050646974, 202.3379578893812, 64.65699343060582, 222.80413868530303, 74.00429586834626, 433.58859813533707, 51.2645406941675, 365.95597236658, 66.06216105784952, 45.75519577133112, 50.24546840072898, 127.08954678640154, 44.4897821511841, 980.5272866703323, 259.43682023165906, 62.66674344787396, 104.02809054944755, 171.29296347427672, 138.64283489918512, 180.65372414648132, 94.24027141379186, 241.2007984666436, 130.30499558200475, 102.26748828274887, 164.8531556604225, 144.14277001954352, 134.83069862659752, 342.08765188204234, 362.91309690596, 199.1227227051773, 651.8990180733455, 115.20835337496024, 95.36837463664958, 150.8439073198667, 363.57860247508916, 600.2934430275913, 273.80009626393337, 810.1621110069011, 1272.028322731767, 1023.684369526535, 552.7706805177024, 324.14310237455186, 263.2993117956462, 253.09608564736925, 1465.170913726484, 163.77111056542898, 143.71390123280563, 212.4493182742996, 362.42449481056985, 126.64250434252382, 88.47551031240066, 84.573588457454, 118.85801128247172, 86.81025048943305, 62.87993336046478, 56.41188142208576, 54.842510427272224, 132.5597221087032, 86.79278371047272, 49.83484693379343, 48.875828684254785, 55.72717260621229, 44.295764143324824, 189.83899266241133, 48.88509732401551, 73.69285879781403, 61.79837605286938, 230.3115349290303, 52.66840024175523, 145.44449438465506, 196.00704983535095, 47.19479268624901, 58.233573728165204, 61.673596551529904, 305.1496928611532, 175.96264538296595, 116.61032036985675, 138.22339284472525, 454.86233001483953, 1023.684369526535, 431.5071035091075, 144.17926895858574, 128.86592696993114, 134.16299723879231, 794.450667925825, 868.8256015933998, 788.274383964085, 892.2860893608546, 316.4612993279099, 1473.1911501040045, 552.7706805177024, 1363.7771561303964, 861.0408823660754, 1465.170913726484, 717.2828559917058, 1017.0864470123485, 828.1350935149252, 363.52898858562105, 639.3063912564425, 494.25736381887845, 912.7207611950716, 534.7228120898684, 459.92604464869703, 48.151202238406924, 81.60216717054625, 48.128748101638095, 233.8684568994644, 53.21676085039316, 46.97362436995516, 134.97908455973834, 80.28296362492829, 140.26392256240885, 210.23493163614452, 40.36051733613765, 77.62293946072751, 57.998915743962, 208.04183127254015, 87.83709615659964, 49.6323669204645, 73.82527127865488, 83.39392966227368, 101.16941899506998, 96.10613175098976, 171.29161082055631, 89.35659279462082, 63.13790799537165, 139.82287466044716, 57.928592905949735, 123.10767100746057, 203.40388341195708, 88.79487670801939, 85.94440361498603, 66.46630559274547, 227.37223664387253, 133.22403305541897, 235.21299921535905, 134.97897628053622, 321.7223265159322, 264.0071118502705, 435.94850869173024, 202.6514324800471, 283.97033671454955, 208.13854958921732, 273.80009626393337, 179.81404126193894, 651.8990180733455, 369.1299914846388, 226.00258583055654, 1272.028322731767, 312.3213811591253, 363.57860247508916, 267.0049582033258, 248.95341261762115, 659.3234547948292, 190.70864213874796, 556.2063119200047, 264.93662045061274, 1023.684369526535, 810.1621110069011, 1465.170913726484], \"loglift\": [30.0, 29.0, 28.0, 27.0, 26.0, 25.0, 24.0, 23.0, 22.0, 21.0, 20.0, 19.0, 18.0, 17.0, 16.0, 15.0, 14.0, 13.0, 12.0, 11.0, 10.0, 9.0, 8.0, 7.0, 6.0, 5.0, 4.0, 3.0, 2.0, 1.0, 1.2682, 1.2614, 1.2607, 1.2606, 1.257, 1.2567, 1.2566, 1.2555, 1.2549, 1.2543, 1.2529, 1.2529, 1.2526, 1.2507, 1.2487, 1.2482, 1.2478, 1.2478, 1.2453, 1.2452, 1.2451, 1.2446, 1.2433, 1.2433, 1.2421, 1.2393, 1.2375, 1.2351, 1.234, 1.2338, 1.2288, 1.2104, 1.2246, 1.1883, 1.2211, 1.2047, 1.1818, 1.1687, 1.1739, 1.1478, 1.1549, 1.0781, 1.0045, 1.0679, 0.7179, 1.0075, 0.4351, 0.8945, 0.3939, 0.3241, 0.6774, 0.1669, 0.4935, 0.0696, 0.2734, 0.3971, 0.5666, 0.5177, 0.1615, 0.3106, 0.0868, 0.0156, 0.0316, -0.0606, -0.0037, 0.2627, -0.0369, -0.1363, 1.518, 1.5104, 1.5071, 1.4821, 1.4744, 1.4725, 1.4485, 1.4481, 1.4347, 1.4294, 1.4245, 1.4223, 1.41, 1.4048, 1.393, 1.3811, 1.3671, 1.3546, 1.3317, 1.3061, 1.2797, 1.256, 1.2435, 1.2173, 1.2149, 1.209, 1.1973, 1.1624, 1.1578, 1.1558, 1.1515, 1.016, 1.1323, 0.847, 0.9402, 0.8259, 0.5469, 0.5291, 0.8795, 0.5354, 0.5511, 0.5367, 0.4992, 0.8758, 0.4992, 0.5142, 0.1312, 0.8446, 0.6039, 0.4809, 0.3946, 0.4637, 0.773, 0.2301, 0.1234, 0.1391, 0.08, -0.1982, 0.0526, 0.176, 0.1835, 0.4122, 1.6022, 1.598, 1.5935, 1.5931, 1.593, 1.5929, 1.5927, 1.5927, 1.5926, 1.5926, 1.5926, 1.5923, 1.5921, 1.5917, 1.5906, 1.5902, 1.589, 1.5879, 1.5868, 1.5844, 1.5834, 1.5833, 1.582, 1.5799, 1.5797, 1.578, 1.5776, 1.5711, 1.5678, 1.5628, 1.5594, 1.5599, 1.5515, 1.5566, 1.4776, 1.5143, 1.5362, 1.4647, 1.4548, 1.4675, 1.2508, 1.1879, 1.3321, 1.0032, 1.4613, 1.5104, 1.3536, 1.0095, 0.7436, 0.8845, 0.1084, -0.2171, -0.101, 0.3331, 0.7095, 0.831, 0.8548, -0.8678, 1.7803, 1.779, 1.7787, 1.7777, 1.7775, 1.777, 1.7767, 1.7765, 1.7764, 1.7728, 1.7714, 1.7713, 1.771, 1.7687, 1.7687, 1.7683, 1.767, 1.7668, 1.7645, 1.7644, 1.764, 1.7602, 1.7516, 1.7403, 1.7346, 1.7313, 1.7088, 1.6746, 1.6708, 1.6612, 1.5646, 1.5991, 1.5441, 1.3181, 1.1504, 1.2986, 1.5009, 1.5196, 1.461, 0.8075, 0.7159, 0.7181, 0.6298, 1.0681, 0.3101, 0.7373, 0.1976, 0.3453, -0.0391, 0.4216, 0.0993, 0.2289, 0.7823, 0.332, 0.5371, -0.0089, 0.4508, 0.59, 1.9912, 1.9886, 1.9844, 1.9795, 1.9776, 1.9748, 1.9555, 1.9482, 1.9446, 1.9392, 1.9046, 1.8889, 1.8812, 1.8575, 1.855, 1.8472, 1.816, 1.8156, 1.7906, 1.7232, 1.7229, 1.7071, 1.6769, 1.6709, 1.6456, 1.6167, 1.6132, 1.6039, 1.5786, 1.5742, 1.5545, 1.5359, 1.4675, 1.5249, 1.3409, 1.3487, 1.1912, 1.4074, 1.2766, 1.3837, 1.2315, 1.3835, 0.7427, 1.0259, 1.263, 0.2614, 1.0528, 0.9333, 1.1035, 1.1328, 0.4216, 1.2913, 0.4655, 1.008, -0.1356, 0.0059, -0.5433], \"logprob\": [30.0, 29.0, 28.0, 27.0, 26.0, 25.0, 24.0, 23.0, 22.0, 21.0, 20.0, 19.0, 18.0, 17.0, 16.0, 15.0, 14.0, 13.0, 12.0, 11.0, 10.0, 9.0, 8.0, 7.0, 6.0, 5.0, 4.0, 3.0, 2.0, 1.0, -4.0159, -5.9116, -5.9821, -6.0588, -6.3295, -6.4165, -6.336, -5.5773, -6.4903, -6.3591, -5.9772, -5.8336, -6.4191, -6.5318, -6.353, -6.2665, -6.4383, -6.6956, -4.5745, -6.7311, -6.429, -6.6028, -5.9381, -5.1485, -6.1336, -6.7018, -6.1765, -6.6389, -6.6872, -5.9874, -6.0042, -4.9993, -5.7248, -4.4602, -5.907, -5.6027, -5.2249, -5.3684, -5.6647, -5.6544, -5.7294, -5.2692, -5.0922, -5.5666, -4.6117, -5.5822, -4.1138, -5.378, -4.3019, -4.5954, -5.1504, -4.4592, -4.9294, -4.4848, -4.7543, -4.9558, -5.2001, -5.1784, -4.9155, -5.1362, -5.0797, -5.0705, -5.0934, -5.1109, -5.1507, -5.2997, -5.3056, -5.3107, -5.2838, -5.4117, -6.2565, -6.1742, -6.2357, -4.9302, -6.3068, -6.3116, -6.2616, -6.3438, -6.1802, -6.3889, -6.0828, -5.4935, -5.6777, -5.8311, -6.3298, -5.9104, -6.4509, -6.1891, -6.6276, -6.5497, -4.8426, -5.4282, -6.763, -6.3072, -5.8708, -6.3132, -5.9258, -5.9253, -6.0813, -4.4697, -5.8822, -4.7625, -5.306, -4.9338, -4.0075, -4.0971, -5.1648, -4.3841, -4.4993, -4.5883, -4.5286, -5.4369, -4.8846, -4.9365, -4.4178, -5.4162, -5.1111, -4.9633, -4.8741, -4.994, -5.3461, -4.9442, -4.9626, -5.0078, -4.997, -4.894, -5.1139, -5.1535, -5.2394, -5.289, -4.3713, -5.0068, -5.9229, -5.9524, -5.9722, -5.5871, -5.9589, -5.991, -5.9806, -6.0041, -6.0041, -5.8327, -5.9947, -5.988, -4.9436, -6.0848, -4.8489, -5.9521, -4.1853, -6.3228, -4.3583, -6.0702, -6.4388, -6.3474, -5.4196, -6.4709, -3.3785, -4.7146, -6.1386, -5.6367, -5.1414, -5.3524, -5.0961, -5.7418, -4.881, -5.46, -5.6804, -5.2744, -5.4186, -5.4726, -4.7583, -4.7621, -5.2181, -4.3611, -5.6362, -5.776, -5.4743, -4.9386, -4.7031, -5.3472, -5.0386, -4.9129, -5.014, -5.1961, -5.3535, -5.4399, -5.4556, -5.4222, -4.9654, -5.0974, -4.7067, -4.1736, -5.2253, -5.5844, -5.6299, -5.2897, -5.604, -5.9302, -6.0401, -6.0684, -5.1862, -5.6119, -6.1668, -6.1866, -6.0567, -6.2864, -4.8335, -6.1902, -5.7803, -5.9601, -4.6531, -6.1398, -5.1298, -4.8347, -6.281, -6.1051, -6.0515, -4.4621, -5.1093, -5.4862, -5.3712, -4.4061, -3.7626, -4.4783, -5.3722, -5.4658, -5.4841, -4.3591, -4.3611, -4.4562, -4.4205, -5.0189, -4.2389, -4.7919, -4.4286, -4.7407, -4.5936, -4.8471, -4.8201, -4.8961, -5.166, -5.0518, -5.104, -5.0366, -5.1116, -5.1231, -5.9786, -5.4537, -5.9859, -4.4099, -5.8922, -6.0198, -4.9835, -5.5104, -4.956, -4.5567, -6.2417, -5.6034, -5.9025, -4.649, -5.5136, -6.0923, -5.7265, -5.605, -5.4367, -5.5555, -4.9779, -5.6444, -6.022, -5.2329, -6.1393, -5.4145, -4.9157, -5.7539, -5.8119, -6.0733, -4.8631, -5.4162, -4.9162, -5.4142, -4.7296, -4.9195, -4.5754, -5.1253, -4.9187, -5.1223, -5.0003, -5.2688, -4.6216, -4.9071, -5.1606, -4.4343, -5.0474, -5.0148, -5.1534, -5.1941, -4.9314, -5.3021, -5.0575, -5.2567, -5.0486, -5.141, -5.0978]}, \"token.table\": {\"Topic\": [2, 3, 5, 1, 1, 3, 4, 5, 2, 3, 5, 2, 3, 5, 4, 1, 2, 3, 4, 5, 1, 2, 3, 4, 5, 2, 3, 5, 2, 5, 1, 2, 3, 4, 5, 1, 2, 4, 5, 1, 2, 3, 4, 5, 1, 2, 3, 4, 5, 3, 3, 5, 1, 3, 5, 1, 2, 3, 4, 5, 1, 2, 3, 4, 5, 2, 3, 4, 5, 3, 4, 4, 5, 1, 2, 3, 4, 5, 2, 3, 4, 5, 1, 2, 3, 1, 4, 1, 2, 3, 1, 3, 4, 1, 3, 2, 3, 5, 2, 4, 5, 1, 1, 4, 5, 3, 4, 1, 2, 3, 4, 5, 1, 3, 4, 5, 1, 4, 5, 3, 2, 3, 4, 5, 1, 3, 4, 1, 2, 3, 4, 5, 2, 3, 5, 1, 1, 2, 3, 4, 5, 2, 3, 5, 1, 2, 3, 5, 1, 2, 3, 4, 5, 1, 2, 3, 4, 5, 1, 4, 1, 2, 3, 5, 1, 2, 3, 4, 5, 3, 4, 5, 1, 1, 2, 3, 2, 3, 5, 1, 2, 3, 5, 2, 5, 4, 1, 2, 3, 5, 1, 2, 3, 4, 5, 1, 2, 3, 5, 2, 3, 5, 3, 1, 1, 2, 3, 4, 1, 2, 3, 4, 5, 1, 3, 4, 5, 1, 2, 3, 4, 5, 1, 3, 4, 1, 2, 3, 4, 5, 2, 3, 4, 5, 3, 5, 4, 1, 2, 3, 4, 5, 1, 2, 3, 4, 5, 2, 3, 5, 2, 3, 5, 1, 1, 1, 2, 3, 5, 1, 3, 4, 3, 1, 2, 3, 4, 5, 1, 2, 3, 4, 5, 1, 2, 3, 4, 5, 1, 2, 3, 4, 5, 2, 3, 4, 5, 3, 5, 1, 2, 3, 4, 5, 1, 2, 3, 4, 5, 1, 3, 5, 1, 2, 3, 5, 3, 5, 1, 2, 3, 4, 3, 4, 2, 3, 5, 1, 2, 3, 4, 5, 1, 2, 3, 4, 5, 1, 2, 3, 4, 5, 1, 2, 3, 4, 5, 2, 3, 5, 1, 2, 3, 4, 5, 3, 4, 5, 4, 3, 1, 2, 3, 4, 5, 3, 2, 3, 1, 5, 1, 2, 3, 4, 5, 1, 2, 3, 4, 5, 2, 3, 1, 2, 3, 4, 5, 2, 3, 4, 1, 4, 3, 4, 1, 2, 3, 4, 5, 1, 2, 3, 4, 5, 1, 2, 3, 4, 5, 3, 5, 1, 3, 4, 5, 1, 2, 3, 4, 5, 1, 2, 3, 4, 5, 1, 2, 3, 4, 5, 1, 2, 3, 4, 5, 2, 3, 4, 1, 2, 3, 4, 5, 2, 3, 5, 1, 2, 3, 5, 1, 3, 1, 2, 3, 4, 4, 1, 5, 1, 2, 3, 4, 5, 3, 5, 1, 2, 3, 4, 5, 2, 3, 4, 1, 2, 5, 2, 1, 2, 3, 4, 5, 1, 2, 3, 5, 1, 2, 3, 5, 1, 2, 3, 4, 5, 1, 2, 3, 4, 5, 1, 2, 3, 4, 5, 3, 5, 1, 3, 4, 1, 1, 2, 3, 4, 5, 2, 3, 1, 1, 2, 3, 4, 5, 2, 3, 2, 3, 3, 1, 2, 3, 5, 2, 4, 5, 2, 3, 5, 2, 3, 1, 3, 5, 1, 2, 3, 4, 5, 4, 1, 4, 4, 4, 3, 3, 1, 3, 4, 5, 4, 5, 1, 2, 3, 4, 5, 1, 3, 5, 1, 2, 3, 4, 5, 1, 3, 1, 1, 2, 3, 1, 2, 3, 4, 5, 1, 2, 3, 5, 1, 2, 3, 5, 2, 3, 4, 5, 3, 1, 3, 4, 4, 2, 3, 1, 2, 3, 4, 1, 2, 3, 4, 5, 1, 2, 3, 4, 5, 1, 2, 3, 1, 2, 3, 4, 5, 3, 1, 2, 3, 4, 5, 1, 2, 3, 5, 2, 3, 5, 4, 1, 4, 5, 4, 5, 1, 2, 3, 4, 5, 1, 2, 3, 4, 5, 1, 3, 4, 5, 3, 3, 5, 1, 5, 3, 1, 1, 3, 5, 1, 3, 1, 2, 3, 4, 5, 1, 2, 3, 4, 5, 3, 4, 1, 2, 3, 4, 5, 2, 3, 1, 2, 3, 4, 1, 2, 3, 4, 5, 1, 3, 4, 1, 4, 1, 2, 3, 4, 5, 1, 3, 4, 5, 2, 3, 5, 1, 4, 3, 1, 2, 3, 4, 5, 1, 2, 3, 4, 5, 1, 2, 3, 4, 5, 3, 4, 5, 1, 2, 3, 5, 1, 2, 3, 4, 5, 2, 3, 1, 2, 3, 4, 5, 1, 2, 3, 4, 5, 1, 2, 3, 4, 5, 1, 2, 4, 3, 5, 1, 3, 5, 1, 2, 3, 4, 5, 1, 2, 3, 4, 5, 1, 2, 3, 4, 5, 2, 3, 1, 2, 3, 4, 5, 1, 2, 3, 4, 5, 1, 4, 1, 3, 2, 1, 2, 3, 5, 1, 2, 3, 4, 5, 1, 2, 3, 1, 2, 3, 4, 5, 1, 2, 3, 4, 5, 1, 4, 1, 2, 3, 4, 5, 1, 2, 1, 3, 4, 1, 2, 3, 4, 5, 1, 2, 3, 4, 5, 4, 1, 2, 3, 4, 5, 2, 5], \"Freq\": [0.9038163336603992, 0.035443777790603884, 0.05316566668590583, 0.9824882956791176, 0.32255545558597487, 0.13903252395947194, 0.005561300958378877, 0.5338848920043722, 0.049553378697880505, 0.049553378697880505, 0.891960816561849, 0.024911885532075566, 0.03736782829811335, 0.9341957074528338, 0.9846376392927984, 0.2801908370139348, 0.2505671361842677, 0.22341207709040617, 0.11232319897915449, 0.13454097460140482, 0.010405163352022035, 0.02081032670404407, 0.1456722869283085, 0.08324130681617628, 0.7491717613455866, 0.7578763049375208, 0.017625030347384205, 0.21150036416861046, 0.9163328415585458, 0.06319536838334798, 0.5535349324716324, 0.2414095079942362, 0.004876959757459317, 0.12192399393648293, 0.07803135611934907, 0.9431952683772371, 0.003572709349913777, 0.003572709349913777, 0.050017930898792876, 0.017262632317404207, 0.017262632317404207, 0.034525264634808414, 0.2416768524436589, 0.6905052926961683, 0.21712158390161987, 0.08388788468926221, 0.1381682806646672, 0.01973832580923817, 0.5428039597540496, 0.9665140605516664, 0.9574456354175775, 0.031914854513919254, 0.9723445076178723, 0.009440237938037594, 0.009440237938037594, 0.036173327083765076, 0.11575464666804824, 0.036173327083765076, 0.7813438650093256, 0.02893866166701206, 0.11875016657146518, 0.7256954623811761, 0.05277785180954008, 0.05277785180954008, 0.03958338885715506, 0.11148241389584967, 0.03430228119872297, 0.8318303190690322, 0.025726710899042233, 0.9289364742912651, 0.05866967206050095, 0.9806900462072171, 0.007543769586209363, 0.6847323759731454, 0.015216275021625453, 0.053256962575689085, 0.11031799390678454, 0.1331424064392227, 0.9257384113254531, 0.0168316074786446, 0.0336632149572892, 0.0168316074786446, 0.9745651645260577, 0.011465472523835974, 0.011465472523835974, 0.011521695206088159, 0.9793440925174935, 0.9729475163553656, 0.008572224813703662, 0.012858337220555491, 0.962704072996801, 0.0196470218978939, 0.00982351094894695, 0.9879670793278864, 0.9867015126327818, 0.04445133125306203, 0.007408555208843672, 0.9408865115231464, 0.8010358042672162, 0.012919932326890584, 0.18087905257646816, 0.9981937077898378, 0.9020495690514874, 0.0892136936424548, 0.004956316313469711, 0.09728636459504746, 0.8917916754546017, 0.08209051719784574, 0.7546012927032744, 0.01894396550719517, 0.012629310338130115, 0.12945043096583367, 0.007304599331009996, 0.4857558555121647, 0.04747989565156497, 0.4565374581881247, 0.9623506896243049, 0.01886962136518245, 0.01886962136518245, 0.9881035448578551, 0.2193202079045403, 0.09747564795757346, 0.008122970663131123, 0.6742065650398832, 0.9787374657156404, 0.00858541636592667, 0.00858541636592667, 0.09416682748590156, 0.6934102751234569, 0.05136372408321903, 0.1455305515691206, 0.01712124136107301, 0.018791072286629264, 0.018791072286629264, 0.9583446866180925, 0.9865591990517957, 0.16257335572347337, 0.0165328836328956, 0.6585598647103413, 0.030310286660308595, 0.1322630690631648, 0.06075948310117418, 0.8679926157310597, 0.06075948310117418, 0.14906805781156204, 0.6857130659331854, 0.02981361156231241, 0.11925444624924963, 0.3949877395832969, 0.02278775420672867, 0.4595530431690282, 0.02658571324118345, 0.09494897586136945, 0.31775329414272047, 0.36458009538480557, 0.08361928793229487, 0.19399674800292407, 0.04013725820750153, 0.9862244195435242, 0.9932178772603157, 0.014415443675431626, 0.9081729515521925, 0.014415443675431626, 0.0576617747017265, 0.20754914598461452, 0.032155501490574084, 0.7015745779761617, 0.0029232274082340074, 0.05554132075644614, 0.08586112237143544, 0.8929556726629285, 0.017172224474287085, 0.9923730412958118, 0.23031091461443787, 0.7328074555913932, 0.020937355874039807, 0.8893875571488852, 0.01288967474128819, 0.09022772318901734, 0.00491632698071297, 0.2998959458234912, 0.024581634903564853, 0.668620469376964, 0.46603572568099183, 0.5332986139236092, 0.992698676028832, 0.007506153184718681, 0.015012306369437362, 0.3602953528664967, 0.6155045611469319, 0.9213346313640471, 0.01426845668041666, 0.008153403817380948, 0.04076701908690474, 0.016306807634761895, 0.95815218905912, 0.007485563977024375, 0.01497112795404875, 0.022456691931073126, 0.18780378684319496, 0.009884409833852366, 0.8006371965420417, 0.9866835355668032, 0.9888346765722809, 0.004145923257125092, 0.11193992794237749, 0.8789357305105197, 0.004145923257125092, 0.025353943448879424, 0.87893670622782, 0.008451314482959807, 0.008451314482959807, 0.09296445931255788, 0.11198053375774028, 0.5476308294727846, 0.05982521666509412, 0.2807183243515955, 0.02209518956560522, 0.7346650530563735, 0.03866658173980913, 0.06628556869681565, 0.13809493478503262, 0.7679004529441529, 0.22462394201767738, 0.9869512022195932, 0.2374294226590915, 0.39862003987719036, 0.0348520253444538, 0.2504989321632617, 0.07841705702502105, 0.8664664263254249, 0.009735577823881179, 0.009735577823881179, 0.11682693388657414, 0.02128854252599701, 0.9579844136698655, 0.995032483102319, 0.2986290503255082, 0.3287067964014586, 0.13105303647378416, 0.06660072345389031, 0.1740212451537134, 0.15196175007207155, 0.15015268161883258, 0.28040561025203675, 0.34915021147511677, 0.06874460122307999, 0.03606389038161097, 0.9592994841508519, 0.007212778076322194, 0.9489271295737521, 0.0043330005916609685, 0.047663006508270656, 0.9788466344563787, 0.990875903745402, 0.020971312635031637, 0.020971312635031637, 0.9122520996238762, 0.05242828158757909, 0.005518390805912138, 0.002759195402956069, 0.9905511496612287, 0.9918206406358344, 0.43375226626557445, 0.24844026518497692, 0.052946286023027866, 0.22807630902227388, 0.03665512109286544, 0.22612331093238652, 0.2826541386654831, 0.09566755462524044, 0.30222250211155505, 0.09349329202012134, 0.3303309657008848, 0.2359506897863463, 0.07711559129602538, 0.34299173442112785, 0.014962726669378059, 0.30587172975061055, 0.22908911446342026, 0.05286671872232775, 0.3751019566488969, 0.0352444791482185, 0.010611174872461713, 0.9550057385215541, 0.021222349744923426, 0.010611174872461713, 0.9612788187481641, 0.028838364562444922, 0.04398074341707229, 0.08356341249243736, 0.21550564274365422, 0.026388446050243375, 0.6289246308641337, 0.16296006627803192, 0.04656001893658055, 0.015520006312193517, 0.768240312453579, 0.0077600031560967585, 0.9112925400183779, 0.08040816529573923, 0.006700680441311602, 0.004756583466969747, 0.038052667735757974, 0.033296084268788224, 0.9275337760591006, 0.020777602564857993, 0.9765473205483257, 0.013025834771690612, 0.017367779695587483, 0.004341944923896871, 0.9639117731051053, 0.013569835887947168, 0.9770281839321961, 0.012254576498072997, 0.012254576498072997, 0.9681115433477668, 0.11097295828706041, 0.10403714839411914, 0.02080742967882383, 0.7490674684376578, 0.02080742967882383, 0.2816176041918121, 0.5595297135916266, 0.0815208854239456, 0.06299341146395797, 0.018527473959987637, 0.059664325592649683, 0.11269928167500497, 0.7756362327044459, 0.0066293695102944096, 0.04640558657206086, 0.19127354414087805, 0.08946665774331393, 0.40722754559025653, 0.04010574312631314, 0.2683999732299418, 0.16787792656727887, 0.011991280469091347, 0.8154070718982117, 0.10257292478694602, 0.024866163584714183, 0.3543428310821771, 0.00932481134426782, 0.5097563534866408, 0.01163542892774965, 0.33742743890473986, 0.6515840199539804, 0.9860061340170244, 0.9842487760700032, 0.07883337709919704, 0.011261911014171006, 0.2139763092692491, 0.03378573304251302, 0.6644527498360893, 0.9834948630729212, 0.019902292322654346, 0.975212323810063, 0.25103389356905775, 0.7472636831823115, 0.020526145011225676, 0.8415719454602527, 0.04105229002245135, 0.05131536252806419, 0.030789217516838514, 0.3692257416811126, 0.35936511356499984, 0.04272938850315547, 0.1654394272814481, 0.06464189542785058, 0.9216896989372925, 0.06703197810453036, 0.1516942499893296, 0.08574022825483846, 0.11212183694863491, 0.6243647390865159, 0.024183141302646746, 0.013838002257908094, 0.9824981603114747, 0.0023063337096513492, 0.9772601383767335, 0.014371472623187257, 0.007896243091461209, 0.9870303864326513, 0.38836423507588463, 0.3716498249586947, 0.03047921844899348, 0.18484171188421852, 0.02458001487822055, 0.3646749223918041, 0.25433738177069415, 0.08976613474259793, 0.26181789299924396, 0.02805191710706185, 0.06819629230899059, 0.051147219231742945, 0.07387931666807314, 0.8013064346306394, 0.005683024359082549, 0.9917754593696658, 0.0053036120821907265, 0.9749095764769853, 0.002419130462722048, 0.0072573913881661435, 0.014514782776332287, 0.8140745712335444, 0.01639076317919888, 0.07102664044319515, 0.027317938631998134, 0.07102664044319515, 0.39088589774635, 0.0035214945742914417, 0.11620932095161758, 0.014085978297165767, 0.47892326210363606, 0.2898077884628066, 0.3731275276458635, 0.09177246634655542, 0.21011064663553478, 0.03501844110592246, 0.15490276438856115, 0.49660003877509307, 0.10478716414520313, 0.1526247825593176, 0.09111927316974185, 0.07674302857948917, 0.913242040095921, 0.007674302857948917, 0.26429042038836476, 0.2031620238359539, 0.14922520334853248, 0.17259782555974842, 0.21215149391719076, 0.020148142473287493, 0.12088885483972496, 0.8462219838780748, 0.004806725618031954, 0.12978159168686276, 0.014420176854095862, 0.8555971600096878, 0.973874510986194, 0.018374990773324416, 0.890715561890747, 0.007013508361344465, 0.049094558529411254, 0.049094558529411254, 0.9820805353518859, 0.9693593515562129, 0.01978284390931047, 0.16957757142553478, 0.5238735688681699, 0.08781695663108051, 0.20894379336360536, 0.009084512754939364, 0.9829260860783374, 0.013464740905182704, 0.8851659697858011, 0.012922130945778118, 0.03876639283733435, 0.006461065472889059, 0.05814958925600153, 0.033212711381111405, 0.946562274361675, 0.016606355690555703, 0.0812729827615924, 0.09481847988852446, 0.8127298276159239, 0.9946433505175658, 0.3200235809498319, 0.3469729351350809, 0.07916372791916894, 0.21559483348199202, 0.03873969664129544, 0.0027325691490513366, 0.00819770744715401, 0.9782597553603786, 0.013662845745256684, 0.03161523896460586, 0.8536114520443582, 0.01580761948230293, 0.1106533363761205, 0.49548936050038356, 0.21333569688210957, 0.1445177301459452, 0.09405122120609131, 0.0550543733889315, 0.2732519037835825, 0.5227427724555491, 0.00792034503720529, 0.1742475908185164, 0.023761035111615873, 0.4170942168067956, 0.06673507468908729, 0.16532098047978444, 0.1471205055645788, 0.2032386365531295, 0.1159451067239402, 0.8760296952475481, 0.021188778318150484, 0.04237755663630097, 0.9323062459986212, 0.9827227820258093, 0.2709072746914997, 0.04876330944446995, 0.1029447643827699, 0.2058895287655398, 0.3711429663273546, 0.6968135660732336, 0.29139476399426134, 0.9938008939454366, 0.3009887760318488, 0.37606534148196985, 0.08463176468922733, 0.16107335860207783, 0.07712410814421523, 0.030836023941615366, 0.967480251168182, 0.013512729068850291, 0.9864292220260712, 0.9898387877977817, 0.02276942302867477, 0.011384711514337386, 0.10246240362903647, 0.8538533635753038, 0.057035336342034, 0.00712941704275425, 0.9339536326008068, 0.025655447851093856, 0.008551815950364618, 0.9663552023912019, 0.01513725836374497, 0.9839217936434231, 0.24316479032895938, 0.04291143358746342, 0.7080386541931464, 0.1818615164044695, 0.6010090113557229, 0.06062050546815649, 0.08140467877152444, 0.07620863544568245, 0.9818943323739545, 0.9734384568323806, 0.015451404076704455, 0.9952915348576029, 0.9946255148942158, 0.989779340254377, 0.9876629344745421, 0.020407429239713896, 0.005101857309928474, 0.9438436023367677, 0.025509286549642372, 0.9931780516592276, 0.004707004984166955, 0.5058891562710536, 0.04482562144173892, 0.016009150514906756, 0.05122928164770162, 0.38101778225478083, 0.9649273858810639, 0.01191268377630943, 0.01191268377630943, 0.18809560846091616, 0.11928014195082488, 0.17662636404256762, 0.07799086204477011, 0.43812513678091447, 0.9135498780416411, 0.0783042752607121, 0.9709441607269895, 0.11525408733538409, 0.012132009193198325, 0.8674386573136802, 0.5748862212127879, 0.2592914657531904, 0.040004969001920805, 0.02963331037179319, 0.09482659318973821, 0.19006014581413855, 0.015838345484511546, 0.09503007290706927, 0.7127255468030196, 0.10451660175079637, 0.005500873776357704, 0.5500873776357703, 0.33830373724599877, 0.027750264542978204, 0.8602582008323243, 0.02081269840723365, 0.09018835976467916, 0.9841181535296584, 0.9487540419706573, 0.008950509829911862, 0.03580203931964745, 0.9832477275408804, 0.956241615426589, 0.030356876680209175, 0.10435068005436596, 0.08944344004659939, 0.08198982004271611, 0.7230011403766784, 0.1136333024885112, 0.02651443724731928, 0.3068099167189802, 0.0378777674961704, 0.5151376379479174, 0.004016815794913185, 0.1566558160016142, 0.4217656584658844, 0.004016815794913185, 0.41373202687605803, 0.005837951423790805, 0.035027708542744826, 0.9574240335016919, 0.2850474511305558, 0.01622221266596659, 0.06257139171158542, 0.6141266223544495, 0.025492048475090356, 0.9958847063422503, 0.2704651287556262, 0.32344283438817156, 0.061342606521894605, 0.25512947712515255, 0.08922560948639215, 0.003951068612705722, 0.5057367824263325, 0.47412823352468675, 0.019755343063528615, 0.6790970770450098, 0.2157131891790031, 0.10386190590100149, 0.9927812078191969, 0.9858744329876314, 0.0066613137364029155, 0.0066613137364029155, 0.9488155642043988, 0.04812832572051298, 0.26904157748519414, 0.35820070490761313, 0.07038878480717288, 0.2330650874726391, 0.06726039437129853, 0.9351852593340787, 0.00649434207870888, 0.04546039455096216, 0.01298868415741776, 0.00649434207870888, 0.23024374620710883, 0.36235081370299094, 0.04151936407013438, 0.36612530134573046, 0.9911642205686986, 0.9835030563508699, 0.009884452827646934, 0.9749134053404743, 0.013174505477573976, 0.9917593110071938, 0.9815606737162093, 0.3316143251444358, 0.08502931413959892, 0.5781993361492727, 0.009426624861086464, 0.9897956104140787, 0.33284343510824116, 0.47315978520289187, 0.013052683729734949, 0.16968488848655433, 0.013052683729734949, 0.1451735454518026, 0.691709245976236, 0.034158481282777084, 0.06831696256555417, 0.0597773422448599, 0.9753330337686733, 0.9906664191744076, 0.012238313163878913, 0.010198594303232427, 0.9729458965283736, 0.0010198594303232427, 0.004079437721292971, 0.01573693549605134, 0.9756900007551831, 0.8240304759576008, 0.04919584931090155, 0.07379377396635231, 0.04919584931090155, 0.15799720252109295, 0.16747703467235853, 0.12639776201687436, 0.48663138376496634, 0.06319888100843718, 0.1112506287721705, 0.8677549044229299, 0.014833417169622734, 0.03797343361142021, 0.9493358402855051, 0.30809097353076953, 0.2228157933570744, 0.07702274338269238, 0.36585803106778886, 0.024757310373008268, 0.22567825706920575, 0.0902713028276823, 0.0300904342758941, 0.6469443369317232, 0.5076055362547175, 0.2256024605576522, 0.2632028706505942, 0.01618165498628129, 0.9708992991768773, 0.9837961842335547, 0.058532640819585306, 0.7804352109278041, 0.0390217605463902, 0.11706528163917061, 0.0195108802731951, 0.38314594748859937, 0.09495356089934855, 0.4231263941830619, 0.001665851945602606, 0.09828526479055376, 0.2575416988670702, 0.35225058167625084, 0.08307796737647426, 0.18609464692330233, 0.12129383236965241, 0.10486656466850972, 0.8815345592446598, 0.013108320583563714, 0.14061679962792104, 0.005022028558140037, 0.7633483408372856, 0.09039651404652067, 0.7657588489464576, 0.0159533093530512, 0.028715956835492162, 0.08614787050647649, 0.09891051798891745, 0.9833482160254491, 0.007284060859447771, 0.33914042323265525, 0.5077304602153625, 0.023524191206889384, 0.12546235310341003, 0.003920698534481563, 0.26448916195594513, 0.3776815575387861, 0.03250078685051868, 0.3138007006256976, 0.0112071678794892, 0.28453933491143707, 0.24621362857642717, 0.13355927965230718, 0.2369225482527884, 0.09871772843866183, 0.9542555599602763, 0.009940162082919545, 0.01988032416583909, 0.020767913437525102, 0.9760919315636799, 0.10345020976749263, 0.01724170162791544, 0.8793267830236874, 0.007408561151935471, 0.37042805759677355, 0.007408561151935471, 0.007408561151935471, 0.6149105756106441, 0.28527647804893347, 0.1537660449058081, 0.16185899463769274, 0.28729971548190464, 0.11127805881341377, 0.26990841620606154, 0.13716657217029357, 0.11061820336313997, 0.013274184403576797, 0.4690211822597135, 0.9450252427195238, 0.03203475399049233, 0.031461605162259855, 0.031461605162259855, 0.424731669690508, 0.026218004301883212, 0.4824112791546511, 0.4158712432313902, 0.17845514596129597, 0.16194607959483248, 0.07075314157055788, 0.1729521238391415, 0.9687004621110618, 0.020181259627313788, 0.9812768734105742, 0.009911887610207821, 0.9800296950805399, 0.055955580261348045, 0.01119111605226961, 0.20144008894085297, 0.7386136594497942, 0.4702458971486705, 0.28428501963987807, 0.0427496270135155, 0.10687406753378874, 0.09618666078040987, 0.07112577214502351, 0.8890721518127939, 0.035562886072511755, 0.2734031625899998, 0.0299619904208219, 0.09737646886767118, 0.19849818653794507, 0.4007416218784929, 0.24483860433144986, 0.27401626184245165, 0.08245859731370073, 0.3437889211078907, 0.0545495336075251, 0.9852645751225091, 0.015639120240039828, 0.15172429649740984, 0.7249049721542915, 0.025287382749568307, 0.04214563791594718, 0.05900389308232605, 0.15500122578713021, 0.8266732041980278, 0.01053524342892284, 0.01053524342892284, 0.979777638889824, 0.4603282455085959, 0.2618828534518867, 0.12524832121611973, 0.06018425824670689, 0.09271628973141331, 0.33143244698606933, 0.3695618435419888, 0.06745970159893447, 0.20384562004895415, 0.027130532164788862, 0.9707474480148439, 0.0996400873515106, 0.07424163371289025, 0.18169662987628404, 0.5284832084036003, 0.11624676857676236, 0.9041826950587446, 0.08530025425082496], \"Term\": [\"acid\", \"acid\", \"acid\", \"adapter\", \"address\", \"address\", \"address\", \"address\", \"adult\", \"adult\", \"adult\", \"aid\", \"aid\", \"aid\", \"alomar\", \"also\", \"also\", \"also\", \"also\", \"also\", \"among\", \"among\", \"among\", \"among\", \"among\", \"animal\", \"animal\", \"animal\", \"anti\", \"anti\", \"anyone\", \"anyone\", \"anyone\", \"anyone\", \"anyone\", \"apple\", \"apple\", \"apple\", \"apple\", \"arm\", \"arm\", \"arm\", \"arm\", \"arm\", \"article\", \"article\", \"article\", \"article\", \"article\", \"astronomical\", \"astronomy\", \"astronomy\", \"auto\", \"auto\", \"auto\", \"average\", \"average\", \"average\", \"average\", \"average\", \"avoid\", \"avoid\", \"avoid\", \"avoid\", \"avoid\", \"ball\", \"ball\", \"ball\", \"ball\", \"bank\", \"bank\", \"baseball\", \"baseball\", \"bit\", \"bit\", \"bit\", \"bit\", \"bit\", \"brain\", \"brain\", \"brain\", \"brain\", \"brake\", \"brake\", \"brake\", \"brave\", \"brave\", \"buy\", \"buy\", \"buy\", \"cable\", \"cable\", \"cable\", \"cache\", \"cadre\", \"cancer\", \"cancer\", \"cancer\", \"candida\", \"candida\", \"candida\", \"car\", \"card\", \"card\", \"card\", \"career\", \"career\", \"cause\", \"cause\", \"cause\", \"cause\", \"cause\", \"center\", \"center\", \"center\", \"center\", \"centris\", \"centris\", \"centris\", \"chastity\", \"child\", \"child\", \"child\", \"child\", \"chip\", \"chip\", \"chip\", \"claim\", \"claim\", \"claim\", \"claim\", \"claim\", \"clinical\", \"clinical\", \"clinical\", \"clock\", \"com\", \"com\", \"com\", \"com\", \"com\", \"commercial\", \"commercial\", \"commercial\", \"common\", \"common\", \"common\", \"common\", \"cost\", \"cost\", \"cost\", \"cost\", \"cost\", \"could\", \"could\", \"could\", \"could\", \"could\", \"cpu\", \"cub\", \"cure\", \"cure\", \"cure\", \"cure\", \"data\", \"data\", \"data\", \"data\", \"data\", \"dave\", \"dave\", \"dave\", \"dealer\", \"detector\", \"detector\", \"detector\", \"diet\", \"diet\", \"diet\", \"disease\", \"disease\", \"disease\", \"disease\", \"doctor\", \"doctor\", \"dodger\", \"dr\", \"dr\", \"dr\", \"dr\", \"drive\", \"drive\", \"drive\", \"drive\", \"drive\", \"driver\", \"driver\", \"driver\", \"driver\", \"drug\", \"drug\", \"drug\", \"dsl\", \"duo\", \"earth\", \"earth\", \"earth\", \"earth\", \"eat\", \"eat\", \"eat\", \"eat\", \"eat\", \"edu\", \"edu\", \"edu\", \"edu\", \"effect\", \"effect\", \"effect\", \"effect\", \"effect\", \"engine\", \"engine\", \"era\", \"even\", \"even\", \"even\", \"even\", \"even\", \"evidence\", \"evidence\", \"evidence\", \"evidence\", \"exercise\", \"exercise\", \"fan\", \"find\", \"find\", \"find\", \"find\", \"find\", \"first\", \"first\", \"first\", \"first\", \"first\", \"flight\", \"flight\", \"flight\", \"food\", \"food\", \"food\", \"ford\", \"fpu\", \"fund\", \"fund\", \"fund\", \"fund\", \"game\", \"game\", \"game\", \"geb\", \"get\", \"get\", \"get\", \"get\", \"get\", \"give\", \"give\", \"give\", \"give\", \"give\", \"go\", \"go\", \"go\", \"go\", \"go\", \"good\", \"good\", \"good\", \"good\", \"good\", \"gordon\", \"gordon\", \"gordon\", \"gordon\", \"gov\", \"gov\", \"group\", \"group\", \"group\", \"group\", \"group\", \"guy\", \"guy\", \"guy\", \"guy\", \"guy\", \"hardware\", \"hardware\", \"hardware\", \"health\", \"health\", \"health\", \"health\", \"hicnet\", \"hicnet\", \"hit\", \"hit\", \"hit\", \"hit\", \"hitter\", \"hitter\", \"hiv\", \"hiv\", \"hiv\", \"home\", \"home\", \"home\", \"home\", \"home\", \"idea\", \"idea\", \"idea\", \"idea\", \"idea\", \"image\", \"image\", \"image\", \"image\", \"image\", \"include\", \"include\", \"include\", \"include\", \"include\", \"infection\", \"infection\", \"infection\", \"information\", \"information\", \"information\", \"information\", \"information\", \"injury\", \"injury\", \"injury\", \"inning\", \"intellect\", \"internet\", \"internet\", \"internet\", \"internet\", \"internet\", \"jpl\", \"jupiter\", \"jupiter\", \"keyboard\", \"keyboard\", \"kill\", \"kill\", \"kill\", \"kill\", \"kill\", \"know\", \"know\", \"know\", \"know\", \"know\", \"larson\", \"larson\", \"last\", \"last\", \"last\", \"last\", \"last\", \"launch\", \"launch\", \"launch\", \"lc\", \"lc\", \"league\", \"league\", \"like\", \"like\", \"like\", \"like\", \"like\", \"look\", \"look\", \"look\", \"look\", \"look\", \"lose\", \"lose\", \"lose\", \"lose\", \"lose\", \"lunar\", \"lunar\", \"mac\", \"mac\", \"mac\", \"mac\", \"machine\", \"machine\", \"machine\", \"machine\", \"machine\", \"mail\", \"mail\", \"mail\", \"mail\", \"mail\", \"make\", \"make\", \"make\", \"make\", \"make\", \"many\", \"many\", \"many\", \"many\", \"many\", \"mar\", \"mar\", \"mar\", \"may\", \"may\", \"may\", \"may\", \"may\", \"md\", \"md\", \"md\", \"medical\", \"medical\", \"medical\", \"medical\", \"meg\", \"meg\", \"memory\", \"memory\", \"memory\", \"memory\", \"mets\", \"mhz\", \"mhz\", \"might\", \"might\", \"might\", \"might\", \"might\", \"mission\", \"mission\", \"monitor\", \"monitor\", \"monitor\", \"monitor\", \"monitor\", \"moon\", \"moon\", \"moon\", \"mouse\", \"mouse\", \"mouse\", \"msg\", \"much\", \"much\", \"much\", \"much\", \"much\", \"nasa\", \"nasa\", \"nasa\", \"nasa\", \"natural\", \"natural\", \"natural\", \"natural\", \"need\", \"need\", \"need\", \"need\", \"need\", \"never\", \"never\", \"never\", \"never\", \"never\", \"new\", \"new\", \"new\", \"new\", \"new\", \"newsletter\", \"newsletter\", \"nl\", \"nl\", \"nl\", \"nubus\", \"number\", \"number\", \"number\", \"number\", \"number\", \"object\", \"object\", \"oil\", \"one\", \"one\", \"one\", \"one\", \"one\", \"orbit\", \"orbit\", \"orbital\", \"orbital\", \"orbiter\", \"page\", \"page\", \"page\", \"page\", \"pain\", \"pain\", \"pain\", \"patient\", \"patient\", \"patient\", \"payload\", \"payload\", \"pc\", \"pc\", \"pc\", \"people\", \"people\", \"people\", \"people\", \"people\", \"phillies\", \"pin\", \"pin\", \"pitch\", \"pitcher\", \"pitt\", \"planetary\", \"play\", \"play\", \"play\", \"play\", \"player\", \"player\", \"please\", \"please\", \"please\", \"please\", \"please\", \"port\", \"port\", \"port\", \"post\", \"post\", \"post\", \"post\", \"post\", \"price\", \"price\", \"printer\", \"probe\", \"probe\", \"probe\", \"problem\", \"problem\", \"problem\", \"problem\", \"problem\", \"procedure\", \"procedure\", \"procedure\", \"procedure\", \"program\", \"program\", \"program\", \"program\", \"project\", \"project\", \"project\", \"project\", \"propulsion\", \"ram\", \"ram\", \"ram\", \"rbi\", \"reaction\", \"reaction\", \"red\", \"red\", \"red\", \"red\", \"report\", \"report\", \"report\", \"report\", \"report\", \"research\", \"research\", \"research\", \"research\", \"research\", \"rocket\", \"rocket\", \"rocket\", \"run\", \"run\", \"run\", \"run\", \"run\", \"satellite\", \"say\", \"say\", \"say\", \"say\", \"say\", \"science\", \"science\", \"science\", \"science\", \"scientific\", \"scientific\", \"scientific\", \"score\", \"scsi\", \"scsi\", \"scsi\", \"season\", \"season\", \"see\", \"see\", \"see\", \"see\", \"see\", \"sell\", \"sell\", \"sell\", \"sell\", \"sell\", \"send\", \"send\", \"send\", \"send\", \"shameful\", \"shuttle\", \"shuttle\", \"simms\", \"simms\", \"skepticism\", \"slot\", \"software\", \"software\", \"software\", \"solar\", \"solar\", \"something\", \"something\", \"something\", \"something\", \"something\", \"sort\", \"sort\", \"sort\", \"sort\", \"sort\", \"soviet\", \"sox\", \"space\", \"space\", \"space\", \"space\", \"space\", \"spacecraft\", \"spacecraft\", \"speed\", \"speed\", \"speed\", \"speed\", \"start\", \"start\", \"start\", \"start\", \"start\", \"station\", \"station\", \"station\", \"stats\", \"stats\", \"still\", \"still\", \"still\", \"still\", \"still\", \"street\", \"street\", \"street\", \"street\", \"study\", \"study\", \"study\", \"suck\", \"suck\", \"surrender\", \"suspect\", \"suspect\", \"suspect\", \"suspect\", \"suspect\", \"system\", \"system\", \"system\", \"system\", \"system\", \"take\", \"take\", \"take\", \"take\", \"take\", \"team\", \"team\", \"team\", \"technology\", \"technology\", \"technology\", \"technology\", \"thanks\", \"thanks\", \"thanks\", \"thanks\", \"thanks\", \"theory\", \"theory\", \"thing\", \"thing\", \"thing\", \"thing\", \"thing\", \"think\", \"think\", \"think\", \"think\", \"think\", \"time\", \"time\", \"time\", \"time\", \"time\", \"tire\", \"tire\", \"tire\", \"tobacco\", \"tobacco\", \"tool\", \"tool\", \"tool\", \"treatment\", \"treatment\", \"treatment\", \"treatment\", \"treatment\", \"two\", \"two\", \"two\", \"two\", \"two\", \"type\", \"type\", \"type\", \"type\", \"type\", \"universe\", \"universe\", \"university\", \"university\", \"university\", \"university\", \"university\", \"use\", \"use\", \"use\", \"use\", \"use\", \"vga\", \"vga\", \"video\", \"video\", \"vitamin\", \"volume\", \"volume\", \"volume\", \"volume\", \"want\", \"want\", \"want\", \"want\", \"want\", \"water\", \"water\", \"water\", \"week\", \"week\", \"week\", \"week\", \"week\", \"well\", \"well\", \"well\", \"well\", \"well\", \"wheel\", \"wheel\", \"whether\", \"whether\", \"whether\", \"whether\", \"whether\", \"wife\", \"wife\", \"win\", \"win\", \"win\", \"work\", \"work\", \"work\", \"work\", \"work\", \"would\", \"would\", \"would\", \"would\", \"would\", \"yankee\", \"year\", \"year\", \"year\", \"year\", \"year\", \"yeast\", \"yeast\"]}, \"R\": 30, \"lambda.step\": 0.01, \"plot.opts\": {\"xlab\": \"PC1\", \"ylab\": \"PC2\"}, \"topic.order\": [4, 1, 5, 2, 3]};\n",
       "\n",
       "function LDAvis_load_lib(url, callback){\n",
       "  var s = document.createElement('script');\n",
       "  s.src = url;\n",
       "  s.async = true;\n",
       "  s.onreadystatechange = s.onload = callback;\n",
       "  s.onerror = function(){console.warn(\"failed to load library \" + url);};\n",
       "  document.getElementsByTagName(\"head\")[0].appendChild(s);\n",
       "}\n",
       "\n",
       "if(typeof(LDAvis) !== \"undefined\"){\n",
       "   // already loaded: just create the visualization\n",
       "   !function(LDAvis){\n",
       "       new LDAvis(\"#\" + \"ldavis_el208046981789285391217969\", ldavis_el208046981789285391217969_data);\n",
       "   }(LDAvis);\n",
       "}else if(typeof define === \"function\" && define.amd){\n",
       "   // require.js is available: use it to load d3/LDAvis\n",
       "   require.config({paths: {d3: \"https://cdnjs.cloudflare.com/ajax/libs/d3/3.5.5/d3.min\"}});\n",
       "   require([\"d3\"], function(d3){\n",
       "      window.d3 = d3;\n",
       "      LDAvis_load_lib(\"https://cdn.rawgit.com/bmabey/pyLDAvis/files/ldavis.v1.0.0.js\", function(){\n",
       "        new LDAvis(\"#\" + \"ldavis_el208046981789285391217969\", ldavis_el208046981789285391217969_data);\n",
       "      });\n",
       "    });\n",
       "}else{\n",
       "    // require.js not available: dynamically load d3 & LDAvis\n",
       "    LDAvis_load_lib(\"https://cdnjs.cloudflare.com/ajax/libs/d3/3.5.5/d3.min.js\", function(){\n",
       "         LDAvis_load_lib(\"https://cdn.rawgit.com/bmabey/pyLDAvis/files/ldavis.v1.0.0.js\", function(){\n",
       "                 new LDAvis(\"#\" + \"ldavis_el208046981789285391217969\", ldavis_el208046981789285391217969_data);\n",
       "            })\n",
       "         });\n",
       "}\n",
       "</script>"
      ],
      "text/plain": [
       "PreparedData(topic_coordinates=            Freq  cluster  topics         x         y\n",
       "topic                                                \n",
       "3      28.069957        1       1 -0.054177  0.025913\n",
       "0      21.783139        1       2 -0.077119  0.041440\n",
       "4      20.084867        1       3  0.160342 -0.116085\n",
       "1      16.739182        1       4 -0.161389 -0.057071\n",
       "2      13.322855        1       5  0.132344  0.105803, topic_info=     Category         Freq         Term        Total  loglift  logprob\n",
       "term                                                                  \n",
       "839   Default   980.000000        space   980.000000  30.0000  30.0000\n",
       "129   Default   706.000000          car   706.000000  29.0000  29.0000\n",
       "459   Default   433.000000       launch   433.000000  28.0000  28.0000\n",
       "352   Default   362.000000         game   362.000000  27.0000  27.0000\n",
       "760   Default   354.000000    satellite   354.000000  26.0000  26.0000\n",
       "564   Default   365.000000         nasa   365.000000  25.0000  25.0000\n",
       "994   Default  1023.000000         year  1023.000000  24.0000  24.0000\n",
       "494   Default   413.000000          mac   413.000000  23.0000  23.0000\n",
       "624   Default   233.000000      patient   233.000000  22.0000  22.0000\n",
       "259   Default   651.000000          edu   651.000000  21.0000  21.0000\n",
       "891   Default   305.000000         team   305.000000  20.0000  20.0000\n",
       "246   Default   490.000000        drive   490.000000  19.0000  19.0000\n",
       "606   Default   259.000000        orbit   259.000000  18.0000  18.0000\n",
       "389   Default   230.000000          hit   230.000000  17.0000  17.0000\n",
       "379   Default   210.000000       health   210.000000  16.0000  16.0000\n",
       "651   Default   212.000000       player   212.000000  15.0000  15.0000\n",
       "522   Default   208.000000      medical   208.000000  14.0000  14.0000\n",
       "544   Default   222.000000      mission   222.000000  13.0000  13.0000\n",
       "754   Default   431.000000          run   431.000000  12.0000  12.0000\n",
       "979   Default   189.000000          win   189.000000  11.0000  11.0000\n",
       "906   Default   892.000000        think   892.000000  10.0000  10.0000\n",
       "456   Default   454.000000         last   454.000000   9.0000   9.0000\n",
       "681   Default   363.000000      program   363.000000   8.0000   8.0000\n",
       "800   Default   202.000000      shuttle   202.000000   7.0000   7.0000\n",
       "650   Default   196.000000         play   196.000000   6.0000   6.0000\n",
       "332   Default   230.000000         food   230.000000   5.0000   5.0000\n",
       "493   Default   188.000000        lunar   188.000000   4.0000   4.0000\n",
       "416   Default   321.000000  information   321.000000   3.0000   3.0000\n",
       "254   Default   241.000000        earth   241.000000   2.0000   2.0000\n",
       "643   Default   163.000000        pitch   163.000000   1.0000   1.0000\n",
       "...       ...          ...          ...          ...      ...      ...\n",
       "431    Topic5    58.825462     internet    88.794877   1.6039  -5.7539\n",
       "417    Topic5    55.512113       injury    85.944404   1.5786  -5.8119\n",
       "864    Topic5    42.741629       street    66.466306   1.5742  -6.0733\n",
       "369    Topic5   143.365636        group   227.372237   1.5545  -4.8631\n",
       "245    Topic5    82.455948           dr   133.224033   1.5359  -5.4162\n",
       "823    Topic5   135.947613     software   235.212999   1.4675  -4.9162\n",
       "929    Topic5    82.625906    treatment   134.978976   1.5249  -5.4142\n",
       "416    Topic5   163.841610  information   321.722327   1.3409  -4.7296\n",
       "732    Topic5   135.500195       report   264.007112   1.3487  -4.9195\n",
       "659    Topic5   191.151582         post   435.948509   1.1912  -4.5754\n",
       "66     Topic5   110.297358      article   202.651432   1.4074  -5.1253\n",
       "498    Topic5   135.606310         mail   283.970337   1.2766  -4.9187\n",
       "239    Topic5   110.628952       doctor   208.138550   1.3837  -5.1223\n",
       "138    Topic5   124.984914       center   273.800096   1.2315  -5.0003\n",
       "15     Topic5    95.556652      address   179.814041   1.3835  -5.2688\n",
       "259    Topic5   182.526150          edu   651.899018   0.7427  -4.6216\n",
       "589    Topic5   137.195754       number   369.129991   1.0259  -4.9071\n",
       "935    Topic5   106.468661         type   226.002586   1.2630  -5.1606\n",
       "945    Topic5   220.109243          use  1272.028323   0.2614  -4.4343\n",
       "652    Topic5   119.237137       please   312.321381   1.0528  -5.0474\n",
       "681    Topic5   123.180809      program   363.578602   0.9333  -5.0148\n",
       "969    Topic5   107.245536         week   267.004958   1.1035  -5.1534\n",
       "736    Topic5   102.958573     research   248.953413   1.1328  -5.1941\n",
       "573    Topic5   133.903116          new   659.323455   0.4216  -4.9314\n",
       "941    Topic5    92.420982   university   190.708642   1.2913  -5.3021\n",
       "515    Topic5   118.032293          may   556.206312   0.4655  -5.0575\n",
       "784    Topic5    96.716080         send   264.936620   1.0080  -5.2567\n",
       "994    Topic5   119.092469         year  1023.684370  -0.1356  -5.0486\n",
       "33     Topic5   108.580224         also   810.162111   0.0059  -5.1410\n",
       "600    Topic5   113.375188          one  1465.170914  -0.5433  -5.0978\n",
       "\n",
       "[333 rows x 6 columns], token_table=      Topic      Freq     Term\n",
       "term                          \n",
       "7         2  0.903816     acid\n",
       "7         3  0.035444     acid\n",
       "7         5  0.053166     acid\n",
       "12        1  0.982488  adapter\n",
       "15        1  0.322555  address\n",
       "15        3  0.139033  address\n",
       "15        4  0.005561  address\n",
       "15        5  0.533885  address\n",
       "16        2  0.049553    adult\n",
       "16        3  0.049553    adult\n",
       "16        5  0.891961    adult\n",
       "25        2  0.024912      aid\n",
       "25        3  0.037368      aid\n",
       "25        5  0.934196      aid\n",
       "30        4  0.984638   alomar\n",
       "33        1  0.280191     also\n",
       "33        2  0.250567     also\n",
       "33        3  0.223412     also\n",
       "33        4  0.112323     also\n",
       "33        5  0.134541     also\n",
       "39        1  0.010405    among\n",
       "39        2  0.020810    among\n",
       "39        3  0.145672    among\n",
       "39        4  0.083241    among\n",
       "39        5  0.749172    among\n",
       "42        2  0.757876   animal\n",
       "42        3  0.017625   animal\n",
       "42        5  0.211500   animal\n",
       "46        2  0.916333     anti\n",
       "46        5  0.063195     anti\n",
       "...     ...       ...      ...\n",
       "974       1  0.985265    wheel\n",
       "974       4  0.015639    wheel\n",
       "975       1  0.151724  whether\n",
       "975       2  0.724905  whether\n",
       "975       3  0.025287  whether\n",
       "975       4  0.042146  whether\n",
       "975       5  0.059004  whether\n",
       "978       1  0.155001     wife\n",
       "978       2  0.826673     wife\n",
       "979       1  0.010535      win\n",
       "979       3  0.010535      win\n",
       "979       4  0.979778      win\n",
       "986       1  0.460328     work\n",
       "986       2  0.261883     work\n",
       "986       3  0.125248     work\n",
       "986       4  0.060184     work\n",
       "986       5  0.092716     work\n",
       "989       1  0.331432    would\n",
       "989       2  0.369562    would\n",
       "989       3  0.067460    would\n",
       "989       4  0.203846    would\n",
       "989       5  0.027131    would\n",
       "992       4  0.970747   yankee\n",
       "994       1  0.099640     year\n",
       "994       2  0.074242     year\n",
       "994       3  0.181697     year\n",
       "994       4  0.528483     year\n",
       "994       5  0.116247     year\n",
       "995       2  0.904183    yeast\n",
       "995       5  0.085300    yeast\n",
       "\n",
       "[847 rows x 3 columns], R=30, lambda_step=0.01, plot_opts={'xlab': 'PC1', 'ylab': 'PC2'}, topic_order=[4, 1, 5, 2, 3])"
      ]
     },
     "execution_count": 11,
     "metadata": {},
     "output_type": "execute_result"
    }
   ],
   "source": [
    "import pyLDAvis.sklearn\n",
    "pyLDAvis.enable_notebook()\n",
    "pyLDAvis.sklearn.prepare(lda, X, cv)"
   ]
  },
  {
   "cell_type": "markdown",
   "metadata": {},
   "source": [
    "## Question\n",
    "\n",
    "* Fit an LDA model with a different number of topics and compare the top 20 words to those from the model above.\n",
    "* Create a different document-term matrix by changing input parameters (max_features, etc.) or by switching to `TfidfVectorizer` and use this to fit another LDA model"
   ]
  },
  {
   "cell_type": "code",
   "execution_count": null,
   "metadata": {
    "collapsed": true
   },
   "outputs": [],
   "source": []
  }
 ],
 "metadata": {
  "kernelspec": {
   "display_name": "Python 3",
   "language": "python",
   "name": "python3"
  },
  "language_info": {
   "codemirror_mode": {
    "name": "ipython",
    "version": 3
   },
   "file_extension": ".py",
   "mimetype": "text/x-python",
   "name": "python",
   "nbconvert_exporter": "python",
   "pygments_lexer": "ipython3",
   "version": "3.6.1"
  }
 },
 "nbformat": 4,
 "nbformat_minor": 1
}
