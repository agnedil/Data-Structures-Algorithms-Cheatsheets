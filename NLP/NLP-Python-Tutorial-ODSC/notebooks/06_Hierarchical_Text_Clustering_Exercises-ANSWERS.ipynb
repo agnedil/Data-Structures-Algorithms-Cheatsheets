{
 "cells": [
  {
   "cell_type": "markdown",
   "metadata": {},
   "source": [
    "<table align=\"left\">\n",
    "<tr>\n",
    "\n",
    "<th, style=\"background-color:white\">\n",
    "<img src=\"https://github.com/mlgill/ODSC_East_2017_PythonNLP/blob/master/assets/logo.png?raw=true\", width=140, height=100>\n",
    "</th>\n",
    "\n",
    "<th, style=\"background-color:white\">\n",
    "<div align=\"left\">\n",
    "<h1>Learning from Text: <br> Introduction to Natural Language Processing with Python</h1>  \n",
    "<h2>Michelle L. Gill, Ph.D.</h2>     \n",
    "Senior Data Scientist, Metis  \n",
    "ODSC East  \n",
    "May 3, 2017 \n",
    "</div>\n",
    "</th>\n",
    "\n",
    "</tr>\n",
    "</table>  "
   ]
  },
  {
   "cell_type": "markdown",
   "metadata": {},
   "source": [
    "## Hierarchical Text Clustering Exercise Answers\n",
    "\n",
    "We will be using a subset of the Reuters data set, which is a collection of 9,603 newswire articles. The training set contains training articles from April 7, 1987 and a test set from the following day (April 8, 1987).\n",
    "\n",
    "This dataset is included with the NLTK corpora, so the initial code will handle loading the data."
   ]
  },
  {
   "cell_type": "code",
   "execution_count": 1,
   "metadata": {
    "ExecuteTime": {
     "end_time": "2017-05-03T10:18:49.148622Z",
     "start_time": "2017-05-03T10:18:47.866462Z"
    },
    "collapsed": true,
    "run_control": {
     "marked": true
    }
   },
   "outputs": [],
   "source": [
    "import numpy as np\n",
    "import pandas as pd\n",
    "import re\n",
    "\n",
    "import matplotlib.pyplot as plt\n",
    "import seaborn as sns\n",
    "sns.set_context('talk')\n",
    "sns.set_style('white')\n",
    "sns.set_palette('dark')\n",
    "\n",
    "import nltk\n",
    "from accessory_functions import nltk_path\n",
    "# Setup nltk corpora path\n",
    "nltk.data.path.insert(0, nltk_path)\n",
    "\n",
    "%matplotlib inline"
   ]
  },
  {
   "cell_type": "markdown",
   "metadata": {},
   "source": [
    "Load the data."
   ]
  },
  {
   "cell_type": "code",
   "execution_count": 2,
   "metadata": {
    "ExecuteTime": {
     "end_time": "2017-05-03T10:18:49.476911Z",
     "start_time": "2017-05-03T10:18:49.150776Z"
    },
    "collapsed": true
   },
   "outputs": [],
   "source": [
    "from nltk.corpus import reuters\n",
    "\n",
    "reuters.ensure_loaded()"
   ]
  },
  {
   "cell_type": "markdown",
   "metadata": {},
   "source": [
    "A function to load the data and create data and category dataframes."
   ]
  },
  {
   "cell_type": "code",
   "execution_count": 3,
   "metadata": {
    "ExecuteTime": {
     "end_time": "2017-05-03T10:18:49.494425Z",
     "start_time": "2017-05-03T10:18:49.478475Z"
    },
    "collapsed": true
   },
   "outputs": [],
   "source": [
    "def load_data(data_obj):\n",
    "    \n",
    "    # Sort the filenames into train and test\n",
    "    category_docs = data_obj.fileids()\n",
    "\n",
    "    # Get the text for the train and test files\n",
    "    text = [data_obj.raw(x) for x in category_docs]\n",
    "\n",
    "    # Create dataframe\n",
    "    data_df = pd.DataFrame({'fileid':category_docs, \n",
    "                             'text':text}).set_index('fileid')\n",
    "\n",
    "    # Load the categories and create a dataframe\n",
    "    category_list = data_obj.categories()\n",
    "\n",
    "    category_dict = [(pd.DataFrame({x: data_obj.fileids(x)})\n",
    "                      .stack()\n",
    "                      .to_frame()\n",
    "                      .reset_index(level=-1))\n",
    "                     for x in category_list]\n",
    "    category_df = pd.concat(category_dict, axis=0).reset_index(drop=True)\n",
    "    category_df.columns = ['category', 'fileid']\n",
    "    category_df = category_df.set_index('category')\n",
    "    \n",
    "    return data_df, category_df"
   ]
  },
  {
   "cell_type": "code",
   "execution_count": 4,
   "metadata": {
    "ExecuteTime": {
     "end_time": "2017-05-03T10:18:52.064254Z",
     "start_time": "2017-05-03T10:18:49.497294Z"
    }
   },
   "outputs": [
    {
     "name": "stdout",
     "output_type": "stream",
     "text": [
      "(10788, 1) (13328, 1)\n"
     ]
    },
    {
     "data": {
      "text/html": [
       "<div>\n",
       "<table border=\"1\" class=\"dataframe\">\n",
       "  <thead>\n",
       "    <tr style=\"text-align: right;\">\n",
       "      <th></th>\n",
       "      <th>text</th>\n",
       "    </tr>\n",
       "    <tr>\n",
       "      <th>fileid</th>\n",
       "      <th></th>\n",
       "    </tr>\n",
       "  </thead>\n",
       "  <tbody>\n",
       "    <tr>\n",
       "      <th>test/14826</th>\n",
       "      <td>ASIAN EXPORTERS FEAR DAMAGE FROM U.S.-JAPAN RI...</td>\n",
       "    </tr>\n",
       "    <tr>\n",
       "      <th>test/14828</th>\n",
       "      <td>CHINA DAILY SAYS VERMIN EAT 7-12 PCT GRAIN STO...</td>\n",
       "    </tr>\n",
       "    <tr>\n",
       "      <th>test/14829</th>\n",
       "      <td>JAPAN TO REVISE LONG-TERM ENERGY DEMAND DOWNWA...</td>\n",
       "    </tr>\n",
       "    <tr>\n",
       "      <th>test/14832</th>\n",
       "      <td>THAI TRADE DEFICIT WIDENS IN FIRST QUARTER\\n  ...</td>\n",
       "    </tr>\n",
       "    <tr>\n",
       "      <th>test/14833</th>\n",
       "      <td>INDONESIA SEES CPO PRICE RISING SHARPLY\\n  Ind...</td>\n",
       "    </tr>\n",
       "  </tbody>\n",
       "</table>\n",
       "</div>"
      ],
      "text/plain": [
       "                                                         text\n",
       "fileid                                                       \n",
       "test/14826  ASIAN EXPORTERS FEAR DAMAGE FROM U.S.-JAPAN RI...\n",
       "test/14828  CHINA DAILY SAYS VERMIN EAT 7-12 PCT GRAIN STO...\n",
       "test/14829  JAPAN TO REVISE LONG-TERM ENERGY DEMAND DOWNWA...\n",
       "test/14832  THAI TRADE DEFICIT WIDENS IN FIRST QUARTER\\n  ...\n",
       "test/14833  INDONESIA SEES CPO PRICE RISING SHARPLY\\n  Ind..."
      ]
     },
     "execution_count": 4,
     "metadata": {},
     "output_type": "execute_result"
    }
   ],
   "source": [
    "data, category = load_data(reuters)\n",
    "\n",
    "print(data.shape, category.shape)\n",
    "\n",
    "data.head(5)"
   ]
  },
  {
   "cell_type": "markdown",
   "metadata": {},
   "source": [
    "Select just the cocoa and coffee articles."
   ]
  },
  {
   "cell_type": "code",
   "execution_count": 5,
   "metadata": {
    "ExecuteTime": {
     "end_time": "2017-05-03T10:18:52.083500Z",
     "start_time": "2017-05-03T10:18:52.066126Z"
    }
   },
   "outputs": [
    {
     "name": "stdout",
     "output_type": "stream",
     "text": [
      "(212, 1) (202, 1)\n"
     ]
    }
   ],
   "source": [
    "cocoa = category.loc['cocoa']\n",
    "coffee = category.loc['coffee']\n",
    "\n",
    "cocoa_data = data.loc[cocoa.fileid]\n",
    "coffee_data = data.loc[coffee.fileid]\n",
    "\n",
    "data_sm = pd.concat([cocoa_data, coffee_data])\n",
    "\n",
    "print(data_sm.shape, data_sm.drop_duplicates().shape)\n",
    "\n",
    "data_sm = data_sm.drop_duplicates().sample(frac=1, replace=False,\n",
    "                                           random_state=42)\n",
    "\n",
    "data = data_sm"
   ]
  },
  {
   "cell_type": "markdown",
   "metadata": {},
   "source": [
    "If you prefer to work with lists rather than Pandas dataframes, they can be created by copying and pasting the following code into a cell. This should be executed after preprocessing the data in Question 1 below.\n",
    "\n",
    "```python\n",
    "data = data.text.tolist()\n",
    "```"
   ]
  },
  {
   "cell_type": "markdown",
   "metadata": {},
   "source": [
    "## Question 1\n",
    "\n",
    "* Preprocess the data using the convenience function in `accessory_functions`\n",
    "* Use count vectorizer to create a document-term matrix with counts"
   ]
  },
  {
   "cell_type": "code",
   "execution_count": 6,
   "metadata": {
    "ExecuteTime": {
     "end_time": "2017-05-03T10:18:55.944704Z",
     "start_time": "2017-05-03T10:18:52.085928Z"
    }
   },
   "outputs": [
    {
     "data": {
      "text/html": [
       "<div>\n",
       "<table border=\"1\" class=\"dataframe\">\n",
       "  <thead>\n",
       "    <tr style=\"text-align: right;\">\n",
       "      <th></th>\n",
       "      <th>text</th>\n",
       "    </tr>\n",
       "    <tr>\n",
       "      <th>fileid</th>\n",
       "      <th></th>\n",
       "    </tr>\n",
       "  </thead>\n",
       "  <tbody>\n",
       "    <tr>\n",
       "      <th>test/20382</th>\n",
       "      <td>ibc seek export detail set coffee quota brazil...</td>\n",
       "    </tr>\n",
       "    <tr>\n",
       "      <th>test/19500</th>\n",
       "      <td>japan ratify international cocoa agreement jap...</td>\n",
       "    </tr>\n",
       "    <tr>\n",
       "      <th>training/10619</th>\n",
       "      <td>japan join international cocoa agreement japan...</td>\n",
       "    </tr>\n",
       "    <tr>\n",
       "      <th>training/3034</th>\n",
       "      <td>uganda disappointed coffee talk failure uganda...</td>\n",
       "    </tr>\n",
       "    <tr>\n",
       "      <th>training/75</th>\n",
       "      <td>ico exporter modify new proposal international...</td>\n",
       "    </tr>\n",
       "  </tbody>\n",
       "</table>\n",
       "</div>"
      ],
      "text/plain": [
       "                                                             text\n",
       "fileid                                                           \n",
       "test/20382      ibc seek export detail set coffee quota brazil...\n",
       "test/19500      japan ratify international cocoa agreement jap...\n",
       "training/10619  japan join international cocoa agreement japan...\n",
       "training/3034   uganda disappointed coffee talk failure uganda...\n",
       "training/75     ico exporter modify new proposal international..."
      ]
     },
     "execution_count": 6,
     "metadata": {},
     "output_type": "execute_result"
    }
   ],
   "source": [
    "from accessory_functions import preprocess_series_text\n",
    "\n",
    "data['text'] = preprocess_series_text(data.text, \n",
    "                                      nltk_path=nltk_path)\n",
    "data.head()"
   ]
  },
  {
   "cell_type": "markdown",
   "metadata": {},
   "source": [
    "The document-term matrix."
   ]
  },
  {
   "cell_type": "code",
   "execution_count": 7,
   "metadata": {
    "ExecuteTime": {
     "end_time": "2017-05-03T10:18:56.003016Z",
     "start_time": "2017-05-03T10:18:55.946775Z"
    }
   },
   "outputs": [
    {
     "name": "stdout",
     "output_type": "stream",
     "text": [
      "(202, 3126)\n"
     ]
    }
   ],
   "source": [
    "from sklearn.feature_extraction.text import CountVectorizer\n",
    "\n",
    "cv = CountVectorizer()\n",
    "X = cv.fit_transform(data.text)\n",
    "\n",
    "print(X.toarray().shape)"
   ]
  },
  {
   "cell_type": "markdown",
   "metadata": {},
   "source": [
    "## Question 2\n",
    "\n",
    "* Perform clustering on a few of the documents using either cosine distance (1 - cosine_similarity) or Euclidean distance.\n",
    "* Plot the results in a dendrogram."
   ]
  },
  {
   "cell_type": "code",
   "execution_count": 8,
   "metadata": {
    "ExecuteTime": {
     "end_time": "2017-05-03T10:18:56.011938Z",
     "start_time": "2017-05-03T10:18:56.006015Z"
    },
    "collapsed": true
   },
   "outputs": [],
   "source": [
    "from scipy.cluster.hierarchy import ward, dendrogram, fcluster\n",
    "from sklearn.metrics.pairwise import cosine_similarity"
   ]
  },
  {
   "cell_type": "code",
   "execution_count": 9,
   "metadata": {
    "ExecuteTime": {
     "end_time": "2017-05-03T10:18:56.023723Z",
     "start_time": "2017-05-03T10:18:56.014353Z"
    },
    "collapsed": true
   },
   "outputs": [],
   "source": [
    "cos_dist = 1 - cosine_similarity(X[:25])"
   ]
  },
  {
   "cell_type": "code",
   "execution_count": 10,
   "metadata": {
    "ExecuteTime": {
     "end_time": "2017-05-03T10:18:56.042418Z",
     "start_time": "2017-05-03T10:18:56.026389Z"
    },
    "collapsed": true
   },
   "outputs": [],
   "source": [
    "linkage_matrix = ward(cos_dist)"
   ]
  },
  {
   "cell_type": "code",
   "execution_count": 11,
   "metadata": {
    "ExecuteTime": {
     "end_time": "2017-05-03T10:18:56.380866Z",
     "start_time": "2017-05-03T10:18:56.046406Z"
    }
   },
   "outputs": [
    {
     "data": {
      "image/png": "[encoded data removed]",
      "text/plain": [
       "<matplotlib.figure.Figure at 0x116927da0>"
      ]
     },
     "metadata": {},
     "output_type": "display_data"
    }
   ],
   "source": [
    "dendrogram(linkage_matrix, orientation='left');"
   ]
  },
  {
   "cell_type": "markdown",
   "metadata": {},
   "source": [
    "## Question 3\n",
    "\n",
    "* Get the flattened clusters for one of the linkage matrices using `fcluster`\n",
    "* Using the cluster number, print some of each of the articles in the respective clusters"
   ]
  },
  {
   "cell_type": "markdown",
   "metadata": {},
   "source": [
    "The flattened clusters."
   ]
  },
  {
   "cell_type": "code",
   "execution_count": 12,
   "metadata": {
    "ExecuteTime": {
     "end_time": "2017-05-03T10:18:56.388894Z",
     "start_time": "2017-05-03T10:18:56.382378Z"
    }
   },
   "outputs": [
    {
     "data": {
      "text/plain": [
       "array([2, 1, 1, 2, 2, 2, 1, 2, 2, 2, 2, 2, 2, 2, 2, 2, 1, 2, 2, 1, 2, 2, 2,\n",
       "       2, 1], dtype=int32)"
      ]
     },
     "execution_count": 12,
     "metadata": {},
     "output_type": "execute_result"
    }
   ],
   "source": [
    "k=2\n",
    "clusters = fcluster(linkage_matrix, k, criterion='maxclust')\n",
    "clusters"
   ]
  },
  {
   "cell_type": "markdown",
   "metadata": {},
   "source": [
    "The first cluster is about cocoa."
   ]
  },
  {
   "cell_type": "code",
   "execution_count": 13,
   "metadata": {
    "ExecuteTime": {
     "end_time": "2017-05-03T10:18:56.406235Z",
     "start_time": "2017-05-03T10:18:56.394368Z"
    }
   },
   "outputs": [
    {
     "data": {
      "text/plain": [
       "array([ 'japan ratify international cocoa agreement japan ratify international cocoa agre',\n",
       "       'japan join international cocoa agreement japan process join international cocoa ',\n",
       "       'cocoa talk slow crucial stage delegate international cocoa organization icco tal',\n",
       "       'icco examine buffer stock proposal tomorrrow international cocoa organization ic',\n",
       "       'haiti czechoslovakia join cocoa organization haiti czechoslovakia join internati',\n",
       "       'icco put world cocoa surplus tonne vs delegate icco put world cocoa surplus tonn'], dtype=object)"
      ]
     },
     "execution_count": 13,
     "metadata": {},
     "output_type": "execute_result"
    }
   ],
   "source": [
    "mask = clusters == 1\n",
    "data.text.loc[mask].map(lambda x: x[:80]).values"
   ]
  },
  {
   "cell_type": "markdown",
   "metadata": {},
   "source": [
    "The second cluster is about coffee."
   ]
  },
  {
   "cell_type": "code",
   "execution_count": 14,
   "metadata": {
    "ExecuteTime": {
     "end_time": "2017-05-03T10:18:56.416242Z",
     "start_time": "2017-05-03T10:18:56.408547Z"
    }
   },
   "outputs": [
    {
     "data": {
      "text/plain": [
       "array([ 'ibc seek export detail set coffee quota brazilian coffee institute ibc give ship',\n",
       "       'uganda disappointed coffee talk failure uganda africa second large coffee produc',\n",
       "       'ico exporter modify new proposal international coffee organization ico exporter ',\n",
       "       'ico coffee producer discuss market situation international coffee organization i',\n",
       "       'colombia open april may coffee registration colombia open coffee export registra',\n",
       "       'brazil treasury release coffee buying fund treasury department due release fund ',\n",
       "       'indonesian tea cocoa export see coffee indonesia export tea cocoa continue rise ',\n",
       "       'ghana cocoa purchase still ahead last year ghana cocoa board say purchase tonne ',\n",
       "       'producer split heat coffee quota talk talk possibility reintroduce global coffee',\n",
       "       'indonesia press compromise coffee indonesian coffee exporter prepare period depr',\n",
       "       'price generally low nairobi coffee auction price low week coffee auction grade q',\n",
       "       'colombia coffee revenue sharply jan feb colombia coffee export revenue drop mln ',\n",
       "       'dauster say change brazil coffee policy brazil announce change coffee export pol',\n",
       "       'coffee quota talk continue accord see likely international coffee organization i',\n",
       "       'paton report u green coffee roasting higher u roasting green coffee week end apr',\n",
       "       'coffee future dlr pound six year low coffee future dip close one dlr pound first',\n",
       "       'ivory coast weather problem crop ivory coast rainfall season less previous year ',\n",
       "       'csce put additional margin july coffee additional margin dlrs require july deliv',\n",
       "       'dauster say consumer keep quota consumer country intervene distribution coffee e'], dtype=object)"
      ]
     },
     "execution_count": 14,
     "metadata": {},
     "output_type": "execute_result"
    }
   ],
   "source": [
    "mask2 = np.invert(mask)\n",
    "data.text.loc[mask2].map(lambda x: x[:80]).values"
   ]
  }
 ],
 "metadata": {
  "kernelspec": {
   "display_name": "Python 3",
   "language": "python",
   "name": "python3"
  },
  "language_info": {
   "codemirror_mode": {
    "name": "ipython",
    "version": 3
   },
   "file_extension": ".py",
   "mimetype": "text/x-python",
   "name": "python",
   "nbconvert_exporter": "python",
   "pygments_lexer": "ipython3",
   "version": "3.6.1"
  }
 },
 "nbformat": 4,
 "nbformat_minor": 1
}
